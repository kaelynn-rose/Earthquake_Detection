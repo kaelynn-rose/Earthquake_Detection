{
 "cells": [
  {
   "cell_type": "code",
   "execution_count": 84,
   "id": "4eff2a1e-76fb-440d-8b90-319216479c7f",
   "metadata": {
    "editable": true,
    "slideshow": {
     "slide_type": ""
    },
    "tags": []
   },
   "outputs": [],
   "source": [
    "import gc\n",
    "import sys\n",
    "sys.path.append('../../../')\n",
    "\n",
    "import matplotlib.pyplot as plt\n",
    "import numpy as np\n",
    "import pandas as pd\n",
    "import tensorflow as tf\n",
    "\n",
    "from PIL import Image\n",
    "from sklearn.model_selection import train_test_split\n",
    "from sklearn.metrics import accuracy_score, precision_score, recall_score, mean_squared_error, roc_curve, auc\n",
    "from sklearn.metrics import confusion_matrix, ConfusionMatrixDisplay"
   ]
  },
  {
   "cell_type": "code",
   "execution_count": 2,
   "id": "f40ef843-1794-4746-ba48-e4290aa4de67",
   "metadata": {},
   "outputs": [
    {
     "data": {
      "text/plain": [
       "<contextlib.ExitStack at 0x1796c1ac0>"
      ]
     },
     "execution_count": 2,
     "metadata": {},
     "output_type": "execute_result"
    }
   ],
   "source": [
    "plt.ioff() # Turn off matplotlib interactive mode. Prevents  memory leakage."
   ]
  },
  {
   "cell_type": "code",
   "execution_count": 3,
   "id": "ce97b4d0-db77-460c-8dba-8fead45496e7",
   "metadata": {
    "editable": true,
    "slideshow": {
     "slide_type": ""
    },
    "tags": []
   },
   "outputs": [],
   "source": [
    "# Load extracted raw signals\n",
    "raw_signals = np.load('../../../data/STEAD/extracted_raw_signals_subsample_100000.npy')\n",
    "\n",
    "# Load created waveform images\n",
    "waveform_imgs = np.load('../../../data/STEAD/created_waveform_images_subsample_100000.npy')\n",
    "\n",
    "# Load created spectrogram images\n",
    "spectrogram_imgs = np.load('../../../data/STEAD/created_spectrogram_images_subsample_100000.npy')\n",
    "\n",
    "# Load extracted raw signals\n",
    "metadata = pd.read_feather('../../../data/STEAD/extracted_metadata_subsample_100000.feather')\n",
    "metadata = metadata.reset_index()"
   ]
  },
  {
   "cell_type": "code",
   "execution_count": 4,
   "id": "30f1fd56-026c-49f8-bf08-6ee10c850455",
   "metadata": {
    "editable": true,
    "slideshow": {
     "slide_type": ""
    },
    "tags": []
   },
   "outputs": [],
   "source": [
    "subsample_indices = np.random.choice(len(spectrogram_imgs), size=2000)\n",
    "subsample_imgs = spectrogram_imgs[subsample_indices]\n",
    "subsample_metadata = metadata.iloc[subsample_indices]"
   ]
  },
  {
   "cell_type": "code",
   "execution_count": 5,
   "id": "9e1c5c93-98c9-45f5-b516-001c6efe73d6",
   "metadata": {
    "editable": true,
    "slideshow": {
     "slide_type": ""
    },
    "tags": []
   },
   "outputs": [
    {
     "data": {
      "text/html": [
       "<div>\n",
       "<style scoped>\n",
       "    .dataframe tbody tr th:only-of-type {\n",
       "        vertical-align: middle;\n",
       "    }\n",
       "\n",
       "    .dataframe tbody tr th {\n",
       "        vertical-align: top;\n",
       "    }\n",
       "\n",
       "    .dataframe thead th {\n",
       "        text-align: right;\n",
       "    }\n",
       "</style>\n",
       "<table border=\"1\" class=\"dataframe\">\n",
       "  <thead>\n",
       "    <tr style=\"text-align: right;\">\n",
       "      <th></th>\n",
       "      <th>trace_name</th>\n",
       "      <th>network_code</th>\n",
       "      <th>receiver_code</th>\n",
       "      <th>receiver_type</th>\n",
       "      <th>receiver_latitude</th>\n",
       "      <th>receiver_longitude</th>\n",
       "      <th>receiver_elevation_m</th>\n",
       "      <th>p_arrival_sample</th>\n",
       "      <th>p_status</th>\n",
       "      <th>p_weight</th>\n",
       "      <th>...</th>\n",
       "      <th>source_magnitude_author</th>\n",
       "      <th>source_mechanism_strike_dip_rake</th>\n",
       "      <th>source_distance_deg</th>\n",
       "      <th>source_distance_km</th>\n",
       "      <th>back_azimuth_deg</th>\n",
       "      <th>snr_db</th>\n",
       "      <th>coda_end_sample</th>\n",
       "      <th>trace_start_time</th>\n",
       "      <th>trace_category</th>\n",
       "      <th>chunk</th>\n",
       "    </tr>\n",
       "  </thead>\n",
       "  <tbody>\n",
       "    <tr>\n",
       "      <th>61015</th>\n",
       "      <td>B918.PB_20150825065113_EV</td>\n",
       "      <td>PB</td>\n",
       "      <td>B918</td>\n",
       "      <td>EH</td>\n",
       "      <td>35.935700</td>\n",
       "      <td>-117.601700</td>\n",
       "      <td>1042.6</td>\n",
       "      <td>700.0</td>\n",
       "      <td>autopicker</td>\n",
       "      <td>0.88</td>\n",
       "      <td>...</td>\n",
       "      <td>None</td>\n",
       "      <td>None</td>\n",
       "      <td>0.37130</td>\n",
       "      <td>41.29</td>\n",
       "      <td>136.9</td>\n",
       "      <td>[28.89999962 31.5        34.29999924]</td>\n",
       "      <td>[[1814.]]</td>\n",
       "      <td>51:14.3</td>\n",
       "      <td>earthquake_local</td>\n",
       "      <td>4</td>\n",
       "    </tr>\n",
       "    <tr>\n",
       "      <th>80092</th>\n",
       "      <td>RSDD.HV_20180731120544_EV</td>\n",
       "      <td>HV</td>\n",
       "      <td>RSDD</td>\n",
       "      <td>EH</td>\n",
       "      <td>19.460170</td>\n",
       "      <td>-155.275330</td>\n",
       "      <td>1296.0</td>\n",
       "      <td>597.0</td>\n",
       "      <td>autopicker</td>\n",
       "      <td>0.92</td>\n",
       "      <td>...</td>\n",
       "      <td>None</td>\n",
       "      <td>None</td>\n",
       "      <td>0.06575</td>\n",
       "      <td>7.32</td>\n",
       "      <td>171.0</td>\n",
       "      <td>[25.         21.70000076 19.20000076]</td>\n",
       "      <td>[[1635.]]</td>\n",
       "      <td>05:45.8</td>\n",
       "      <td>earthquake_local</td>\n",
       "      <td>5</td>\n",
       "    </tr>\n",
       "    <tr>\n",
       "      <th>16965</th>\n",
       "      <td>KNW.AZ_20030224082702_EV</td>\n",
       "      <td>AZ</td>\n",
       "      <td>KNW</td>\n",
       "      <td>HH</td>\n",
       "      <td>33.714100</td>\n",
       "      <td>-116.711900</td>\n",
       "      <td>1507.0</td>\n",
       "      <td>900.0</td>\n",
       "      <td>manual</td>\n",
       "      <td>0.38</td>\n",
       "      <td>...</td>\n",
       "      <td>None</td>\n",
       "      <td>None</td>\n",
       "      <td>0.61220</td>\n",
       "      <td>67.95</td>\n",
       "      <td>349.2</td>\n",
       "      <td>[54.5        56.20000076 54.40000153]</td>\n",
       "      <td>[[2792.]]</td>\n",
       "      <td>2003-02-24 08:27:02.960000</td>\n",
       "      <td>earthquake_local</td>\n",
       "      <td>2</td>\n",
       "    </tr>\n",
       "    <tr>\n",
       "      <th>35827</th>\n",
       "      <td>GDXB.NC_20120708073612_EV</td>\n",
       "      <td>NC</td>\n",
       "      <td>GDXB</td>\n",
       "      <td>HH</td>\n",
       "      <td>38.807968</td>\n",
       "      <td>-122.795303</td>\n",
       "      <td>939.0</td>\n",
       "      <td>497.0</td>\n",
       "      <td>autopicker</td>\n",
       "      <td>0.84</td>\n",
       "      <td>...</td>\n",
       "      <td>NC</td>\n",
       "      <td>None</td>\n",
       "      <td>0.05405</td>\n",
       "      <td>6.04</td>\n",
       "      <td>103.0</td>\n",
       "      <td>[12.30000019  9.89999962 12.19999981]</td>\n",
       "      <td>[[1454.]]</td>\n",
       "      <td>2012-07-08 07:36:13.860000</td>\n",
       "      <td>earthquake_local</td>\n",
       "      <td>3</td>\n",
       "    </tr>\n",
       "    <tr>\n",
       "      <th>35656</th>\n",
       "      <td>GDXB.NC_20171204151902_EV</td>\n",
       "      <td>NC</td>\n",
       "      <td>GDXB</td>\n",
       "      <td>HH</td>\n",
       "      <td>38.807968</td>\n",
       "      <td>-122.795303</td>\n",
       "      <td>939.0</td>\n",
       "      <td>500.0</td>\n",
       "      <td>autopicker</td>\n",
       "      <td>0.93</td>\n",
       "      <td>...</td>\n",
       "      <td>None</td>\n",
       "      <td>None</td>\n",
       "      <td>0.01918</td>\n",
       "      <td>2.13</td>\n",
       "      <td>54.0</td>\n",
       "      <td>[35.09999847 31.29999924 33.79999924]</td>\n",
       "      <td>[[1220.]]</td>\n",
       "      <td>2017-12-04 15:19:03.350000</td>\n",
       "      <td>earthquake_local</td>\n",
       "      <td>3</td>\n",
       "    </tr>\n",
       "    <tr>\n",
       "      <th>...</th>\n",
       "      <td>...</td>\n",
       "      <td>...</td>\n",
       "      <td>...</td>\n",
       "      <td>...</td>\n",
       "      <td>...</td>\n",
       "      <td>...</td>\n",
       "      <td>...</td>\n",
       "      <td>...</td>\n",
       "      <td>...</td>\n",
       "      <td>...</td>\n",
       "      <td>...</td>\n",
       "      <td>...</td>\n",
       "      <td>...</td>\n",
       "      <td>...</td>\n",
       "      <td>...</td>\n",
       "      <td>...</td>\n",
       "      <td>...</td>\n",
       "      <td>...</td>\n",
       "      <td>...</td>\n",
       "      <td>...</td>\n",
       "      <td>...</td>\n",
       "    </tr>\n",
       "    <tr>\n",
       "      <th>29284</th>\n",
       "      <td>MTP.PR_20140915003734_EV</td>\n",
       "      <td>PR</td>\n",
       "      <td>MTP</td>\n",
       "      <td>BH</td>\n",
       "      <td>18.097250</td>\n",
       "      <td>-65.552719</td>\n",
       "      <td>191.0</td>\n",
       "      <td>900.0</td>\n",
       "      <td>manual</td>\n",
       "      <td>0.50</td>\n",
       "      <td>...</td>\n",
       "      <td>None</td>\n",
       "      <td>None</td>\n",
       "      <td>1.56000</td>\n",
       "      <td>173.91</td>\n",
       "      <td>177.8</td>\n",
       "      <td>[        nan 19.70000076 20.29999924]</td>\n",
       "      <td>[[5900.]]</td>\n",
       "      <td>2014-09-15 00:37:35.270000</td>\n",
       "      <td>earthquake_local</td>\n",
       "      <td>2</td>\n",
       "    </tr>\n",
       "    <tr>\n",
       "      <th>65232</th>\n",
       "      <td>PRK.HL_20120327144450_EV</td>\n",
       "      <td>HL</td>\n",
       "      <td>PRK</td>\n",
       "      <td>HH</td>\n",
       "      <td>39.245650</td>\n",
       "      <td>26.264990</td>\n",
       "      <td>130.0</td>\n",
       "      <td>600.0</td>\n",
       "      <td>manual</td>\n",
       "      <td>0.50</td>\n",
       "      <td>...</td>\n",
       "      <td>None</td>\n",
       "      <td>None</td>\n",
       "      <td>0.40000</td>\n",
       "      <td>43.99</td>\n",
       "      <td>155.1</td>\n",
       "      <td>[41.29999924 36.         34.59999847]</td>\n",
       "      <td>[[2491.]]</td>\n",
       "      <td>44:51.6</td>\n",
       "      <td>earthquake_local</td>\n",
       "      <td>5</td>\n",
       "    </tr>\n",
       "    <tr>\n",
       "      <th>97299</th>\n",
       "      <td>ARK2.7F_20100729202254_NO</td>\n",
       "      <td>7F</td>\n",
       "      <td>ARK2</td>\n",
       "      <td>EH</td>\n",
       "      <td>35.334099</td>\n",
       "      <td>-92.298203</td>\n",
       "      <td>212.0</td>\n",
       "      <td>NaN</td>\n",
       "      <td>None</td>\n",
       "      <td>NaN</td>\n",
       "      <td>...</td>\n",
       "      <td>None</td>\n",
       "      <td>None</td>\n",
       "      <td>NaN</td>\n",
       "      <td>NaN</td>\n",
       "      <td>NaN</td>\n",
       "      <td>None</td>\n",
       "      <td>None</td>\n",
       "      <td>2010-07-29 20:22:54</td>\n",
       "      <td>noise</td>\n",
       "      <td>6</td>\n",
       "    </tr>\n",
       "    <tr>\n",
       "      <th>63707</th>\n",
       "      <td>SCZ.BK_20131124220635_EV</td>\n",
       "      <td>BK</td>\n",
       "      <td>SCZ</td>\n",
       "      <td>HH</td>\n",
       "      <td>36.598000</td>\n",
       "      <td>-121.403000</td>\n",
       "      <td>261.0</td>\n",
       "      <td>900.0</td>\n",
       "      <td>manual</td>\n",
       "      <td>0.00</td>\n",
       "      <td>...</td>\n",
       "      <td>None</td>\n",
       "      <td>None</td>\n",
       "      <td>0.24320</td>\n",
       "      <td>26.98</td>\n",
       "      <td>352.1</td>\n",
       "      <td>[24.10000038 16.70000076 16.60000038]</td>\n",
       "      <td>[[1972.]]</td>\n",
       "      <td>06:36.8</td>\n",
       "      <td>earthquake_local</td>\n",
       "      <td>5</td>\n",
       "    </tr>\n",
       "    <tr>\n",
       "      <th>55693</th>\n",
       "      <td>B918.PB_20180307112420_EV</td>\n",
       "      <td>PB</td>\n",
       "      <td>B918</td>\n",
       "      <td>EH</td>\n",
       "      <td>35.935700</td>\n",
       "      <td>-117.601700</td>\n",
       "      <td>1042.6</td>\n",
       "      <td>500.0</td>\n",
       "      <td>manual</td>\n",
       "      <td>0.63</td>\n",
       "      <td>...</td>\n",
       "      <td>None</td>\n",
       "      <td>None</td>\n",
       "      <td>0.30970</td>\n",
       "      <td>34.44</td>\n",
       "      <td>303.9</td>\n",
       "      <td>[23.         23.39999962 26.39999962]</td>\n",
       "      <td>[[1911.]]</td>\n",
       "      <td>24:21.8</td>\n",
       "      <td>earthquake_local</td>\n",
       "      <td>4</td>\n",
       "    </tr>\n",
       "  </tbody>\n",
       "</table>\n",
       "<p>2000 rows × 36 columns</p>\n",
       "</div>"
      ],
      "text/plain": [
       "                      trace_name network_code receiver_code receiver_type  \\\n",
       "61015  B918.PB_20150825065113_EV           PB          B918            EH   \n",
       "80092  RSDD.HV_20180731120544_EV           HV          RSDD            EH   \n",
       "16965   KNW.AZ_20030224082702_EV           AZ           KNW            HH   \n",
       "35827  GDXB.NC_20120708073612_EV           NC          GDXB            HH   \n",
       "35656  GDXB.NC_20171204151902_EV           NC          GDXB            HH   \n",
       "...                          ...          ...           ...           ...   \n",
       "29284   MTP.PR_20140915003734_EV           PR           MTP            BH   \n",
       "65232   PRK.HL_20120327144450_EV           HL           PRK            HH   \n",
       "97299  ARK2.7F_20100729202254_NO           7F          ARK2            EH   \n",
       "63707   SCZ.BK_20131124220635_EV           BK           SCZ            HH   \n",
       "55693  B918.PB_20180307112420_EV           PB          B918            EH   \n",
       "\n",
       "       receiver_latitude  receiver_longitude  receiver_elevation_m  \\\n",
       "61015          35.935700         -117.601700                1042.6   \n",
       "80092          19.460170         -155.275330                1296.0   \n",
       "16965          33.714100         -116.711900                1507.0   \n",
       "35827          38.807968         -122.795303                 939.0   \n",
       "35656          38.807968         -122.795303                 939.0   \n",
       "...                  ...                 ...                   ...   \n",
       "29284          18.097250          -65.552719                 191.0   \n",
       "65232          39.245650           26.264990                 130.0   \n",
       "97299          35.334099          -92.298203                 212.0   \n",
       "63707          36.598000         -121.403000                 261.0   \n",
       "55693          35.935700         -117.601700                1042.6   \n",
       "\n",
       "       p_arrival_sample    p_status  p_weight  ...  source_magnitude_author  \\\n",
       "61015             700.0  autopicker      0.88  ...                     None   \n",
       "80092             597.0  autopicker      0.92  ...                     None   \n",
       "16965             900.0      manual      0.38  ...                     None   \n",
       "35827             497.0  autopicker      0.84  ...                       NC   \n",
       "35656             500.0  autopicker      0.93  ...                     None   \n",
       "...                 ...         ...       ...  ...                      ...   \n",
       "29284             900.0      manual      0.50  ...                     None   \n",
       "65232             600.0      manual      0.50  ...                     None   \n",
       "97299               NaN        None       NaN  ...                     None   \n",
       "63707             900.0      manual      0.00  ...                     None   \n",
       "55693             500.0      manual      0.63  ...                     None   \n",
       "\n",
       "       source_mechanism_strike_dip_rake source_distance_deg  \\\n",
       "61015                              None             0.37130   \n",
       "80092                              None             0.06575   \n",
       "16965                              None             0.61220   \n",
       "35827                              None             0.05405   \n",
       "35656                              None             0.01918   \n",
       "...                                 ...                 ...   \n",
       "29284                              None             1.56000   \n",
       "65232                              None             0.40000   \n",
       "97299                              None                 NaN   \n",
       "63707                              None             0.24320   \n",
       "55693                              None             0.30970   \n",
       "\n",
       "       source_distance_km back_azimuth_deg  \\\n",
       "61015               41.29            136.9   \n",
       "80092                7.32            171.0   \n",
       "16965               67.95            349.2   \n",
       "35827                6.04            103.0   \n",
       "35656                2.13             54.0   \n",
       "...                   ...              ...   \n",
       "29284              173.91            177.8   \n",
       "65232               43.99            155.1   \n",
       "97299                 NaN              NaN   \n",
       "63707               26.98            352.1   \n",
       "55693               34.44            303.9   \n",
       "\n",
       "                                      snr_db  coda_end_sample  \\\n",
       "61015  [28.89999962 31.5        34.29999924]        [[1814.]]   \n",
       "80092  [25.         21.70000076 19.20000076]        [[1635.]]   \n",
       "16965  [54.5        56.20000076 54.40000153]        [[2792.]]   \n",
       "35827  [12.30000019  9.89999962 12.19999981]        [[1454.]]   \n",
       "35656  [35.09999847 31.29999924 33.79999924]        [[1220.]]   \n",
       "...                                      ...              ...   \n",
       "29284  [        nan 19.70000076 20.29999924]        [[5900.]]   \n",
       "65232  [41.29999924 36.         34.59999847]        [[2491.]]   \n",
       "97299                                   None             None   \n",
       "63707  [24.10000038 16.70000076 16.60000038]        [[1972.]]   \n",
       "55693  [23.         23.39999962 26.39999962]        [[1911.]]   \n",
       "\n",
       "                 trace_start_time    trace_category  chunk  \n",
       "61015                     51:14.3  earthquake_local      4  \n",
       "80092                     05:45.8  earthquake_local      5  \n",
       "16965  2003-02-24 08:27:02.960000  earthquake_local      2  \n",
       "35827  2012-07-08 07:36:13.860000  earthquake_local      3  \n",
       "35656  2017-12-04 15:19:03.350000  earthquake_local      3  \n",
       "...                           ...               ...    ...  \n",
       "29284  2014-09-15 00:37:35.270000  earthquake_local      2  \n",
       "65232                     44:51.6  earthquake_local      5  \n",
       "97299         2010-07-29 20:22:54             noise      6  \n",
       "63707                     06:36.8  earthquake_local      5  \n",
       "55693                     24:21.8  earthquake_local      4  \n",
       "\n",
       "[2000 rows x 36 columns]"
      ]
     },
     "execution_count": 5,
     "metadata": {},
     "output_type": "execute_result"
    }
   ],
   "source": [
    "subsample_metadata"
   ]
  },
  {
   "cell_type": "code",
   "execution_count": 6,
   "id": "e8a05de6-0365-4c0c-ac3e-cefe18028faf",
   "metadata": {
    "editable": true,
    "slideshow": {
     "slide_type": ""
    },
    "tags": []
   },
   "outputs": [],
   "source": [
    "labels = [1 if label=='earthquake_local' else 0 for label in subsample_metadata['trace_category']]"
   ]
  },
  {
   "cell_type": "code",
   "execution_count": 7,
   "id": "fe738500-bb0d-4eb7-bb50-9bfc25499760",
   "metadata": {},
   "outputs": [],
   "source": [
    "def cnn_image_preprocessing(image, image_size=(300,200)):\n",
    "    image = tf.image.resize(image, image_size)  # Resize image\n",
    "    image = tf.cast(image, tf.float32) / 255.0  # Normalize to [0, 1]\n",
    "    return image"
   ]
  },
  {
   "cell_type": "code",
   "execution_count": 8,
   "id": "3d7ee43b-416b-4e58-aed4-07bbe3e344db",
   "metadata": {
    "editable": true,
    "slideshow": {
     "slide_type": ""
    },
    "tags": []
   },
   "outputs": [],
   "source": [
    "X_train, X_test, y_train, y_test = train_test_split(subsample_imgs, labels, random_state=0, test_size=0.25)\n",
    "X_train, X_val, y_train, y_val = train_test_split(X_train, y_train, random_state=0, test_size=0.25)"
   ]
  },
  {
   "cell_type": "code",
   "execution_count": 9,
   "id": "c06f416b-2977-49ba-93d5-858145d57523",
   "metadata": {},
   "outputs": [],
   "source": [
    "train_dataset = tf.data.Dataset.from_tensor_slices((X_train, y_train))\n",
    "val_dataset = tf.data.Dataset.from_tensor_slices((X_val, y_val))\n",
    "test_dataset = tf.data.Dataset.from_tensor_slices((X_test, y_test))"
   ]
  },
  {
   "cell_type": "code",
   "execution_count": 10,
   "id": "525f7058-37b9-46b1-b6d6-16bd926fed0c",
   "metadata": {},
   "outputs": [],
   "source": [
    "train_dataset = train_dataset.map(lambda x, y: (cnn_image_preprocessing(x), y))\n",
    "val_dataset = val_dataset.map(lambda x, y: (cnn_image_preprocessing(x), y))\n",
    "test_dataset = test_dataset.map(lambda x, y: (cnn_image_preprocessing(x), y))"
   ]
  },
  {
   "cell_type": "code",
   "execution_count": 11,
   "id": "0fd9898e-2c14-47e1-9efd-e78593637fe3",
   "metadata": {},
   "outputs": [],
   "source": [
    "train_dataset = train_dataset.shuffle(buffer_size=1000).batch(32).prefetch(tf.data.experimental.AUTOTUNE)\n",
    "val_dataset = val_dataset.batch(32).prefetch(tf.data.experimental.AUTOTUNE)\n",
    "test_dataset = test_dataset.batch(32).prefetch(tf.data.experimental.AUTOTUNE)"
   ]
  },
  {
   "cell_type": "code",
   "execution_count": 16,
   "id": "b27c6ba3-2f24-43b0-84e7-e53188850d61",
   "metadata": {},
   "outputs": [],
   "source": [
    "# Callback to stop model training early if loss stops improving\n",
    "early_stopping = tf.keras.callbacks.EarlyStopping(\n",
    "    monitor='val_classification_loss',    \n",
    "    mode='min',\n",
    "    patience=5,                # number of epochs to wait for improvement\n",
    "    restore_best_weights=True, # restore the best weights once training stops\n",
    "    verbose=1                 \n",
    ")\n",
    "\n",
    "# Callback to reduce learning rate if loss stops improving\n",
    "reduce_lr = tf.keras.callbacks.ReduceLROnPlateau(\n",
    "    monitor='val_classification_loss', \n",
    "    factor=0.1,                # the factor by which the learning rate will be reduced\n",
    "    patience=2,                # number of epochs to wait for improvement\n",
    "    verbose=1\n",
    ")\n",
    "\n",
    "checkpoint = tf.keras.callbacks.ModelCheckpoint(\n",
    "    'best_model.keras', \n",
    "    monitor='val_loss', \n",
    "    save_best_only=True        # save only the best model\n",
    ")\n",
    "\n",
    "callbacks = [\n",
    "    early_stopping,\n",
    "    reduce_lr,\n",
    "    checkpoint\n",
    "]"
   ]
  },
  {
   "cell_type": "code",
   "execution_count": 110,
   "id": "bc8edee1-a0c8-4147-a00c-2a98afd3e204",
   "metadata": {},
   "outputs": [],
   "source": [
    "model = tf.keras.Sequential([\n",
    "    tf.keras.layers.Conv2D(32, kernel_size=(5, 5), activation='relu', padding='same'),\n",
    "    tf.keras.layers.MaxPooling2D((2, 2)),\n",
    "    tf.keras.layers.Dropout(0.25),\n",
    "    tf.keras.layers.Flatten(),\n",
    "    tf.keras.layers.Dense(64, activation='relu'),\n",
    "    tf.keras.layers.Dense(16, activation='relu'),\n",
    "    tf.keras.layers.Dense(2, activation='softmax')  # 10 output classes\n",
    "])"
   ]
  },
  {
   "cell_type": "code",
   "execution_count": 111,
   "id": "d05c9942-a712-454a-a56d-61e8ec084e77",
   "metadata": {},
   "outputs": [
    {
     "name": "stdout",
     "output_type": "stream",
     "text": [
      "Epoch 1/5\n",
      "\u001b[1m36/36\u001b[0m \u001b[32m━━━━━━━━━━━━━━━━━━━━\u001b[0m\u001b[37m\u001b[0m \u001b[1m29s\u001b[0m 740ms/step - accuracy: 0.5874 - loss: 0.6361 - val_accuracy: 0.8080 - val_loss: 0.4776 - learning_rate: 1.0000e-06\n",
      "Epoch 2/5\n"
     ]
    },
    {
     "name": "stderr",
     "output_type": "stream",
     "text": [
      "/opt/miniconda3/envs/earthquake-detection/lib/python3.12/site-packages/keras/src/callbacks/early_stopping.py:155: UserWarning: Early stopping conditioned on metric `val_classification_loss` which is not available. Available metrics are: accuracy,loss,val_accuracy,val_loss\n",
      "  current = self.get_monitor_value(logs)\n",
      "/opt/miniconda3/envs/earthquake-detection/lib/python3.12/site-packages/keras/src/callbacks/callback_list.py:151: UserWarning: Learning rate reduction is conditioned on metric `val_classification_loss` which is not available. Available metrics are: accuracy,loss,val_accuracy,val_loss,learning_rate.\n",
      "  callback.on_epoch_end(epoch, logs)\n"
     ]
    },
    {
     "name": "stdout",
     "output_type": "stream",
     "text": [
      "\u001b[1m36/36\u001b[0m \u001b[32m━━━━━━━━━━━━━━━━━━━━\u001b[0m\u001b[37m\u001b[0m \u001b[1m25s\u001b[0m 703ms/step - accuracy: 0.8143 - loss: 0.4487 - val_accuracy: 0.8080 - val_loss: 0.4193 - learning_rate: 1.0000e-06\n",
      "Epoch 3/5\n",
      "\u001b[1m36/36\u001b[0m \u001b[32m━━━━━━━━━━━━━━━━━━━━\u001b[0m\u001b[37m\u001b[0m \u001b[1m25s\u001b[0m 686ms/step - accuracy: 0.7940 - loss: 0.4245 - val_accuracy: 0.8080 - val_loss: 0.3799 - learning_rate: 1.0000e-06\n",
      "Epoch 4/5\n",
      "\u001b[1m36/36\u001b[0m \u001b[32m━━━━━━━━━━━━━━━━━━━━\u001b[0m\u001b[37m\u001b[0m \u001b[1m24s\u001b[0m 675ms/step - accuracy: 0.8144 - loss: 0.3728 - val_accuracy: 0.8080 - val_loss: 0.3533 - learning_rate: 1.0000e-06\n",
      "Epoch 5/5\n",
      "\u001b[1m36/36\u001b[0m \u001b[32m━━━━━━━━━━━━━━━━━━━━\u001b[0m\u001b[37m\u001b[0m \u001b[1m24s\u001b[0m 677ms/step - accuracy: 0.8276 - loss: 0.3427 - val_accuracy: 0.8400 - val_loss: 0.3217 - learning_rate: 1.0000e-06\n"
     ]
    }
   ],
   "source": [
    "opt = tf.keras.optimizers.Adam(learning_rate=1e-6)\n",
    "model.compile(optimizer=opt, loss='sparse_categorical_crossentropy', metrics=['accuracy'])\n",
    "history = model.fit(train_dataset, epochs=5, callbacks=callbacks, validation_data=val_dataset)"
   ]
  },
  {
   "cell_type": "code",
   "execution_count": 112,
   "id": "da07ad98-fc55-4b64-9f38-521c1cd6813b",
   "metadata": {},
   "outputs": [
    {
     "name": "stdout",
     "output_type": "stream",
     "text": [
      "\u001b[1m16/16\u001b[0m \u001b[32m━━━━━━━━━━━━━━━━━━━━\u001b[0m\u001b[37m\u001b[0m \u001b[1m2s\u001b[0m 123ms/step - accuracy: 0.8573 - loss: 0.3181\n"
     ]
    },
    {
     "data": {
      "text/plain": [
       "[0.33461400866508484, 0.8360000252723694]"
      ]
     },
     "execution_count": 112,
     "metadata": {},
     "output_type": "execute_result"
    }
   ],
   "source": [
    "model.evaluate(test_dataset)"
   ]
  },
  {
   "cell_type": "code",
   "execution_count": 113,
   "id": "6cad79a1-73ae-4f3e-b1c0-9fd4657c2a72",
   "metadata": {},
   "outputs": [],
   "source": [
    "def evaluate_classification_model(trained_model, history, test_dataset):\n",
    "    # Parse test labels from test dataset\n",
    "    test_labels = []\n",
    "    for _, labels in test_dataset:\n",
    "        test_labels.append(labels.numpy())\n",
    "    test_labels = np.concatenate(test_labels)\n",
    "    \n",
    "    print('Evaluating model on test dataset')    \n",
    "    print('Finding predicted classes and probabilities')\n",
    "    predicted_classes = np.argmax(model.predict(test_dataset),axis=-1) # predict the class of each image\n",
    "    predicted_probs = model.predict(test_dataset) # predict the probability of each image belonging to a class\n",
    "    \n",
    "    accuracy = accuracy_score(test_labels,predicted_classes)\n",
    "    precision = precision_score(test_labels,predicted_classes)\n",
    "    recall = recall_score(test_labels,predicted_classes)\n",
    "    print(f'The accuracy of the model is {accuracy}, the precision is {precision}, and the recall is {recall}.')\n",
    "\n",
    "    # create confusion matrix\n",
    "    print('Building confusion matrix')\n",
    "    cm = confusion_matrix(test_labels, predicted_classes) # compare target values to predicted values and show confusion matrix\n",
    "    disp = ConfusionMatrixDisplay(confusion_matrix=cm, display_labels=['not earthquake','earthquake'])\n",
    "\n",
    "    # Calculate ROC curve and AUC\n",
    "    fpr, tpr, thresholds = roc_curve(test_labels, predicted_classes)\n",
    "    roc_auc = auc(fpr, tpr)  \n",
    "\n",
    "    # plot accuracy history, confusion matrix, roc curve\n",
    "    fig, (ax1, ax2, ax3) = plt.subplots(1,3,figsize=(20,5.5))\n",
    "    ax1.plot(trained_model.history.history['accuracy'], color='xkcd:cranberry', label='Training accuracy')\n",
    "    ax1.plot(trained_model.history.history['val_accuracy'], color='xkcd:dusty blue', label='Validation accuracy')\n",
    "    ax1.grid(True, alpha=0.2, zorder=5)\n",
    "    ax1.set_title('Model Accuracy')\n",
    "    ax1.set_ylabel('Accuracy')\n",
    "    ax1.set_xlabel('Epoch')\n",
    "    ax1.legend()    \n",
    "    disp.plot(cmap='Blues', ax=ax2, values_format='')\n",
    "    ax2.set_title('Classification CNN Results')\n",
    "    ax3.plot(fpr, tpr, color='xkcd:cranberry', label=f'ROC curve (AUC = {roc_auc:.2f})')\n",
    "    ax3.plot([0, 1], [0, 1], color='lightgray', linestyle='--')  # Diagonal line (random classifier)\n",
    "    ax3.set_xlabel('False Positive Rate')\n",
    "    ax3.set_ylabel('True Positive Rate')\n",
    "    ax3.set_title('Receiver Operating Characteristic (ROC) Curve')\n",
    "    ax3.grid(True, alpha=0.2, zorder=5)\n",
    "    plt.tight_layout()\n",
    "    plt.show()\n",
    "    "
   ]
  },
  {
   "cell_type": "code",
   "execution_count": 114,
   "id": "d63fba3e-6b2c-4007-acc6-be4941ec5898",
   "metadata": {},
   "outputs": [
    {
     "name": "stdout",
     "output_type": "stream",
     "text": [
      "Evaluating model on test dataset\n",
      "Finding predicted classes and probabilities\n",
      "\u001b[1m16/16\u001b[0m \u001b[32m━━━━━━━━━━━━━━━━━━━━\u001b[0m\u001b[37m\u001b[0m \u001b[1m2s\u001b[0m 126ms/step\n",
      "\u001b[1m16/16\u001b[0m \u001b[32m━━━━━━━━━━━━━━━━━━━━\u001b[0m\u001b[37m\u001b[0m \u001b[1m2s\u001b[0m 123ms/step\n",
      "The accuracy of the model is 0.836, the precision is 0.83125, and the recall is 0.9975.\n",
      "Building confusion matrix\n"
     ]
    },
    {
     "ename": "KeyError",
     "evalue": "'accuracy'",
     "output_type": "error",
     "traceback": [
      "\u001b[0;31m---------------------------------------------------------------------------\u001b[0m",
      "\u001b[0;31mKeyError\u001b[0m                                  Traceback (most recent call last)",
      "Cell \u001b[0;32mIn[114], line 1\u001b[0m\n\u001b[0;32m----> 1\u001b[0m \u001b[43mevaluate_classification_model\u001b[49m\u001b[43m(\u001b[49m\u001b[43mmodel\u001b[49m\u001b[43m,\u001b[49m\u001b[43m \u001b[49m\u001b[43mtest_dataset\u001b[49m\u001b[43m)\u001b[49m\n",
      "Cell \u001b[0;32mIn[113], line 29\u001b[0m, in \u001b[0;36mevaluate_classification_model\u001b[0;34m(trained_model, test_dataset)\u001b[0m\n\u001b[1;32m     27\u001b[0m \u001b[38;5;66;03m# plot accuracy history, confusion matrix, roc curve\u001b[39;00m\n\u001b[1;32m     28\u001b[0m fig, (ax1, ax2, ax3) \u001b[38;5;241m=\u001b[39m plt\u001b[38;5;241m.\u001b[39msubplots(\u001b[38;5;241m1\u001b[39m,\u001b[38;5;241m3\u001b[39m,figsize\u001b[38;5;241m=\u001b[39m(\u001b[38;5;241m20\u001b[39m,\u001b[38;5;241m5.5\u001b[39m))\n\u001b[0;32m---> 29\u001b[0m ax1\u001b[38;5;241m.\u001b[39mplot(\u001b[43mtrained_model\u001b[49m\u001b[38;5;241;43m.\u001b[39;49m\u001b[43mhistory\u001b[49m\u001b[38;5;241;43m.\u001b[39;49m\u001b[43mhistory\u001b[49m\u001b[43m[\u001b[49m\u001b[38;5;124;43m'\u001b[39;49m\u001b[38;5;124;43maccuracy\u001b[39;49m\u001b[38;5;124;43m'\u001b[39;49m\u001b[43m]\u001b[49m, color\u001b[38;5;241m=\u001b[39m\u001b[38;5;124m'\u001b[39m\u001b[38;5;124mxkcd:cranberry\u001b[39m\u001b[38;5;124m'\u001b[39m, label\u001b[38;5;241m=\u001b[39m\u001b[38;5;124m'\u001b[39m\u001b[38;5;124mTraining accuracy\u001b[39m\u001b[38;5;124m'\u001b[39m)\n\u001b[1;32m     30\u001b[0m ax1\u001b[38;5;241m.\u001b[39mplot(trained_model\u001b[38;5;241m.\u001b[39mhistory\u001b[38;5;241m.\u001b[39mhistory[\u001b[38;5;124m'\u001b[39m\u001b[38;5;124mval_accuracy\u001b[39m\u001b[38;5;124m'\u001b[39m], color\u001b[38;5;241m=\u001b[39m\u001b[38;5;124m'\u001b[39m\u001b[38;5;124mxkcd:dusty blue\u001b[39m\u001b[38;5;124m'\u001b[39m, label\u001b[38;5;241m=\u001b[39m\u001b[38;5;124m'\u001b[39m\u001b[38;5;124mValidation accuracy\u001b[39m\u001b[38;5;124m'\u001b[39m)\n\u001b[1;32m     31\u001b[0m ax1\u001b[38;5;241m.\u001b[39mgrid(\u001b[38;5;28;01mTrue\u001b[39;00m, alpha\u001b[38;5;241m=\u001b[39m\u001b[38;5;241m0.2\u001b[39m, zorder\u001b[38;5;241m=\u001b[39m\u001b[38;5;241m5\u001b[39m)\n",
      "\u001b[0;31mKeyError\u001b[0m: 'accuracy'"
     ]
    },
    {
     "data": {
      "image/png": "[encoded data removed]",
      "text/plain": [
       "<Figure size 2000x550 with 3 Axes>"
      ]
     },
     "metadata": {},
     "output_type": "display_data"
    }
   ],
   "source": [
    "evaluate_classification_model(model, test_dataset)"
   ]
  },
  {
   "cell_type": "code",
   "execution_count": 116,
   "id": "9459027f-3c99-4785-b580-4b1a109e2582",
   "metadata": {},
   "outputs": [
    {
     "data": {
      "text/plain": [
       "{}"
      ]
     },
     "execution_count": 116,
     "metadata": {},
     "output_type": "execute_result"
    }
   ],
   "source": [
    "model.history.history"
   ]
  },
  {
   "cell_type": "code",
   "execution_count": 117,
   "id": "14685b33-1562-4afa-ae2b-c9dbc7e06725",
   "metadata": {},
   "outputs": [
    {
     "data": {
      "text/plain": [
       "{'accuracy': [0.9066666960716248,\n",
       "  0.9155555367469788,\n",
       "  0.9324444532394409,\n",
       "  0.9324444532394409,\n",
       "  0.9440000057220459],\n",
       " 'loss': [0.2734867036342621,\n",
       "  0.2466326802968979,\n",
       "  0.2290833294391632,\n",
       "  0.21463479101657867,\n",
       "  0.19958925247192383],\n",
       " 'val_accuracy': [0.874666690826416,\n",
       "  0.9066666960716248,\n",
       "  0.9066666960716248,\n",
       "  0.909333348274231,\n",
       "  0.9413333535194397],\n",
       " 'val_loss': [0.26691216230392456,\n",
       "  0.23327772319316864,\n",
       "  0.2173784226179123,\n",
       "  0.20251847803592682,\n",
       "  0.18526755273342133],\n",
       " 'learning_rate': [9.999999974752427e-07,\n",
       "  9.999999974752427e-07,\n",
       "  9.999999974752427e-07,\n",
       "  9.999999974752427e-07,\n",
       "  9.999999974752427e-07]}"
      ]
     },
     "execution_count": 117,
     "metadata": {},
     "output_type": "execute_result"
    }
   ],
   "source": [
    "history.history"
   ]
  },
  {
   "cell_type": "code",
   "execution_count": null,
   "id": "dabdea24-3e73-4b45-a856-af0008e23b14",
   "metadata": {},
   "outputs": [],
   "source": []
  }
 ],
 "metadata": {
  "kernelspec": {
   "display_name": "earthquake-detection",
   "language": "python",
   "name": "earthquake-detection"
  },
  "language_info": {
   "codemirror_mode": {
    "name": "ipython",
    "version": 3
   },
   "file_extension": ".py",
   "mimetype": "text/x-python",
   "name": "python",
   "nbconvert_exporter": "python",
   "pygments_lexer": "ipython3",
   "version": "3.12.8"
  }
 },
 "nbformat": 4,
 "nbformat_minor": 5
}
