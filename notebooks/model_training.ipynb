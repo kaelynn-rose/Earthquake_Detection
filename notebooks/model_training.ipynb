{
 "cells": [
  {
   "cell_type": "code",
   "execution_count": 30,
   "id": "4eff2a1e-76fb-440d-8b90-319216479c7f",
   "metadata": {
    "editable": true,
    "slideshow": {
     "slide_type": ""
    },
    "tags": []
   },
   "outputs": [],
   "source": [
    "import gc\n",
    "import sys\n",
    "sys.path.append('../../../')\n",
    "\n",
    "import keras\n",
    "import matplotlib.pyplot as plt\n",
    "import numpy as np\n",
    "import pandas as pd\n",
    "import tensorflow as tf\n",
    "\n",
    "from PIL import Image\n",
    "from sklearn.metrics import accuracy_score, precision_score, recall_score, f1_score, mean_squared_error, roc_curve, auc\n",
    "from sklearn.metrics import confusion_matrix, ConfusionMatrixDisplay\n",
    "from sklearn.model_selection import train_test_split\n",
    "from sklearn.preprocessing import RobustScaler"
   ]
  },
  {
   "cell_type": "code",
   "execution_count": 2,
   "id": "f40ef843-1794-4746-ba48-e4290aa4de67",
   "metadata": {},
   "outputs": [
    {
     "data": {
      "text/plain": [
       "<contextlib.ExitStack at 0x179705fa0>"
      ]
     },
     "execution_count": 2,
     "metadata": {},
     "output_type": "execute_result"
    }
   ],
   "source": [
    "plt.ioff() # Turn off matplotlib interactive mode. Prevents  memory leakage."
   ]
  },
  {
   "cell_type": "code",
   "execution_count": 3,
   "id": "ce97b4d0-db77-460c-8dba-8fead45496e7",
   "metadata": {
    "editable": true,
    "slideshow": {
     "slide_type": ""
    },
    "tags": []
   },
   "outputs": [],
   "source": [
    "# Load extracted raw signals\n",
    "raw_signals = np.load('../../../data/STEAD/extracted_raw_signals_subsample_10000.npy')\n",
    "\n",
    "# Load created waveform images\n",
    "waveform_imgs = np.load('../../../data/STEAD/created_waveform_images_subsample_10000.npy')\n",
    "\n",
    "# Load created spectrogram images\n",
    "spectrogram_imgs = np.load('../../../data/STEAD/created_spectrogram_images_subsample_10000.npy')\n",
    "\n",
    "# Load extracted raw signals\n",
    "metadata = pd.read_feather('../../../data/STEAD/extracted_metadata_subsample_10000.feather')\n",
    "metadata = metadata.reset_index()"
   ]
  },
  {
   "cell_type": "code",
   "execution_count": 4,
   "id": "8655172c-7738-44d9-84b9-558432808935",
   "metadata": {},
   "outputs": [
    {
     "data": {
      "text/plain": [
       "(10000, 200, 300, 3)"
      ]
     },
     "execution_count": 4,
     "metadata": {},
     "output_type": "execute_result"
    }
   ],
   "source": [
    "spectrogram_imgs.shape"
   ]
  },
  {
   "cell_type": "code",
   "execution_count": 5,
   "id": "c0915b75-cfed-4e4a-9008-62251d4d64d9",
   "metadata": {},
   "outputs": [
    {
     "data": {
      "text/plain": [
       "(10000, 200, 600, 3)"
      ]
     },
     "execution_count": 5,
     "metadata": {},
     "output_type": "execute_result"
    }
   ],
   "source": [
    "waveform_imgs.shape"
   ]
  },
  {
   "cell_type": "code",
   "execution_count": 6,
   "id": "5dfdcb99-8e9c-4c46-a352-96ec67a5790c",
   "metadata": {},
   "outputs": [],
   "source": [
    "metadata['label'] = [1 if label=='earthquake_local' else 0 for label in metadata['trace_category']]\n",
    "classifier_labels = metadata['label'].values"
   ]
  },
  {
   "cell_type": "code",
   "execution_count": 7,
   "id": "b9464d4c-9530-4a03-a497-7681b6d8040b",
   "metadata": {},
   "outputs": [
    {
     "data": {
      "text/plain": [
       "array([1, 1, 1, ..., 0, 0, 0])"
      ]
     },
     "execution_count": 7,
     "metadata": {},
     "output_type": "execute_result"
    }
   ],
   "source": [
    "classifier_labels"
   ]
  },
  {
   "cell_type": "code",
   "execution_count": 8,
   "id": "9548d2e1-e228-4bd9-930b-0c6f9fddf6d3",
   "metadata": {},
   "outputs": [],
   "source": [
    "earthquakes_indices = np.array(list(metadata[metadata['trace_category']=='earthquake_local'].index))\n",
    "raw_signals_earthquakes_only = raw_signals[earthquakes_indices]\n",
    "waveform_imgs_earthquakes_only = waveform_imgs[earthquakes_indices]\n",
    "spectrogram_imgs_earthquakes_only = spectrogram_imgs[earthquakes_indices]\n",
    "metadata_earthquakes_only = metadata[metadata['trace_category']=='earthquake_local']"
   ]
  },
  {
   "cell_type": "code",
   "execution_count": null,
   "id": "23cddcc3-0015-45c7-a26d-845a24459e77",
   "metadata": {},
   "outputs": [],
   "source": []
  },
  {
   "cell_type": "code",
   "execution_count": 328,
   "id": "1ab2d7cb-6e95-42cc-944b-79d8b44e46fa",
   "metadata": {},
   "outputs": [
    {
     "data": {
      "text/plain": [
       "(5081, 5)"
      ]
     },
     "execution_count": 328,
     "metadata": {},
     "output_type": "execute_result"
    }
   ],
   "source": [
    "# regressor_target_cols = ['source_magnitude']\n",
    "# regressor_target_names = ['Source Magnitude']\n",
    "# regressor_labels = np.array(metadata_earthquakes_only[regressor_target_cols])\n",
    "# regressor_labels.shape"
   ]
  },
  {
   "cell_type": "code",
   "execution_count": 598,
   "id": "30f1fd56-026c-49f8-bf08-6ee10c850455",
   "metadata": {
    "editable": true,
    "slideshow": {
     "slide_type": ""
    },
    "tags": []
   },
   "outputs": [],
   "source": [
    "# subsample_indices = np.random.choice(len(spectrogram_imgs), size=2000)\n",
    "# subsample_imgs = spectrogram_imgs[subsample_indices]\n",
    "# subsample_metadata = metadata.iloc[subsample_indices]"
   ]
  },
  {
   "cell_type": "code",
   "execution_count": 10,
   "id": "9e1c5c93-98c9-45f5-b516-001c6efe73d6",
   "metadata": {
    "editable": true,
    "slideshow": {
     "slide_type": ""
    },
    "tags": []
   },
   "outputs": [
    {
     "data": {
      "text/html": [
       "<div>\n",
       "<style scoped>\n",
       "    .dataframe tbody tr th:only-of-type {\n",
       "        vertical-align: middle;\n",
       "    }\n",
       "\n",
       "    .dataframe tbody tr th {\n",
       "        vertical-align: top;\n",
       "    }\n",
       "\n",
       "    .dataframe thead th {\n",
       "        text-align: right;\n",
       "    }\n",
       "</style>\n",
       "<table border=\"1\" class=\"dataframe\">\n",
       "  <thead>\n",
       "    <tr style=\"text-align: right;\">\n",
       "      <th></th>\n",
       "      <th>trace_name</th>\n",
       "      <th>network_code</th>\n",
       "      <th>receiver_code</th>\n",
       "      <th>receiver_type</th>\n",
       "      <th>receiver_latitude</th>\n",
       "      <th>receiver_longitude</th>\n",
       "      <th>receiver_elevation_m</th>\n",
       "      <th>p_arrival_sample</th>\n",
       "      <th>p_status</th>\n",
       "      <th>p_weight</th>\n",
       "      <th>...</th>\n",
       "      <th>source_distance_deg</th>\n",
       "      <th>source_distance_km</th>\n",
       "      <th>back_azimuth_deg</th>\n",
       "      <th>snr_db</th>\n",
       "      <th>coda_end_sample</th>\n",
       "      <th>trace_start_time</th>\n",
       "      <th>trace_category</th>\n",
       "      <th>chunk</th>\n",
       "      <th>weight_for_subsample</th>\n",
       "      <th>label</th>\n",
       "    </tr>\n",
       "  </thead>\n",
       "  <tbody>\n",
       "    <tr>\n",
       "      <th>0</th>\n",
       "      <td>B084.PB_20111212104350_EV</td>\n",
       "      <td>PB</td>\n",
       "      <td>B084</td>\n",
       "      <td>EH</td>\n",
       "      <td>33.611570</td>\n",
       "      <td>-116.456370</td>\n",
       "      <td>1271.0</td>\n",
       "      <td>800.0</td>\n",
       "      <td>manual</td>\n",
       "      <td>0.55</td>\n",
       "      <td>...</td>\n",
       "      <td>0.5746</td>\n",
       "      <td>63.90</td>\n",
       "      <td>178.5</td>\n",
       "      <td>[15.39999962 15.5        17.10000038]</td>\n",
       "      <td>[[3199.]]</td>\n",
       "      <td>43:51.3</td>\n",
       "      <td>earthquake_local</td>\n",
       "      <td>1</td>\n",
       "      <td>9.706561e-07</td>\n",
       "      <td>1</td>\n",
       "    </tr>\n",
       "    <tr>\n",
       "      <th>1</th>\n",
       "      <td>B086.PB_20080618145426_EV</td>\n",
       "      <td>PB</td>\n",
       "      <td>B086</td>\n",
       "      <td>EH</td>\n",
       "      <td>33.557500</td>\n",
       "      <td>-116.531000</td>\n",
       "      <td>1392.0</td>\n",
       "      <td>800.0</td>\n",
       "      <td>manual</td>\n",
       "      <td>0.59</td>\n",
       "      <td>...</td>\n",
       "      <td>0.5071</td>\n",
       "      <td>56.40</td>\n",
       "      <td>330.6</td>\n",
       "      <td>[45.         46.20000076 46.29999924]</td>\n",
       "      <td>[[2230.]]</td>\n",
       "      <td>54:27.0</td>\n",
       "      <td>earthquake_local</td>\n",
       "      <td>1</td>\n",
       "      <td>9.706561e-07</td>\n",
       "      <td>1</td>\n",
       "    </tr>\n",
       "    <tr>\n",
       "      <th>2</th>\n",
       "      <td>B023.PB_20130513182210_EV</td>\n",
       "      <td>PB</td>\n",
       "      <td>B023</td>\n",
       "      <td>EH</td>\n",
       "      <td>46.111200</td>\n",
       "      <td>-123.078700</td>\n",
       "      <td>177.4</td>\n",
       "      <td>500.0</td>\n",
       "      <td>manual</td>\n",
       "      <td>0.63</td>\n",
       "      <td>...</td>\n",
       "      <td>0.9683</td>\n",
       "      <td>107.61</td>\n",
       "      <td>163.1</td>\n",
       "      <td>[12.60000038 12.10000038 11.19999981]</td>\n",
       "      <td>[[3199.]]</td>\n",
       "      <td>22:11.5</td>\n",
       "      <td>earthquake_local</td>\n",
       "      <td>1</td>\n",
       "      <td>9.706561e-07</td>\n",
       "      <td>1</td>\n",
       "    </tr>\n",
       "    <tr>\n",
       "      <th>3</th>\n",
       "      <td>B011.PB_20120724202107_EV</td>\n",
       "      <td>PB</td>\n",
       "      <td>B011</td>\n",
       "      <td>EH</td>\n",
       "      <td>48.649543</td>\n",
       "      <td>-123.448192</td>\n",
       "      <td>22.0</td>\n",
       "      <td>800.0</td>\n",
       "      <td>manual</td>\n",
       "      <td>0.76</td>\n",
       "      <td>...</td>\n",
       "      <td>0.8950</td>\n",
       "      <td>99.44</td>\n",
       "      <td>82.7</td>\n",
       "      <td>[20.39999962 26.39999962 25.        ]</td>\n",
       "      <td>[[3199.]]</td>\n",
       "      <td>21:08.5</td>\n",
       "      <td>earthquake_local</td>\n",
       "      <td>1</td>\n",
       "      <td>9.706561e-07</td>\n",
       "      <td>1</td>\n",
       "    </tr>\n",
       "    <tr>\n",
       "      <th>4</th>\n",
       "      <td>B082.PB_20150914105733_EV</td>\n",
       "      <td>PB</td>\n",
       "      <td>B082</td>\n",
       "      <td>HH</td>\n",
       "      <td>33.598182</td>\n",
       "      <td>-116.596005</td>\n",
       "      <td>1374.8</td>\n",
       "      <td>799.0</td>\n",
       "      <td>autopicker</td>\n",
       "      <td>0.92</td>\n",
       "      <td>...</td>\n",
       "      <td>0.1618</td>\n",
       "      <td>17.99</td>\n",
       "      <td>123.9</td>\n",
       "      <td>[28.79999924 30.29999924 28.70000076]</td>\n",
       "      <td>[[1516.]]</td>\n",
       "      <td>57:35.0</td>\n",
       "      <td>earthquake_local</td>\n",
       "      <td>1</td>\n",
       "      <td>9.706561e-07</td>\n",
       "      <td>1</td>\n",
       "    </tr>\n",
       "    <tr>\n",
       "      <th>...</th>\n",
       "      <td>...</td>\n",
       "      <td>...</td>\n",
       "      <td>...</td>\n",
       "      <td>...</td>\n",
       "      <td>...</td>\n",
       "      <td>...</td>\n",
       "      <td>...</td>\n",
       "      <td>...</td>\n",
       "      <td>...</td>\n",
       "      <td>...</td>\n",
       "      <td>...</td>\n",
       "      <td>...</td>\n",
       "      <td>...</td>\n",
       "      <td>...</td>\n",
       "      <td>...</td>\n",
       "      <td>...</td>\n",
       "      <td>...</td>\n",
       "      <td>...</td>\n",
       "      <td>...</td>\n",
       "      <td>...</td>\n",
       "      <td>...</td>\n",
       "    </tr>\n",
       "    <tr>\n",
       "      <th>9995</th>\n",
       "      <td>AMKA.AV_20180115125824_NO</td>\n",
       "      <td>AV</td>\n",
       "      <td>AMKA</td>\n",
       "      <td>BH</td>\n",
       "      <td>51.377100</td>\n",
       "      <td>179.300000</td>\n",
       "      <td>116.0</td>\n",
       "      <td>NaN</td>\n",
       "      <td>None</td>\n",
       "      <td>NaN</td>\n",
       "      <td>...</td>\n",
       "      <td>NaN</td>\n",
       "      <td>NaN</td>\n",
       "      <td>NaN</td>\n",
       "      <td>None</td>\n",
       "      <td>None</td>\n",
       "      <td>2018-01-15 12:58:24</td>\n",
       "      <td>noise</td>\n",
       "      <td>6</td>\n",
       "      <td>4.247619e-06</td>\n",
       "      <td>0</td>\n",
       "    </tr>\n",
       "    <tr>\n",
       "      <th>9996</th>\n",
       "      <td>ANM.AK_201012072324_NO</td>\n",
       "      <td>AK</td>\n",
       "      <td>ANM</td>\n",
       "      <td>BH</td>\n",
       "      <td>64.564600</td>\n",
       "      <td>-165.373200</td>\n",
       "      <td>338.0</td>\n",
       "      <td>NaN</td>\n",
       "      <td>None</td>\n",
       "      <td>NaN</td>\n",
       "      <td>...</td>\n",
       "      <td>NaN</td>\n",
       "      <td>NaN</td>\n",
       "      <td>NaN</td>\n",
       "      <td>None</td>\n",
       "      <td>None</td>\n",
       "      <td>2010-12-07 23:24:00</td>\n",
       "      <td>noise</td>\n",
       "      <td>6</td>\n",
       "      <td>4.247619e-06</td>\n",
       "      <td>0</td>\n",
       "    </tr>\n",
       "    <tr>\n",
       "      <th>9997</th>\n",
       "      <td>MPK.NN_201508190953_NO</td>\n",
       "      <td>NN</td>\n",
       "      <td>MPK</td>\n",
       "      <td>HH</td>\n",
       "      <td>39.295670</td>\n",
       "      <td>-120.030170</td>\n",
       "      <td>2484.0</td>\n",
       "      <td>NaN</td>\n",
       "      <td>None</td>\n",
       "      <td>NaN</td>\n",
       "      <td>...</td>\n",
       "      <td>NaN</td>\n",
       "      <td>NaN</td>\n",
       "      <td>NaN</td>\n",
       "      <td>None</td>\n",
       "      <td>None</td>\n",
       "      <td>2015-08-19 09:53:00</td>\n",
       "      <td>noise</td>\n",
       "      <td>6</td>\n",
       "      <td>4.247619e-06</td>\n",
       "      <td>0</td>\n",
       "    </tr>\n",
       "    <tr>\n",
       "      <th>9998</th>\n",
       "      <td>NAPC.NC_201605150336_NO</td>\n",
       "      <td>NC</td>\n",
       "      <td>NAPC</td>\n",
       "      <td>HN</td>\n",
       "      <td>38.439510</td>\n",
       "      <td>-122.252720</td>\n",
       "      <td>716.0</td>\n",
       "      <td>NaN</td>\n",
       "      <td>None</td>\n",
       "      <td>NaN</td>\n",
       "      <td>...</td>\n",
       "      <td>NaN</td>\n",
       "      <td>NaN</td>\n",
       "      <td>NaN</td>\n",
       "      <td>None</td>\n",
       "      <td>None</td>\n",
       "      <td>2016-05-15 03:36:00</td>\n",
       "      <td>noise</td>\n",
       "      <td>6</td>\n",
       "      <td>4.247619e-06</td>\n",
       "      <td>0</td>\n",
       "    </tr>\n",
       "    <tr>\n",
       "      <th>9999</th>\n",
       "      <td>CBSB.NC_201807242245_NO</td>\n",
       "      <td>NC</td>\n",
       "      <td>CBSB</td>\n",
       "      <td>HN</td>\n",
       "      <td>37.817780</td>\n",
       "      <td>-121.641300</td>\n",
       "      <td>28.0</td>\n",
       "      <td>NaN</td>\n",
       "      <td>None</td>\n",
       "      <td>NaN</td>\n",
       "      <td>...</td>\n",
       "      <td>NaN</td>\n",
       "      <td>NaN</td>\n",
       "      <td>NaN</td>\n",
       "      <td>None</td>\n",
       "      <td>None</td>\n",
       "      <td>2018-07-24 22:45:00</td>\n",
       "      <td>noise</td>\n",
       "      <td>6</td>\n",
       "      <td>4.247619e-06</td>\n",
       "      <td>0</td>\n",
       "    </tr>\n",
       "  </tbody>\n",
       "</table>\n",
       "<p>10000 rows × 38 columns</p>\n",
       "</div>"
      ],
      "text/plain": [
       "                     trace_name network_code receiver_code receiver_type  \\\n",
       "0     B084.PB_20111212104350_EV           PB          B084            EH   \n",
       "1     B086.PB_20080618145426_EV           PB          B086            EH   \n",
       "2     B023.PB_20130513182210_EV           PB          B023            EH   \n",
       "3     B011.PB_20120724202107_EV           PB          B011            EH   \n",
       "4     B082.PB_20150914105733_EV           PB          B082            HH   \n",
       "...                         ...          ...           ...           ...   \n",
       "9995  AMKA.AV_20180115125824_NO           AV          AMKA            BH   \n",
       "9996     ANM.AK_201012072324_NO           AK           ANM            BH   \n",
       "9997     MPK.NN_201508190953_NO           NN           MPK            HH   \n",
       "9998    NAPC.NC_201605150336_NO           NC          NAPC            HN   \n",
       "9999    CBSB.NC_201807242245_NO           NC          CBSB            HN   \n",
       "\n",
       "      receiver_latitude  receiver_longitude  receiver_elevation_m  \\\n",
       "0             33.611570         -116.456370                1271.0   \n",
       "1             33.557500         -116.531000                1392.0   \n",
       "2             46.111200         -123.078700                 177.4   \n",
       "3             48.649543         -123.448192                  22.0   \n",
       "4             33.598182         -116.596005                1374.8   \n",
       "...                 ...                 ...                   ...   \n",
       "9995          51.377100          179.300000                 116.0   \n",
       "9996          64.564600         -165.373200                 338.0   \n",
       "9997          39.295670         -120.030170                2484.0   \n",
       "9998          38.439510         -122.252720                 716.0   \n",
       "9999          37.817780         -121.641300                  28.0   \n",
       "\n",
       "      p_arrival_sample    p_status  p_weight  ...  source_distance_deg  \\\n",
       "0                800.0      manual      0.55  ...               0.5746   \n",
       "1                800.0      manual      0.59  ...               0.5071   \n",
       "2                500.0      manual      0.63  ...               0.9683   \n",
       "3                800.0      manual      0.76  ...               0.8950   \n",
       "4                799.0  autopicker      0.92  ...               0.1618   \n",
       "...                ...         ...       ...  ...                  ...   \n",
       "9995               NaN        None       NaN  ...                  NaN   \n",
       "9996               NaN        None       NaN  ...                  NaN   \n",
       "9997               NaN        None       NaN  ...                  NaN   \n",
       "9998               NaN        None       NaN  ...                  NaN   \n",
       "9999               NaN        None       NaN  ...                  NaN   \n",
       "\n",
       "      source_distance_km back_azimuth_deg  \\\n",
       "0                  63.90            178.5   \n",
       "1                  56.40            330.6   \n",
       "2                 107.61            163.1   \n",
       "3                  99.44             82.7   \n",
       "4                  17.99            123.9   \n",
       "...                  ...              ...   \n",
       "9995                 NaN              NaN   \n",
       "9996                 NaN              NaN   \n",
       "9997                 NaN              NaN   \n",
       "9998                 NaN              NaN   \n",
       "9999                 NaN              NaN   \n",
       "\n",
       "                                     snr_db coda_end_sample  \\\n",
       "0     [15.39999962 15.5        17.10000038]       [[3199.]]   \n",
       "1     [45.         46.20000076 46.29999924]       [[2230.]]   \n",
       "2     [12.60000038 12.10000038 11.19999981]       [[3199.]]   \n",
       "3     [20.39999962 26.39999962 25.        ]       [[3199.]]   \n",
       "4     [28.79999924 30.29999924 28.70000076]       [[1516.]]   \n",
       "...                                     ...             ...   \n",
       "9995                                   None            None   \n",
       "9996                                   None            None   \n",
       "9997                                   None            None   \n",
       "9998                                   None            None   \n",
       "9999                                   None            None   \n",
       "\n",
       "         trace_start_time    trace_category  chunk  weight_for_subsample  \\\n",
       "0                 43:51.3  earthquake_local      1          9.706561e-07   \n",
       "1                 54:27.0  earthquake_local      1          9.706561e-07   \n",
       "2                 22:11.5  earthquake_local      1          9.706561e-07   \n",
       "3                 21:08.5  earthquake_local      1          9.706561e-07   \n",
       "4                 57:35.0  earthquake_local      1          9.706561e-07   \n",
       "...                   ...               ...    ...                   ...   \n",
       "9995  2018-01-15 12:58:24             noise      6          4.247619e-06   \n",
       "9996  2010-12-07 23:24:00             noise      6          4.247619e-06   \n",
       "9997  2015-08-19 09:53:00             noise      6          4.247619e-06   \n",
       "9998  2016-05-15 03:36:00             noise      6          4.247619e-06   \n",
       "9999  2018-07-24 22:45:00             noise      6          4.247619e-06   \n",
       "\n",
       "      label  \n",
       "0         1  \n",
       "1         1  \n",
       "2         1  \n",
       "3         1  \n",
       "4         1  \n",
       "...     ...  \n",
       "9995      0  \n",
       "9996      0  \n",
       "9997      0  \n",
       "9998      0  \n",
       "9999      0  \n",
       "\n",
       "[10000 rows x 38 columns]"
      ]
     },
     "execution_count": 10,
     "metadata": {},
     "output_type": "execute_result"
    }
   ],
   "source": [
    "metadata"
   ]
  },
  {
   "cell_type": "code",
   "execution_count": 385,
   "id": "b121093a-6f5d-4d27-90f6-3d73b220d74f",
   "metadata": {},
   "outputs": [
    {
     "data": {
      "text/plain": [
       "Index(['trace_name', 'network_code', 'receiver_code', 'receiver_type',\n",
       "       'receiver_latitude', 'receiver_longitude', 'receiver_elevation_m',\n",
       "       'p_arrival_sample', 'p_status', 'p_weight', 'p_travel_sec',\n",
       "       's_arrival_sample', 's_status', 's_weight', 'source_id',\n",
       "       'source_origin_time', 'source_origin_uncertainty_sec',\n",
       "       'source_latitude', 'source_longitude', 'source_error_sec',\n",
       "       'source_gap_deg', 'source_horizontal_uncertainty_km', 'source_depth_km',\n",
       "       'source_depth_uncertainty_km', 'source_magnitude',\n",
       "       'source_magnitude_type', 'source_magnitude_author',\n",
       "       'source_mechanism_strike_dip_rake', 'source_distance_deg',\n",
       "       'source_distance_km', 'back_azimuth_deg', 'snr_db', 'coda_end_sample',\n",
       "       'trace_start_time', 'trace_category', 'chunk', 'weight_for_subsample',\n",
       "       'label'],\n",
       "      dtype='object')"
      ]
     },
     "execution_count": 385,
     "metadata": {},
     "output_type": "execute_result"
    }
   ],
   "source": [
    "metadata.columns"
   ]
  },
  {
   "cell_type": "code",
   "execution_count": 11,
   "id": "fe738500-bb0d-4eb7-bb50-9bfc25499760",
   "metadata": {},
   "outputs": [],
   "source": [
    "def image_preprocessing(image, image_size):\n",
    "    image = tf.image.resize(image, image_size)  # Resize image\n",
    "    image = tf.cast(image, tf.float32) / 255.0  # Normalize to [0, 1]\n",
    "    return image"
   ]
  },
  {
   "cell_type": "code",
   "execution_count": 12,
   "id": "49a7c6e7-d699-4b76-a816-4ccf176dd6cc",
   "metadata": {},
   "outputs": [],
   "source": [
    "spectrogram_kwargs = {'image_size' : (300,200)}\n",
    "waveform_kwargs = {'image_size' : (600,200)}"
   ]
  },
  {
   "cell_type": "code",
   "execution_count": 335,
   "id": "05d7c6ac-ce8b-4ae1-9787-0dd223ee45eb",
   "metadata": {},
   "outputs": [],
   "source": [
    "def format_data(x, y):\n",
    "    return x, {\n",
    "        'source_magnitude': y[:, 0], \n",
    "        'p_wave_arrival': y[:, 1],\n",
    "        's_wave_arrival': y[:, 2], e\n",
    "        'source_distance': y[:, 3], \n",
    "        'source_depth': y[:, 4], \n",
    "    }"
   ]
  },
  {
   "cell_type": "code",
   "execution_count": 353,
   "id": "3d7ee43b-416b-4e58-aed4-07bbe3e344db",
   "metadata": {
    "editable": true,
    "slideshow": {
     "slide_type": ""
    },
    "tags": []
   },
   "outputs": [],
   "source": [
    "def prepare_datasets(imgs, labels, preproc_func, preproc_func_kwargs, use_scaler=False, batch_size=32):\n",
    "    # If array has only one dimension, it must be reshaped for input into the scaler\n",
    "    if labels.ndim == 1:\n",
    "        labels = labels.reshape(-1, 1) \n",
    "        \n",
    "    X_train, X_test, y_train, y_test = train_test_split(imgs, labels, random_state=0, test_size=0.25)\n",
    "    X_train, X_val, y_train, y_val = train_test_split(X_train, y_train, random_state=0, test_size=0.25)  \n",
    "\n",
    "    if use_scaler:\n",
    "        scaler = RobustScaler()\n",
    "        y_train = scaler.fit_transform(y_train)\n",
    "        y_val = scaler.transform(y_val)\n",
    "        y_test = scaler.transform(y_test)\n",
    "    \n",
    "    train_dataset = tf.data.Dataset.from_tensor_slices((X_train, y_train))\n",
    "    val_dataset = tf.data.Dataset.from_tensor_slices((X_val, y_val))\n",
    "    test_dataset = tf.data.Dataset.from_tensor_slices((X_test, y_test))\n",
    "    \n",
    "    train_dataset = train_dataset.map(lambda x, y: (preproc_func(x, **preproc_func_kwargs), y))\n",
    "    val_dataset = val_dataset.map(lambda x, y: (preproc_func(x, **preproc_func_kwargs), y))\n",
    "    test_dataset = test_dataset.map(lambda x, y: (preproc_func(x, **preproc_func_kwargs), y))\n",
    "    \n",
    "    train_dataset = train_dataset.shuffle(buffer_size=1000).batch(batch_size).prefetch(tf.data.experimental.AUTOTUNE)\n",
    "    val_dataset = val_dataset.batch(batch_size).prefetch(tf.data.experimental.AUTOTUNE)\n",
    "    test_dataset = test_dataset.batch(batch_size).prefetch(tf.data.experimental.AUTOTUNE)\n",
    "\n",
    "    if use_scaler:  \n",
    "        return train_dataset, val_dataset, test_dataset, scaler\n",
    "    else:\n",
    "        return train_dataset, val_dataset, test_dataset"
   ]
  },
  {
   "cell_type": "code",
   "execution_count": 354,
   "id": "c06f416b-2977-49ba-93d5-858145d57523",
   "metadata": {},
   "outputs": [],
   "source": [
    "train_dataset_c, val_dataset_c, test_dataset_c = prepare_datasets(imgs=spectrogram_imgs, labels=classifier_labels, preproc_func=image_preprocessing, preproc_func_kwargs=spectrogram_kwargs, batch_size=32)"
   ]
  },
  {
   "cell_type": "code",
   "execution_count": 339,
   "id": "5374b777-31d3-4796-93a0-9fee4f1e7ed8",
   "metadata": {},
   "outputs": [
    {
     "name": "stdout",
     "output_type": "stream",
     "text": [
      "y_train before scaler: [[4.0000e+00 7.0000e+02 3.4750e+03 2.4635e+02 1.4864e+02]\n",
      " [1.0000e+00 7.9900e+02 1.2580e+03 3.6430e+01 1.3090e+01]\n",
      " [9.1000e-01 6.9800e+02 7.7800e+02 4.5300e+00 1.3600e+00]]\n",
      "y_train after scaler: [[ 2.10236220e+00  6.66666667e-03  3.02052039e+00  3.60708057e+00\n",
      "   1.36225681e+01]\n",
      " [-2.59842520e-01  3.36666667e-01  4.70761803e-02 -5.38890827e-02\n",
      "   4.36770428e-01]\n",
      " [-3.30708661e-01  0.00000000e+00 -5.96700644e-01 -6.10219742e-01\n",
      "  -7.04280156e-01]]\n",
      "y_test before scaler: [[9.000e-01 7.000e+02 8.950e+02 5.610e+00 1.592e+01]\n",
      " [1.150e+00 4.000e+02 6.160e+02 1.533e+01 7.130e+00]\n",
      " [1.350e+00 9.000e+02 1.106e+03 1.022e+01 5.060e+00]]\n",
      "y_test after scaler: [[-0.33858268  0.00666667 -0.43978004 -0.59138472  0.71206226]\n",
      " [-0.14173228 -0.99333333 -0.81397532 -0.42186955 -0.14299611]\n",
      " [ 0.01574803  0.67333333 -0.15678648 -0.51098709 -0.34435798]]\n"
     ]
    }
   ],
   "source": []
  },
  {
   "cell_type": "code",
   "execution_count": 340,
   "id": "b27c6ba3-2f24-43b0-84e7-e53188850d61",
   "metadata": {},
   "outputs": [],
   "source": [
    "# Callback to stop model training early if loss stops improving\n",
    "early_stopping = tf.keras.callbacks.EarlyStopping(\n",
    "    monitor='val_loss',    \n",
    "    mode='min',\n",
    "    patience=5,                # number of epochs to wait for improvement\n",
    "    restore_best_weights=True, # restore the best weights once training stops\n",
    "    verbose=1                 \n",
    ")\n",
    "\n",
    "# Callback to reduce learning rate if loss stops improving\n",
    "reduce_lr = tf.keras.callbacks.ReduceLROnPlateau(\n",
    "    monitor='val_loss', \n",
    "    factor=0.1,                # the factor by which the learning rate will be reduced\n",
    "    patience=2,                # number of epochs to wait for improvement\n",
    "    verbose=1\n",
    ")\n",
    "\n",
    "checkpoint = tf.keras.callbacks.ModelCheckpoint(\n",
    "    'best_model.keras', \n",
    "    monitor='val_loss', \n",
    "    save_best_only=True        # save only the best model\n",
    ")\n",
    "\n",
    "callbacks = [early_stopping, reduce_lr, checkpoint]"
   ]
  },
  {
   "cell_type": "code",
   "execution_count": 47,
   "id": "bc8edee1-a0c8-4147-a00c-2a98afd3e204",
   "metadata": {},
   "outputs": [],
   "source": [
    "# classifier model\n",
    "classifier_model = tf.keras.Sequential([\n",
    "    tf.keras.layers.Conv2D(32, kernel_size=(5, 5), activation='relu', padding='same'),\n",
    "    tf.keras.layers.MaxPooling2D((2, 2)),\n",
    "    tf.keras.layers.Dropout(0.25),\n",
    "    tf.keras.layers.Flatten(),\n",
    "    tf.keras.layers.Dense(32, activation='relu'),\n",
    "    tf.keras.layers.Dense(16, activation='relu'),\n",
    "    tf.keras.layers.Dense(2, activation='softmax')  # 10 output classes\n",
    "])"
   ]
  },
  {
   "cell_type": "code",
   "execution_count": 48,
   "id": "d05c9942-a712-454a-a56d-61e8ec084e77",
   "metadata": {},
   "outputs": [
    {
     "name": "stdout",
     "output_type": "stream",
     "text": [
      "Epoch 1/2\n",
      "\u001b[1m 15/176\u001b[0m \u001b[32m━\u001b[0m\u001b[37m━━━━━━━━━━━━━━━━━━━\u001b[0m \u001b[1m1:30\u001b[0m 562ms/step - accuracy: 0.5414 - loss: 0.6868"
     ]
    },
    {
     "ename": "KeyboardInterrupt",
     "evalue": "",
     "output_type": "error",
     "traceback": [
      "\u001b[0;31m---------------------------------------------------------------------------\u001b[0m",
      "\u001b[0;31mKeyboardInterrupt\u001b[0m                         Traceback (most recent call last)",
      "Cell \u001b[0;32mIn[48], line 3\u001b[0m\n\u001b[1;32m      1\u001b[0m opt \u001b[38;5;241m=\u001b[39m tf\u001b[38;5;241m.\u001b[39mkeras\u001b[38;5;241m.\u001b[39moptimizers\u001b[38;5;241m.\u001b[39mAdam(learning_rate\u001b[38;5;241m=\u001b[39m\u001b[38;5;241m1e-6\u001b[39m)\n\u001b[1;32m      2\u001b[0m classifier_model\u001b[38;5;241m.\u001b[39mcompile(optimizer\u001b[38;5;241m=\u001b[39mopt, loss\u001b[38;5;241m=\u001b[39m\u001b[38;5;124m'\u001b[39m\u001b[38;5;124msparse_categorical_crossentropy\u001b[39m\u001b[38;5;124m'\u001b[39m, metrics\u001b[38;5;241m=\u001b[39m[\u001b[38;5;124m'\u001b[39m\u001b[38;5;124maccuracy\u001b[39m\u001b[38;5;124m'\u001b[39m])\n\u001b[0;32m----> 3\u001b[0m classifier_history \u001b[38;5;241m=\u001b[39m \u001b[43mclassifier_model\u001b[49m\u001b[38;5;241;43m.\u001b[39;49m\u001b[43mfit\u001b[49m\u001b[43m(\u001b[49m\u001b[43mtrain_dataset_c\u001b[49m\u001b[43m,\u001b[49m\u001b[43m \u001b[49m\u001b[43mepochs\u001b[49m\u001b[38;5;241;43m=\u001b[39;49m\u001b[38;5;241;43m2\u001b[39;49m\u001b[43m,\u001b[49m\u001b[43m \u001b[49m\u001b[43mcallbacks\u001b[49m\u001b[38;5;241;43m=\u001b[39;49m\u001b[43mcallbacks\u001b[49m\u001b[43m,\u001b[49m\u001b[43m \u001b[49m\u001b[43mvalidation_data\u001b[49m\u001b[38;5;241;43m=\u001b[39;49m\u001b[43mval_dataset_c\u001b[49m\u001b[43m)\u001b[49m\n",
      "File \u001b[0;32m/opt/miniconda3/envs/earthquake-detection/lib/python3.12/site-packages/keras/src/utils/traceback_utils.py:117\u001b[0m, in \u001b[0;36mfilter_traceback.<locals>.error_handler\u001b[0;34m(*args, **kwargs)\u001b[0m\n\u001b[1;32m    115\u001b[0m filtered_tb \u001b[38;5;241m=\u001b[39m \u001b[38;5;28;01mNone\u001b[39;00m\n\u001b[1;32m    116\u001b[0m \u001b[38;5;28;01mtry\u001b[39;00m:\n\u001b[0;32m--> 117\u001b[0m     \u001b[38;5;28;01mreturn\u001b[39;00m \u001b[43mfn\u001b[49m\u001b[43m(\u001b[49m\u001b[38;5;241;43m*\u001b[39;49m\u001b[43margs\u001b[49m\u001b[43m,\u001b[49m\u001b[43m \u001b[49m\u001b[38;5;241;43m*\u001b[39;49m\u001b[38;5;241;43m*\u001b[39;49m\u001b[43mkwargs\u001b[49m\u001b[43m)\u001b[49m\n\u001b[1;32m    118\u001b[0m \u001b[38;5;28;01mexcept\u001b[39;00m \u001b[38;5;167;01mException\u001b[39;00m \u001b[38;5;28;01mas\u001b[39;00m e:\n\u001b[1;32m    119\u001b[0m     filtered_tb \u001b[38;5;241m=\u001b[39m _process_traceback_frames(e\u001b[38;5;241m.\u001b[39m__traceback__)\n",
      "File \u001b[0;32m/opt/miniconda3/envs/earthquake-detection/lib/python3.12/site-packages/keras/src/backend/tensorflow/trainer.py:320\u001b[0m, in \u001b[0;36mTensorFlowTrainer.fit\u001b[0;34m(self, x, y, batch_size, epochs, verbose, callbacks, validation_split, validation_data, shuffle, class_weight, sample_weight, initial_epoch, steps_per_epoch, validation_steps, validation_batch_size, validation_freq)\u001b[0m\n\u001b[1;32m    318\u001b[0m \u001b[38;5;28;01mfor\u001b[39;00m step, iterator \u001b[38;5;129;01min\u001b[39;00m epoch_iterator\u001b[38;5;241m.\u001b[39menumerate_epoch():\n\u001b[1;32m    319\u001b[0m     callbacks\u001b[38;5;241m.\u001b[39mon_train_batch_begin(step)\n\u001b[0;32m--> 320\u001b[0m     logs \u001b[38;5;241m=\u001b[39m \u001b[38;5;28;43mself\u001b[39;49m\u001b[38;5;241;43m.\u001b[39;49m\u001b[43mtrain_function\u001b[49m\u001b[43m(\u001b[49m\u001b[43miterator\u001b[49m\u001b[43m)\u001b[49m\n\u001b[1;32m    321\u001b[0m     callbacks\u001b[38;5;241m.\u001b[39mon_train_batch_end(step, logs)\n\u001b[1;32m    322\u001b[0m     \u001b[38;5;28;01mif\u001b[39;00m \u001b[38;5;28mself\u001b[39m\u001b[38;5;241m.\u001b[39mstop_training:\n",
      "File \u001b[0;32m/opt/miniconda3/envs/earthquake-detection/lib/python3.12/site-packages/tensorflow/python/util/traceback_utils.py:150\u001b[0m, in \u001b[0;36mfilter_traceback.<locals>.error_handler\u001b[0;34m(*args, **kwargs)\u001b[0m\n\u001b[1;32m    148\u001b[0m filtered_tb \u001b[38;5;241m=\u001b[39m \u001b[38;5;28;01mNone\u001b[39;00m\n\u001b[1;32m    149\u001b[0m \u001b[38;5;28;01mtry\u001b[39;00m:\n\u001b[0;32m--> 150\u001b[0m   \u001b[38;5;28;01mreturn\u001b[39;00m \u001b[43mfn\u001b[49m\u001b[43m(\u001b[49m\u001b[38;5;241;43m*\u001b[39;49m\u001b[43margs\u001b[49m\u001b[43m,\u001b[49m\u001b[43m \u001b[49m\u001b[38;5;241;43m*\u001b[39;49m\u001b[38;5;241;43m*\u001b[39;49m\u001b[43mkwargs\u001b[49m\u001b[43m)\u001b[49m\n\u001b[1;32m    151\u001b[0m \u001b[38;5;28;01mexcept\u001b[39;00m \u001b[38;5;167;01mException\u001b[39;00m \u001b[38;5;28;01mas\u001b[39;00m e:\n\u001b[1;32m    152\u001b[0m   filtered_tb \u001b[38;5;241m=\u001b[39m _process_traceback_frames(e\u001b[38;5;241m.\u001b[39m__traceback__)\n",
      "File \u001b[0;32m/opt/miniconda3/envs/earthquake-detection/lib/python3.12/site-packages/tensorflow/python/eager/polymorphic_function/polymorphic_function.py:833\u001b[0m, in \u001b[0;36mFunction.__call__\u001b[0;34m(self, *args, **kwds)\u001b[0m\n\u001b[1;32m    830\u001b[0m compiler \u001b[38;5;241m=\u001b[39m \u001b[38;5;124m\"\u001b[39m\u001b[38;5;124mxla\u001b[39m\u001b[38;5;124m\"\u001b[39m \u001b[38;5;28;01mif\u001b[39;00m \u001b[38;5;28mself\u001b[39m\u001b[38;5;241m.\u001b[39m_jit_compile \u001b[38;5;28;01melse\u001b[39;00m \u001b[38;5;124m\"\u001b[39m\u001b[38;5;124mnonXla\u001b[39m\u001b[38;5;124m\"\u001b[39m\n\u001b[1;32m    832\u001b[0m \u001b[38;5;28;01mwith\u001b[39;00m OptionalXlaContext(\u001b[38;5;28mself\u001b[39m\u001b[38;5;241m.\u001b[39m_jit_compile):\n\u001b[0;32m--> 833\u001b[0m   result \u001b[38;5;241m=\u001b[39m \u001b[38;5;28;43mself\u001b[39;49m\u001b[38;5;241;43m.\u001b[39;49m\u001b[43m_call\u001b[49m\u001b[43m(\u001b[49m\u001b[38;5;241;43m*\u001b[39;49m\u001b[43margs\u001b[49m\u001b[43m,\u001b[49m\u001b[43m \u001b[49m\u001b[38;5;241;43m*\u001b[39;49m\u001b[38;5;241;43m*\u001b[39;49m\u001b[43mkwds\u001b[49m\u001b[43m)\u001b[49m\n\u001b[1;32m    835\u001b[0m new_tracing_count \u001b[38;5;241m=\u001b[39m \u001b[38;5;28mself\u001b[39m\u001b[38;5;241m.\u001b[39mexperimental_get_tracing_count()\n\u001b[1;32m    836\u001b[0m without_tracing \u001b[38;5;241m=\u001b[39m (tracing_count \u001b[38;5;241m==\u001b[39m new_tracing_count)\n",
      "File \u001b[0;32m/opt/miniconda3/envs/earthquake-detection/lib/python3.12/site-packages/tensorflow/python/eager/polymorphic_function/polymorphic_function.py:878\u001b[0m, in \u001b[0;36mFunction._call\u001b[0;34m(self, *args, **kwds)\u001b[0m\n\u001b[1;32m    875\u001b[0m \u001b[38;5;28mself\u001b[39m\u001b[38;5;241m.\u001b[39m_lock\u001b[38;5;241m.\u001b[39mrelease()\n\u001b[1;32m    876\u001b[0m \u001b[38;5;66;03m# In this case we have not created variables on the first call. So we can\u001b[39;00m\n\u001b[1;32m    877\u001b[0m \u001b[38;5;66;03m# run the first trace but we should fail if variables are created.\u001b[39;00m\n\u001b[0;32m--> 878\u001b[0m results \u001b[38;5;241m=\u001b[39m \u001b[43mtracing_compilation\u001b[49m\u001b[38;5;241;43m.\u001b[39;49m\u001b[43mcall_function\u001b[49m\u001b[43m(\u001b[49m\n\u001b[1;32m    879\u001b[0m \u001b[43m    \u001b[49m\u001b[43margs\u001b[49m\u001b[43m,\u001b[49m\u001b[43m \u001b[49m\u001b[43mkwds\u001b[49m\u001b[43m,\u001b[49m\u001b[43m \u001b[49m\u001b[38;5;28;43mself\u001b[39;49m\u001b[38;5;241;43m.\u001b[39;49m\u001b[43m_variable_creation_config\u001b[49m\n\u001b[1;32m    880\u001b[0m \u001b[43m\u001b[49m\u001b[43m)\u001b[49m\n\u001b[1;32m    881\u001b[0m \u001b[38;5;28;01mif\u001b[39;00m \u001b[38;5;28mself\u001b[39m\u001b[38;5;241m.\u001b[39m_created_variables:\n\u001b[1;32m    882\u001b[0m   \u001b[38;5;28;01mraise\u001b[39;00m \u001b[38;5;167;01mValueError\u001b[39;00m(\u001b[38;5;124m\"\u001b[39m\u001b[38;5;124mCreating variables on a non-first call to a function\u001b[39m\u001b[38;5;124m\"\u001b[39m\n\u001b[1;32m    883\u001b[0m                    \u001b[38;5;124m\"\u001b[39m\u001b[38;5;124m decorated with tf.function.\u001b[39m\u001b[38;5;124m\"\u001b[39m)\n",
      "File \u001b[0;32m/opt/miniconda3/envs/earthquake-detection/lib/python3.12/site-packages/tensorflow/python/eager/polymorphic_function/tracing_compilation.py:139\u001b[0m, in \u001b[0;36mcall_function\u001b[0;34m(args, kwargs, tracing_options)\u001b[0m\n\u001b[1;32m    137\u001b[0m bound_args \u001b[38;5;241m=\u001b[39m function\u001b[38;5;241m.\u001b[39mfunction_type\u001b[38;5;241m.\u001b[39mbind(\u001b[38;5;241m*\u001b[39margs, \u001b[38;5;241m*\u001b[39m\u001b[38;5;241m*\u001b[39mkwargs)\n\u001b[1;32m    138\u001b[0m flat_inputs \u001b[38;5;241m=\u001b[39m function\u001b[38;5;241m.\u001b[39mfunction_type\u001b[38;5;241m.\u001b[39munpack_inputs(bound_args)\n\u001b[0;32m--> 139\u001b[0m \u001b[38;5;28;01mreturn\u001b[39;00m \u001b[43mfunction\u001b[49m\u001b[38;5;241;43m.\u001b[39;49m\u001b[43m_call_flat\u001b[49m\u001b[43m(\u001b[49m\u001b[43m  \u001b[49m\u001b[38;5;66;43;03m# pylint: disable=protected-access\u001b[39;49;00m\n\u001b[1;32m    140\u001b[0m \u001b[43m    \u001b[49m\u001b[43mflat_inputs\u001b[49m\u001b[43m,\u001b[49m\u001b[43m \u001b[49m\u001b[43mcaptured_inputs\u001b[49m\u001b[38;5;241;43m=\u001b[39;49m\u001b[43mfunction\u001b[49m\u001b[38;5;241;43m.\u001b[39;49m\u001b[43mcaptured_inputs\u001b[49m\n\u001b[1;32m    141\u001b[0m \u001b[43m\u001b[49m\u001b[43m)\u001b[49m\n",
      "File \u001b[0;32m/opt/miniconda3/envs/earthquake-detection/lib/python3.12/site-packages/tensorflow/python/eager/polymorphic_function/concrete_function.py:1322\u001b[0m, in \u001b[0;36mConcreteFunction._call_flat\u001b[0;34m(self, tensor_inputs, captured_inputs)\u001b[0m\n\u001b[1;32m   1318\u001b[0m possible_gradient_type \u001b[38;5;241m=\u001b[39m gradients_util\u001b[38;5;241m.\u001b[39mPossibleTapeGradientTypes(args)\n\u001b[1;32m   1319\u001b[0m \u001b[38;5;28;01mif\u001b[39;00m (possible_gradient_type \u001b[38;5;241m==\u001b[39m gradients_util\u001b[38;5;241m.\u001b[39mPOSSIBLE_GRADIENT_TYPES_NONE\n\u001b[1;32m   1320\u001b[0m     \u001b[38;5;129;01mand\u001b[39;00m executing_eagerly):\n\u001b[1;32m   1321\u001b[0m   \u001b[38;5;66;03m# No tape is watching; skip to running the function.\u001b[39;00m\n\u001b[0;32m-> 1322\u001b[0m   \u001b[38;5;28;01mreturn\u001b[39;00m \u001b[38;5;28;43mself\u001b[39;49m\u001b[38;5;241;43m.\u001b[39;49m\u001b[43m_inference_function\u001b[49m\u001b[38;5;241;43m.\u001b[39;49m\u001b[43mcall_preflattened\u001b[49m\u001b[43m(\u001b[49m\u001b[43margs\u001b[49m\u001b[43m)\u001b[49m\n\u001b[1;32m   1323\u001b[0m forward_backward \u001b[38;5;241m=\u001b[39m \u001b[38;5;28mself\u001b[39m\u001b[38;5;241m.\u001b[39m_select_forward_and_backward_functions(\n\u001b[1;32m   1324\u001b[0m     args,\n\u001b[1;32m   1325\u001b[0m     possible_gradient_type,\n\u001b[1;32m   1326\u001b[0m     executing_eagerly)\n\u001b[1;32m   1327\u001b[0m forward_function, args_with_tangents \u001b[38;5;241m=\u001b[39m forward_backward\u001b[38;5;241m.\u001b[39mforward()\n",
      "File \u001b[0;32m/opt/miniconda3/envs/earthquake-detection/lib/python3.12/site-packages/tensorflow/python/eager/polymorphic_function/atomic_function.py:216\u001b[0m, in \u001b[0;36mAtomicFunction.call_preflattened\u001b[0;34m(self, args)\u001b[0m\n\u001b[1;32m    214\u001b[0m \u001b[38;5;28;01mdef\u001b[39;00m\u001b[38;5;250m \u001b[39m\u001b[38;5;21mcall_preflattened\u001b[39m(\u001b[38;5;28mself\u001b[39m, args: Sequence[core\u001b[38;5;241m.\u001b[39mTensor]) \u001b[38;5;241m-\u001b[39m\u001b[38;5;241m>\u001b[39m Any:\n\u001b[1;32m    215\u001b[0m \u001b[38;5;250m  \u001b[39m\u001b[38;5;124;03m\"\"\"Calls with flattened tensor inputs and returns the structured output.\"\"\"\u001b[39;00m\n\u001b[0;32m--> 216\u001b[0m   flat_outputs \u001b[38;5;241m=\u001b[39m \u001b[38;5;28;43mself\u001b[39;49m\u001b[38;5;241;43m.\u001b[39;49m\u001b[43mcall_flat\u001b[49m\u001b[43m(\u001b[49m\u001b[38;5;241;43m*\u001b[39;49m\u001b[43margs\u001b[49m\u001b[43m)\u001b[49m\n\u001b[1;32m    217\u001b[0m   \u001b[38;5;28;01mreturn\u001b[39;00m \u001b[38;5;28mself\u001b[39m\u001b[38;5;241m.\u001b[39mfunction_type\u001b[38;5;241m.\u001b[39mpack_output(flat_outputs)\n",
      "File \u001b[0;32m/opt/miniconda3/envs/earthquake-detection/lib/python3.12/site-packages/tensorflow/python/eager/polymorphic_function/atomic_function.py:251\u001b[0m, in \u001b[0;36mAtomicFunction.call_flat\u001b[0;34m(self, *args)\u001b[0m\n\u001b[1;32m    249\u001b[0m \u001b[38;5;28;01mwith\u001b[39;00m record\u001b[38;5;241m.\u001b[39mstop_recording():\n\u001b[1;32m    250\u001b[0m   \u001b[38;5;28;01mif\u001b[39;00m \u001b[38;5;28mself\u001b[39m\u001b[38;5;241m.\u001b[39m_bound_context\u001b[38;5;241m.\u001b[39mexecuting_eagerly():\n\u001b[0;32m--> 251\u001b[0m     outputs \u001b[38;5;241m=\u001b[39m \u001b[38;5;28;43mself\u001b[39;49m\u001b[38;5;241;43m.\u001b[39;49m\u001b[43m_bound_context\u001b[49m\u001b[38;5;241;43m.\u001b[39;49m\u001b[43mcall_function\u001b[49m\u001b[43m(\u001b[49m\n\u001b[1;32m    252\u001b[0m \u001b[43m        \u001b[49m\u001b[38;5;28;43mself\u001b[39;49m\u001b[38;5;241;43m.\u001b[39;49m\u001b[43mname\u001b[49m\u001b[43m,\u001b[49m\n\u001b[1;32m    253\u001b[0m \u001b[43m        \u001b[49m\u001b[38;5;28;43mlist\u001b[39;49m\u001b[43m(\u001b[49m\u001b[43margs\u001b[49m\u001b[43m)\u001b[49m\u001b[43m,\u001b[49m\n\u001b[1;32m    254\u001b[0m \u001b[43m        \u001b[49m\u001b[38;5;28;43mlen\u001b[39;49m\u001b[43m(\u001b[49m\u001b[38;5;28;43mself\u001b[39;49m\u001b[38;5;241;43m.\u001b[39;49m\u001b[43mfunction_type\u001b[49m\u001b[38;5;241;43m.\u001b[39;49m\u001b[43mflat_outputs\u001b[49m\u001b[43m)\u001b[49m\u001b[43m,\u001b[49m\n\u001b[1;32m    255\u001b[0m \u001b[43m    \u001b[49m\u001b[43m)\u001b[49m\n\u001b[1;32m    256\u001b[0m   \u001b[38;5;28;01melse\u001b[39;00m:\n\u001b[1;32m    257\u001b[0m     outputs \u001b[38;5;241m=\u001b[39m make_call_op_in_graph(\n\u001b[1;32m    258\u001b[0m         \u001b[38;5;28mself\u001b[39m,\n\u001b[1;32m    259\u001b[0m         \u001b[38;5;28mlist\u001b[39m(args),\n\u001b[1;32m    260\u001b[0m         \u001b[38;5;28mself\u001b[39m\u001b[38;5;241m.\u001b[39m_bound_context\u001b[38;5;241m.\u001b[39mfunction_call_options\u001b[38;5;241m.\u001b[39mas_attrs(),\n\u001b[1;32m    261\u001b[0m     )\n",
      "File \u001b[0;32m/opt/miniconda3/envs/earthquake-detection/lib/python3.12/site-packages/tensorflow/python/eager/context.py:1552\u001b[0m, in \u001b[0;36mContext.call_function\u001b[0;34m(self, name, tensor_inputs, num_outputs)\u001b[0m\n\u001b[1;32m   1550\u001b[0m cancellation_context \u001b[38;5;241m=\u001b[39m cancellation\u001b[38;5;241m.\u001b[39mcontext()\n\u001b[1;32m   1551\u001b[0m \u001b[38;5;28;01mif\u001b[39;00m cancellation_context \u001b[38;5;129;01mis\u001b[39;00m \u001b[38;5;28;01mNone\u001b[39;00m:\n\u001b[0;32m-> 1552\u001b[0m   outputs \u001b[38;5;241m=\u001b[39m \u001b[43mexecute\u001b[49m\u001b[38;5;241;43m.\u001b[39;49m\u001b[43mexecute\u001b[49m\u001b[43m(\u001b[49m\n\u001b[1;32m   1553\u001b[0m \u001b[43m      \u001b[49m\u001b[43mname\u001b[49m\u001b[38;5;241;43m.\u001b[39;49m\u001b[43mdecode\u001b[49m\u001b[43m(\u001b[49m\u001b[38;5;124;43m\"\u001b[39;49m\u001b[38;5;124;43mutf-8\u001b[39;49m\u001b[38;5;124;43m\"\u001b[39;49m\u001b[43m)\u001b[49m\u001b[43m,\u001b[49m\n\u001b[1;32m   1554\u001b[0m \u001b[43m      \u001b[49m\u001b[43mnum_outputs\u001b[49m\u001b[38;5;241;43m=\u001b[39;49m\u001b[43mnum_outputs\u001b[49m\u001b[43m,\u001b[49m\n\u001b[1;32m   1555\u001b[0m \u001b[43m      \u001b[49m\u001b[43minputs\u001b[49m\u001b[38;5;241;43m=\u001b[39;49m\u001b[43mtensor_inputs\u001b[49m\u001b[43m,\u001b[49m\n\u001b[1;32m   1556\u001b[0m \u001b[43m      \u001b[49m\u001b[43mattrs\u001b[49m\u001b[38;5;241;43m=\u001b[39;49m\u001b[43mattrs\u001b[49m\u001b[43m,\u001b[49m\n\u001b[1;32m   1557\u001b[0m \u001b[43m      \u001b[49m\u001b[43mctx\u001b[49m\u001b[38;5;241;43m=\u001b[39;49m\u001b[38;5;28;43mself\u001b[39;49m\u001b[43m,\u001b[49m\n\u001b[1;32m   1558\u001b[0m \u001b[43m  \u001b[49m\u001b[43m)\u001b[49m\n\u001b[1;32m   1559\u001b[0m \u001b[38;5;28;01melse\u001b[39;00m:\n\u001b[1;32m   1560\u001b[0m   outputs \u001b[38;5;241m=\u001b[39m execute\u001b[38;5;241m.\u001b[39mexecute_with_cancellation(\n\u001b[1;32m   1561\u001b[0m       name\u001b[38;5;241m.\u001b[39mdecode(\u001b[38;5;124m\"\u001b[39m\u001b[38;5;124mutf-8\u001b[39m\u001b[38;5;124m\"\u001b[39m),\n\u001b[1;32m   1562\u001b[0m       num_outputs\u001b[38;5;241m=\u001b[39mnum_outputs,\n\u001b[0;32m   (...)\u001b[0m\n\u001b[1;32m   1566\u001b[0m       cancellation_manager\u001b[38;5;241m=\u001b[39mcancellation_context,\n\u001b[1;32m   1567\u001b[0m   )\n",
      "File \u001b[0;32m/opt/miniconda3/envs/earthquake-detection/lib/python3.12/site-packages/tensorflow/python/eager/execute.py:53\u001b[0m, in \u001b[0;36mquick_execute\u001b[0;34m(op_name, num_outputs, inputs, attrs, ctx, name)\u001b[0m\n\u001b[1;32m     51\u001b[0m \u001b[38;5;28;01mtry\u001b[39;00m:\n\u001b[1;32m     52\u001b[0m   ctx\u001b[38;5;241m.\u001b[39mensure_initialized()\n\u001b[0;32m---> 53\u001b[0m   tensors \u001b[38;5;241m=\u001b[39m \u001b[43mpywrap_tfe\u001b[49m\u001b[38;5;241;43m.\u001b[39;49m\u001b[43mTFE_Py_Execute\u001b[49m\u001b[43m(\u001b[49m\u001b[43mctx\u001b[49m\u001b[38;5;241;43m.\u001b[39;49m\u001b[43m_handle\u001b[49m\u001b[43m,\u001b[49m\u001b[43m \u001b[49m\u001b[43mdevice_name\u001b[49m\u001b[43m,\u001b[49m\u001b[43m \u001b[49m\u001b[43mop_name\u001b[49m\u001b[43m,\u001b[49m\n\u001b[1;32m     54\u001b[0m \u001b[43m                                      \u001b[49m\u001b[43minputs\u001b[49m\u001b[43m,\u001b[49m\u001b[43m \u001b[49m\u001b[43mattrs\u001b[49m\u001b[43m,\u001b[49m\u001b[43m \u001b[49m\u001b[43mnum_outputs\u001b[49m\u001b[43m)\u001b[49m\n\u001b[1;32m     55\u001b[0m \u001b[38;5;28;01mexcept\u001b[39;00m core\u001b[38;5;241m.\u001b[39m_NotOkStatusException \u001b[38;5;28;01mas\u001b[39;00m e:\n\u001b[1;32m     56\u001b[0m   \u001b[38;5;28;01mif\u001b[39;00m name \u001b[38;5;129;01mis\u001b[39;00m \u001b[38;5;129;01mnot\u001b[39;00m \u001b[38;5;28;01mNone\u001b[39;00m:\n",
      "\u001b[0;31mKeyboardInterrupt\u001b[0m: "
     ]
    }
   ],
   "source": [
    "opt = tf.keras.optimizers.Adam(learning_rate=1e-6)\n",
    "classifier_model.compile(optimizer=opt, loss='sparse_categorical_crossentropy', metrics=['accuracy'])\n",
    "classifier_history = classifier_model.fit(train_dataset_c, epochs=2, callbacks=callbacks, validation_data=val_dataset_c)"
   ]
  },
  {
   "cell_type": "code",
   "execution_count": 383,
   "id": "39cd142b-8610-4168-8c71-d14710d24bb0",
   "metadata": {},
   "outputs": [],
   "source": [
    "def plot_training_history(history):\n",
    "    if 'accuracy' and 'val_accuracy' in history.history.keys():\n",
    "        fig, (ax1,ax2) = plt.subplots(1,2,figsize=(10,5))\n",
    "        ax1.plot(history.history['loss'], color='xkcd:cranberry', label='Training loss')\n",
    "        ax1.plot(history.history['val_loss'], color='xkcd:dusty blue', label='Validation loss')\n",
    "        ax1.grid(True, alpha=0.2, zorder=5)\n",
    "        ax1.set_title('Model loss')\n",
    "        ax1.set_ylabel('Loss (sparse categorical crossentropy)')\n",
    "        ax1.set_xlabel('Epoch')\n",
    "        ax1.legend()   \n",
    "        ax2.plot(history.history['accuracy'], color='xkcd:cranberry', label='Training accuracy')\n",
    "        ax2.plot(history.history['val_accuracy'], color='xkcd:dusty blue', label='Validation accuracy')\n",
    "        ax2.grid(True, alpha=0.2, zorder=5)\n",
    "        ax2.set_title('Model Accuracy')\n",
    "        ax2.set_ylabel('Accuracy')\n",
    "        ax2.set_xlabel('Epoch')\n",
    "        ax2.legend()    \n",
    "        plt.tight_layout()\n",
    "        plt.show()\n",
    "    if 'mae' and 'val_mae' in history.history.keys():\n",
    "        fig, (ax1,ax2) = plt.subplots(1,2,figsize=(10,5))\n",
    "        ax1.plot(history.history['loss'], color='xkcd:cranberry', label='Training loss')\n",
    "        ax1.plot(history.history['val_loss'], color='xkcd:dusty blue', label='Validation loss')\n",
    "        ax1.grid(True, alpha=0.2, zorder=5)\n",
    "        ax1.set_title('Model loss')\n",
    "        ax1.set_ylabel('Loss (sparse categorical crossentropy)')\n",
    "        ax1.set_xlabel('Epoch')\n",
    "        ax1.legend()   \n",
    "        ax2.plot(history.history['mae'], color='xkcd:cranberry', label='Training MAE')\n",
    "        ax2.plot(history.history['val_mae'], color='xkcd:dusty blue', label='Validation MAE')\n",
    "        ax2.grid(True, alpha=0.2, zorder=5)\n",
    "        ax2.set_title('Model MAE')\n",
    "        ax2.set_ylabel('MAE')\n",
    "        ax2.set_xlabel('Epoch')\n",
    "        ax2.legend()    \n",
    "        plt.tight_layout()\n",
    "        plt.show()        \n",
    "    elif 'loss' and 'val_loss' in history.history.keys():\n",
    "        fig, ax = plt.subplots(1,1,figsize=(5,5))\n",
    "        ax.plot(history.history['loss'], color='xkcd:cranberry', label='Training loss')\n",
    "        ax.plot(history.history['val_loss'], color='xkcd:dusty blue', label='Validation loss')\n",
    "        ax.grid(True, alpha=0.2, zorder=5)\n",
    "        ax.set_title('Model loss')\n",
    "        ax.set_ylabel('Loss (sparse categorical crossentropy)')\n",
    "        ax.set_xlabel('Epoch')\n",
    "        ax.legend()\n",
    "        plt.tight_layout()\n",
    "        plt.show()        "
   ]
  },
  {
   "cell_type": "code",
   "execution_count": 581,
   "id": "5a607cb3-e387-46f0-9634-d5d6fe969ba4",
   "metadata": {},
   "outputs": [
    {
     "data": {
      "image/png": "[encoded data removed]",
      "text/plain": [
       "<Figure size 1000x500 with 2 Axes>"
      ]
     },
     "metadata": {},
     "output_type": "display_data"
    }
   ],
   "source": [
    "plot_training_history(classifier_history)"
   ]
  },
  {
   "cell_type": "code",
   "execution_count": 582,
   "id": "6cad79a1-73ae-4f3e-b1c0-9fd4657c2a72",
   "metadata": {},
   "outputs": [],
   "source": [
    "def evaluate_classification_model(trained_model, test_dataset):\n",
    "    # Parse test labels from test dataset\n",
    "    test_labels = []\n",
    "    for _, labels in test_dataset:\n",
    "        test_labels.append(labels.numpy())\n",
    "    test_labels = np.concatenate(test_labels)\n",
    "    \n",
    "    print('Evaluating model on test dataset')    \n",
    "    print('Finding predicted classes and probabilities')\n",
    "    predicted_classes = np.argmax(trained_model.predict(test_dataset),axis=-1) # predict the class of each image\n",
    "    predicted_probs = trained_model.predict(test_dataset) # predict the probability of each image belonging to a class\n",
    "    \n",
    "    accuracy = accuracy_score(test_labels, predicted_classes)\n",
    "    precision = precision_score(test_labels, predicted_classes)\n",
    "    recall = recall_score(test_labels, predicted_classes)\n",
    "    f1 = f1_score(test_labels ,predicted_classes)\n",
    "    print(f'Model accuracy: {accuracy}\\n Model precision: {precision}\\n Model recall: {recall}\\n Model F1 score: {f1}')\n",
    "\n",
    "    # Create confusion matrix\n",
    "    print('Building confusion matrix')\n",
    "    cm = confusion_matrix(test_labels, predicted_classes) # compare target values to predicted values and show confusion matrix\n",
    "    disp = ConfusionMatrixDisplay(confusion_matrix=cm, display_labels=['not earthquake','earthquake'])\n",
    "\n",
    "    # Calculate ROC curve and AUC\n",
    "    fpr, tpr, thresholds = roc_curve(test_labels, predicted_classes)\n",
    "    roc_auc = auc(fpr, tpr)  \n",
    "\n",
    "    # Plot accuracy history, confusion matrix, roc curve\n",
    "    fig, (ax1, ax2) = plt.subplots(1,2,figsize=(13,5))  \n",
    "    disp.plot(cmap='Blues', ax=ax1, values_format='')\n",
    "    ax1.set_title('Classification CNN Results')\n",
    "    ax2.plot(fpr, tpr, color='xkcd:cranberry', label=f'ROC curve (AUC = {roc_auc:.2f})')\n",
    "    ax2.plot([0, 1], [0, 1], color='lightgray', linestyle='--')  # diagonal line (random classifier)\n",
    "    ax2.set_xlabel('False Positive Rate')\n",
    "    ax2.set_ylabel('True Positive Rate')\n",
    "    ax2.set_title('Receiver Operating Characteristic (ROC) Curve')\n",
    "    ax2.grid(True, alpha=0.2, zorder=5)\n",
    "    plt.tight_layout()\n",
    "    plt.show()\n",
    "    "
   ]
  },
  {
   "cell_type": "code",
   "execution_count": 583,
   "id": "d63fba3e-6b2c-4007-acc6-be4941ec5898",
   "metadata": {},
   "outputs": [
    {
     "name": "stdout",
     "output_type": "stream",
     "text": [
      "Evaluating model on test dataset\n",
      "Finding predicted classes and probabilities\n",
      "\u001b[1m79/79\u001b[0m \u001b[32m━━━━━━━━━━━━━━━━━━━━\u001b[0m\u001b[37m\u001b[0m \u001b[1m10s\u001b[0m 122ms/step\n",
      "\u001b[1m79/79\u001b[0m \u001b[32m━━━━━━━━━━━━━━━━━━━━\u001b[0m\u001b[37m\u001b[0m \u001b[1m10s\u001b[0m 121ms/step\n",
      "Model accuracy: 0.9612\n",
      " Model precision: 0.9804719283970708\n",
      " Model recall: 0.9428794992175273\n",
      " Model F1 score: 0.9613083366573594\n",
      "Building confusion matrix\n"
     ]
    },
    {
     "data": {
      "image/png": "[encoded data removed]",
      "text/plain": [
       "<Figure size 1300x500 with 3 Axes>"
      ]
     },
     "metadata": {},
     "output_type": "display_data"
    }
   ],
   "source": [
    "evaluate_classification_model(classifier_model, test_dataset_c)"
   ]
  },
  {
   "cell_type": "code",
   "execution_count": 20,
   "id": "78b70106-8045-456b-85f4-c48a7a6f4745",
   "metadata": {},
   "outputs": [
    {
     "data": {
      "text/plain": [
       "(5081, 200, 600, 3)"
      ]
     },
     "execution_count": 20,
     "metadata": {},
     "output_type": "execute_result"
    }
   ],
   "source": [
    "waveform_imgs_earthquakes_only.shape"
   ]
  },
  {
   "cell_type": "code",
   "execution_count": 345,
   "id": "d8e6d76f-2de6-4465-8773-5babea4c639d",
   "metadata": {},
   "outputs": [
    {
     "name": "stdout",
     "output_type": "stream",
     "text": [
      "Epoch 1/50\n",
      "\u001b[1m90/90\u001b[0m \u001b[32m━━━━━━━━━━━━━━━━━━━━\u001b[0m\u001b[37m\u001b[0m \u001b[1m536s\u001b[0m 6s/step - loss: 58611.4922 - p_wave_arrival_loss: 682.2533 - p_wave_arrival_mae: 12.4013 - s_wave_arrival_loss: 32549.9395 - s_wave_arrival_mae: 58.5427 - source_depth_loss: 689.1227 - source_depth_mae: 18.9196 - source_distance_loss: 14528.3057 - source_distance_mae: 47.5545 - source_magnitude_loss: 10159.2080 - source_magnitude_mse: 10172.9336 - val_loss: 24.9505 - val_p_wave_arrival_loss: 0.5313 - val_p_wave_arrival_mae: 0.5633 - val_s_wave_arrival_loss: 9.7041 - val_s_wave_arrival_mae: 1.5610 - val_source_depth_loss: 2.7867 - val_source_depth_mae: 2.0397 - val_source_distance_loss: 5.7282 - val_source_distance_mae: 2.1857 - val_source_magnitude_loss: 6.1847 - val_source_magnitude_mse: 4.7093 - learning_rate: 0.0010\n",
      "Epoch 2/50\n",
      "\u001b[1m90/90\u001b[0m \u001b[32m━━━━━━━━━━━━━━━━━━━━\u001b[0m\u001b[37m\u001b[0m \u001b[1m517s\u001b[0m 6s/step - loss: 20.7765 - p_wave_arrival_loss: 0.8152 - p_wave_arrival_mae: 0.5873 - s_wave_arrival_loss: 9.7049 - s_wave_arrival_mae: 1.3751 - source_depth_loss: 1.7591 - source_depth_mae: 1.6340 - source_distance_loss: 4.0699 - source_distance_mae: 1.7243 - source_magnitude_loss: 4.4253 - source_magnitude_mse: 3.4966 - val_loss: 9.9073 - val_p_wave_arrival_loss: 0.4382 - val_p_wave_arrival_mae: 0.4934 - val_s_wave_arrival_loss: 5.7224 - val_s_wave_arrival_mae: 0.6707 - val_source_depth_loss: 0.5903 - val_source_depth_mae: 1.1977 - val_source_distance_loss: 1.5035 - val_source_distance_mae: 0.8470 - val_source_magnitude_loss: 1.6430 - val_source_magnitude_mse: 1.0483 - learning_rate: 0.0010\n",
      "Epoch 3/50\n",
      "\u001b[1m90/90\u001b[0m \u001b[32m━━━━━━━━━━━━━━━━━━━━\u001b[0m\u001b[37m\u001b[0m \u001b[1m543s\u001b[0m 6s/step - loss: 9.4273 - p_wave_arrival_loss: 0.4466 - p_wave_arrival_mae: 0.4913 - s_wave_arrival_loss: 5.8021 - s_wave_arrival_mae: 0.7322 - source_depth_loss: 0.6837 - source_depth_mae: 1.1787 - source_distance_loss: 1.4301 - source_distance_mae: 0.8049 - source_magnitude_loss: 1.0642 - source_magnitude_mse: 0.7400 - val_loss: 7.2651 - val_p_wave_arrival_loss: 0.3542 - val_p_wave_arrival_mae: 0.5012 - val_s_wave_arrival_loss: 4.7155 - val_s_wave_arrival_mae: 0.8269 - val_source_depth_loss: 0.4725 - val_source_depth_mae: 1.1598 - val_source_distance_loss: 1.1173 - val_source_distance_mae: 0.6630 - val_source_magnitude_loss: 0.6023 - val_source_magnitude_mse: 0.4425 - learning_rate: 0.0010\n",
      "Epoch 4/50\n",
      "\u001b[1m90/90\u001b[0m \u001b[32m━━━━━━━━━━━━━━━━━━━━\u001b[0m\u001b[37m\u001b[0m \u001b[1m545s\u001b[0m 6s/step - loss: 6.9219 - p_wave_arrival_loss: 0.3185 - p_wave_arrival_mae: 0.5085 - s_wave_arrival_loss: 4.6863 - s_wave_arrival_mae: 0.7563 - source_depth_loss: 0.5226 - source_depth_mae: 1.1712 - source_distance_loss: 0.8806 - source_distance_mae: 0.6493 - source_magnitude_loss: 0.5145 - source_magnitude_mse: 0.5474 - val_loss: 6.7146 - val_p_wave_arrival_loss: 0.3491 - val_p_wave_arrival_mae: 0.4712 - val_s_wave_arrival_loss: 4.6616 - val_s_wave_arrival_mae: 0.7856 - val_source_depth_loss: 0.4438 - val_source_depth_mae: 1.1600 - val_source_distance_loss: 0.8384 - val_source_distance_mae: 0.5935 - val_source_magnitude_loss: 0.4183 - val_source_magnitude_mse: 0.6009 - learning_rate: 0.0010\n",
      "Epoch 5/50\n",
      "\u001b[1m90/90\u001b[0m \u001b[32m━━━━━━━━━━━━━━━━━━━━\u001b[0m\u001b[37m\u001b[0m \u001b[1m544s\u001b[0m 6s/step - loss: 7.0264 - p_wave_arrival_loss: 0.3196 - p_wave_arrival_mae: 0.4982 - s_wave_arrival_loss: 4.9361 - s_wave_arrival_mae: 0.8383 - source_depth_loss: 0.4819 - source_depth_mae: 1.2681 - source_distance_loss: 0.8508 - source_distance_mae: 0.6559 - source_magnitude_loss: 0.4371 - source_magnitude_mse: 0.5976 - val_loss: 6.5865 - val_p_wave_arrival_loss: 0.3120 - val_p_wave_arrival_mae: 0.4990 - val_s_wave_arrival_loss: 4.6737 - val_s_wave_arrival_mae: 0.7950 - val_source_depth_loss: 0.3889 - val_source_depth_mae: 1.1525 - val_source_distance_loss: 0.7819 - val_source_distance_mae: 0.5799 - val_source_magnitude_loss: 0.4261 - val_source_magnitude_mse: 0.5849 - learning_rate: 0.0010\n",
      "Epoch 6/50\n",
      "\u001b[1m90/90\u001b[0m \u001b[32m━━━━━━━━━━━━━━━━━━━━\u001b[0m\u001b[37m\u001b[0m \u001b[1m520s\u001b[0m 6s/step - loss: 6.3670 - p_wave_arrival_loss: 0.3108 - p_wave_arrival_mae: 0.5095 - s_wave_arrival_loss: 4.3590 - s_wave_arrival_mae: 0.8174 - source_depth_loss: 0.4746 - source_depth_mae: 1.2157 - source_distance_loss: 0.7881 - source_distance_mae: 0.6372 - source_magnitude_loss: 0.4343 - source_magnitude_mse: 0.6237 - val_loss: 6.7835 - val_p_wave_arrival_loss: 0.3533 - val_p_wave_arrival_mae: 0.4451 - val_s_wave_arrival_loss: 4.7105 - val_s_wave_arrival_mae: 0.6758 - val_source_depth_loss: 0.4226 - val_source_depth_mae: 1.1609 - val_source_distance_loss: 0.7801 - val_source_distance_mae: 0.6238 - val_source_magnitude_loss: 0.5127 - val_source_magnitude_mse: 0.8318 - learning_rate: 0.0010\n",
      "Epoch 7/50\n",
      "\u001b[1m90/90\u001b[0m \u001b[32m━━━━━━━━━━━━━━━━━━━━\u001b[0m\u001b[37m\u001b[0m \u001b[1m542s\u001b[0m 6s/step - loss: 6.3233 - p_wave_arrival_loss: 0.2914 - p_wave_arrival_mae: 0.4923 - s_wave_arrival_loss: 4.3251 - s_wave_arrival_mae: 0.8510 - source_depth_loss: 0.4444 - source_depth_mae: 1.2651 - source_distance_loss: 0.8022 - source_distance_mae: 0.6273 - source_magnitude_loss: 0.4597 - source_magnitude_mse: 0.6014 - val_loss: 6.5679 - val_p_wave_arrival_loss: 0.3129 - val_p_wave_arrival_mae: 0.4695 - val_s_wave_arrival_loss: 4.6475 - val_s_wave_arrival_mae: 0.7275 - val_source_depth_loss: 0.3841 - val_source_depth_mae: 1.1535 - val_source_distance_loss: 0.7868 - val_source_distance_mae: 0.6156 - val_source_magnitude_loss: 0.4338 - val_source_magnitude_mse: 0.5990 - learning_rate: 0.0010\n",
      "Epoch 8/50\n",
      "\u001b[1m90/90\u001b[0m \u001b[32m━━━━━━━━━━━━━━━━━━━━\u001b[0m\u001b[37m\u001b[0m \u001b[1m519s\u001b[0m 6s/step - loss: 5.6078 - p_wave_arrival_loss: 0.2753 - p_wave_arrival_mae: 0.4881 - s_wave_arrival_loss: 3.6652 - s_wave_arrival_mae: 0.8186 - source_depth_loss: 0.4047 - source_depth_mae: 1.2302 - source_distance_loss: 0.8263 - source_distance_mae: 0.6427 - source_magnitude_loss: 0.4358 - source_magnitude_mse: 0.5430 - val_loss: 6.5767 - val_p_wave_arrival_loss: 0.3062 - val_p_wave_arrival_mae: 0.5212 - val_s_wave_arrival_loss: 4.6686 - val_s_wave_arrival_mae: 0.8790 - val_source_depth_loss: 0.3832 - val_source_depth_mae: 1.1599 - val_source_distance_loss: 0.7740 - val_source_distance_mae: 0.5729 - val_source_magnitude_loss: 0.4442 - val_source_magnitude_mse: 0.5087 - learning_rate: 0.0010\n",
      "Epoch 9/50\n",
      "\u001b[1m90/90\u001b[0m \u001b[32m━━━━━━━━━━━━━━━━━━━━\u001b[0m\u001b[37m\u001b[0m \u001b[1m0s\u001b[0m 5s/step - loss: 5.7836 - p_wave_arrival_loss: 0.2994 - p_wave_arrival_mae: 0.5003 - s_wave_arrival_loss: 3.5963 - s_wave_arrival_mae: 0.8527 - source_depth_loss: 0.4419 - source_depth_mae: 1.2440 - source_distance_loss: 0.9775 - source_distance_mae: 0.6431 - source_magnitude_loss: 0.4685 - source_magnitude_mse: 0.5576\n",
      "Epoch 9: ReduceLROnPlateau reducing learning rate to 0.00010000000474974513.\n",
      "\u001b[1m90/90\u001b[0m \u001b[32m━━━━━━━━━━━━━━━━━━━━\u001b[0m\u001b[37m\u001b[0m \u001b[1m512s\u001b[0m 6s/step - loss: 5.7773 - p_wave_arrival_loss: 0.2990 - p_wave_arrival_mae: 0.5003 - s_wave_arrival_loss: 3.5928 - s_wave_arrival_mae: 0.8527 - source_depth_loss: 0.4416 - source_depth_mae: 1.2440 - source_distance_loss: 0.9758 - source_distance_mae: 0.6428 - source_magnitude_loss: 0.4683 - source_magnitude_mse: 0.5574 - val_loss: 6.5830 - val_p_wave_arrival_loss: 0.3301 - val_p_wave_arrival_mae: 0.4459 - val_s_wave_arrival_loss: 4.6169 - val_s_wave_arrival_mae: 0.7765 - val_source_depth_loss: 0.3955 - val_source_depth_mae: 1.1551 - val_source_distance_loss: 0.7905 - val_source_distance_mae: 0.6148 - val_source_magnitude_loss: 0.4502 - val_source_magnitude_mse: 0.6097 - learning_rate: 0.0010\n",
      "Epoch 10/50\n",
      "\u001b[1m90/90\u001b[0m \u001b[32m━━━━━━━━━━━━━━━━━━━━\u001b[0m\u001b[37m\u001b[0m \u001b[1m539s\u001b[0m 6s/step - loss: 5.4595 - p_wave_arrival_loss: 0.2816 - p_wave_arrival_mae: 0.4813 - s_wave_arrival_loss: 3.2746 - s_wave_arrival_mae: 0.8642 - source_depth_loss: 0.4341 - source_depth_mae: 1.3091 - source_distance_loss: 0.9840 - source_distance_mae: 0.6702 - source_magnitude_loss: 0.4851 - source_magnitude_mse: 0.5646 - val_loss: 6.5469 - val_p_wave_arrival_loss: 0.3029 - val_p_wave_arrival_mae: 0.4887 - val_s_wave_arrival_loss: 4.6151 - val_s_wave_arrival_mae: 0.8151 - val_source_depth_loss: 0.3877 - val_source_depth_mae: 1.1573 - val_source_distance_loss: 0.7919 - val_source_distance_mae: 0.5942 - val_source_magnitude_loss: 0.4494 - val_source_magnitude_mse: 0.5596 - learning_rate: 1.0000e-04\n",
      "Epoch 11/50\n",
      "\u001b[1m90/90\u001b[0m \u001b[32m━━━━━━━━━━━━━━━━━━━━\u001b[0m\u001b[37m\u001b[0m \u001b[1m519s\u001b[0m 6s/step - loss: 5.0122 - p_wave_arrival_loss: 0.2369 - p_wave_arrival_mae: 0.4799 - s_wave_arrival_loss: 2.9547 - s_wave_arrival_mae: 0.8723 - source_depth_loss: 0.4211 - source_depth_mae: 1.2725 - source_distance_loss: 0.9351 - source_distance_mae: 0.6419 - source_magnitude_loss: 0.4656 - source_magnitude_mse: 0.5418 - val_loss: 6.5615 - val_p_wave_arrival_loss: 0.3006 - val_p_wave_arrival_mae: 0.4990 - val_s_wave_arrival_loss: 4.6242 - val_s_wave_arrival_mae: 0.8337 - val_source_depth_loss: 0.3875 - val_source_depth_mae: 1.1588 - val_source_distance_loss: 0.7931 - val_source_distance_mae: 0.5919 - val_source_magnitude_loss: 0.4564 - val_source_magnitude_mse: 0.5405 - learning_rate: 1.0000e-04\n",
      "Epoch 12/50\n",
      "\u001b[1m90/90\u001b[0m \u001b[32m━━━━━━━━━━━━━━━━━━━━\u001b[0m\u001b[37m\u001b[0m \u001b[1m0s\u001b[0m 5s/step - loss: 4.5894 - p_wave_arrival_loss: 0.2323 - p_wave_arrival_mae: 0.4810 - s_wave_arrival_loss: 2.5767 - s_wave_arrival_mae: 0.8918 - source_depth_loss: 0.4146 - source_depth_mae: 1.2004 - source_distance_loss: 0.9180 - source_distance_mae: 0.6190 - source_magnitude_loss: 0.4479 - source_magnitude_mse: 0.5319\n",
      "Epoch 12: ReduceLROnPlateau reducing learning rate to 1.0000000474974514e-05.\n",
      "\u001b[1m90/90\u001b[0m \u001b[32m━━━━━━━━━━━━━━━━━━━━\u001b[0m\u001b[37m\u001b[0m \u001b[1m517s\u001b[0m 6s/step - loss: 4.5908 - p_wave_arrival_loss: 0.2323 - p_wave_arrival_mae: 0.4812 - s_wave_arrival_loss: 2.5780 - s_wave_arrival_mae: 0.8918 - source_depth_loss: 0.4144 - source_depth_mae: 1.2010 - source_distance_loss: 0.9179 - source_distance_mae: 0.6191 - source_magnitude_loss: 0.4483 - source_magnitude_mse: 0.5317 - val_loss: 6.5873 - val_p_wave_arrival_loss: 0.2993 - val_p_wave_arrival_mae: 0.4880 - val_s_wave_arrival_loss: 4.6291 - val_s_wave_arrival_mae: 0.7544 - val_source_depth_loss: 0.3881 - val_source_depth_mae: 1.1588 - val_source_distance_loss: 0.7991 - val_source_distance_mae: 0.6176 - val_source_magnitude_loss: 0.4710 - val_source_magnitude_mse: 0.5893 - learning_rate: 1.0000e-04\n",
      "Epoch 13/50\n",
      "\u001b[1m90/90\u001b[0m \u001b[32m━━━━━━━━━━━━━━━━━━━━\u001b[0m\u001b[37m\u001b[0m \u001b[1m512s\u001b[0m 6s/step - loss: 4.8120 - p_wave_arrival_loss: 0.2258 - p_wave_arrival_mae: 0.4684 - s_wave_arrival_loss: 2.7425 - s_wave_arrival_mae: 0.8677 - source_depth_loss: 0.4256 - source_depth_mae: 1.2212 - source_distance_loss: 0.9461 - source_distance_mae: 0.6335 - source_magnitude_loss: 0.4713 - source_magnitude_mse: 0.5595 - val_loss: 6.5739 - val_p_wave_arrival_loss: 0.2988 - val_p_wave_arrival_mae: 0.4995 - val_s_wave_arrival_loss: 4.6238 - val_s_wave_arrival_mae: 0.8006 - val_source_depth_loss: 0.3882 - val_source_depth_mae: 1.1604 - val_source_distance_loss: 0.7961 - val_source_distance_mae: 0.6057 - val_source_magnitude_loss: 0.4669 - val_source_magnitude_mse: 0.5499 - learning_rate: 1.0000e-05\n",
      "Epoch 14/50\n",
      "\u001b[1m90/90\u001b[0m \u001b[32m━━━━━━━━━━━━━━━━━━━━\u001b[0m\u001b[37m\u001b[0m \u001b[1m0s\u001b[0m 5s/step - loss: 5.2545 - p_wave_arrival_loss: 0.2499 - p_wave_arrival_mae: 0.4985 - s_wave_arrival_loss: 2.9848 - s_wave_arrival_mae: 0.8968 - source_depth_loss: 0.4416 - source_depth_mae: 1.2868 - source_distance_loss: 1.0661 - source_distance_mae: 0.6589 - source_magnitude_loss: 0.5127 - source_magnitude_mse: 0.5537\n",
      "Epoch 14: ReduceLROnPlateau reducing learning rate to 1.0000000656873453e-06.\n",
      "\u001b[1m90/90\u001b[0m \u001b[32m━━━━━━━━━━━━━━━━━━━━\u001b[0m\u001b[37m\u001b[0m \u001b[1m517s\u001b[0m 6s/step - loss: 5.2478 - p_wave_arrival_loss: 0.2496 - p_wave_arrival_mae: 0.4984 - s_wave_arrival_loss: 2.9814 - s_wave_arrival_mae: 0.8968 - source_depth_loss: 0.4411 - source_depth_mae: 1.2864 - source_distance_loss: 1.0643 - source_distance_mae: 0.6585 - source_magnitude_loss: 0.5124 - source_magnitude_mse: 0.5534 - val_loss: 6.5775 - val_p_wave_arrival_loss: 0.2988 - val_p_wave_arrival_mae: 0.4994 - val_s_wave_arrival_loss: 4.6245 - val_s_wave_arrival_mae: 0.7883 - val_source_depth_loss: 0.3886 - val_source_depth_mae: 1.1609 - val_source_distance_loss: 0.7977 - val_source_distance_mae: 0.6099 - val_source_magnitude_loss: 0.4676 - val_source_magnitude_mse: 0.5524 - learning_rate: 1.0000e-05\n",
      "Epoch 15/50\n",
      "\u001b[1m90/90\u001b[0m \u001b[32m━━━━━━━━━━━━━━━━━━━━\u001b[0m\u001b[37m\u001b[0m \u001b[1m511s\u001b[0m 6s/step - loss: 5.3645 - p_wave_arrival_loss: 0.2535 - p_wave_arrival_mae: 0.4965 - s_wave_arrival_loss: 3.1263 - s_wave_arrival_mae: 0.9086 - source_depth_loss: 0.4266 - source_depth_mae: 1.3533 - source_distance_loss: 1.0561 - source_distance_mae: 0.6614 - source_magnitude_loss: 0.5021 - source_magnitude_mse: 0.5393 - val_loss: 6.5772 - val_p_wave_arrival_loss: 0.2988 - val_p_wave_arrival_mae: 0.4992 - val_s_wave_arrival_loss: 4.6244 - val_s_wave_arrival_mae: 0.7917 - val_source_depth_loss: 0.3886 - val_source_depth_mae: 1.1607 - val_source_distance_loss: 0.7976 - val_source_distance_mae: 0.6088 - val_source_magnitude_loss: 0.4677 - val_source_magnitude_mse: 0.5525 - learning_rate: 1.0000e-06\n",
      "Epoch 15: early stopping\n",
      "Restoring model weights from the end of the best epoch: 10.\n"
     ]
    }
   ],
   "source": [
    "input_shape = (waveform_imgs_earthquakes_only.shape[2], waveform_imgs_earthquakes_only.shape[1], waveform_imgs_earthquakes_only.shape[3])\n",
    "inputs = tf.keras.layers.Input(shape=input_shape)\n",
    "\n",
    "x = tf.keras.layers.Conv2D(64, kernel_size=(3, 3), activation = 'relu', padding = 'same')(inputs)\n",
    "x = tf.keras.layers.MaxPooling2D((2, 2))(x)\n",
    "x = tf.keras.layers.Dropout(0.25)(x)\n",
    "x = tf.keras.layers.Conv2D(128, kernel_size=(3, 3), activation = 'relu', padding = 'same')(inputs)\n",
    "x = tf.keras.layers.MaxPooling2D((2, 2))(x)\n",
    "x = tf.keras.layers.Dropout(0.25)(x)\n",
    "x = tf.keras.layers.Flatten()(x)\n",
    "x = tf.keras.layers.Dense(128, activation='relu')(x)\n",
    "\n",
    "# Separate heads for each target variable\n",
    "head_1 = tf.keras.layers.Dense(1, name='source_magnitude')(x)\n",
    "head_2 = tf.keras.layers.Dense(1, name='p_wave_arrival')(x)\n",
    "head_3 = tf.keras.layers.Dense(1, name='s_wave_arrival')(x) \n",
    "head_4 = tf.keras.layers.Dense(1, name='source_distance')(x)\n",
    "head_5 = tf.keras.layers.Dense(1, name='source_depth')(x) \n",
    "\n",
    "# Create model with multiple outputs\n",
    "regressor_model = tf.keras.Model(inputs=inputs, outputs=[head_1, head_2, head_3, head_4, head_5])\n",
    "regressor_model.compile(\n",
    "    optimizer='adam',\n",
    "    loss={'source_magnitude': 'mse', 'p_wave_arrival': 'mse', 's_wave_arrival': 'mse', 'source_distance': 'mse', 'source_depth': 'mse'},\n",
    "    metrics={'source_magnitude': 'mse', 'p_wave_arrival': 'mae', 's_wave_arrival': 'mae', 'source_distance': 'mae', 'source_depth': 'mae'}\n",
    ")\n",
    "    \n",
    "regressor_history = regressor_model.fit(train_dataset_r, epochs=50, callbacks=callbacks, validation_data=val_dataset_r)"
   ]
  },
  {
   "cell_type": "code",
   "execution_count": 177,
   "id": "729fdb5a-b74a-4c5a-a30b-4ced176fbfed",
   "metadata": {},
   "outputs": [
    {
     "name": "stdout",
     "output_type": "stream",
     "text": [
      "Epoch 1/20\n",
      "\u001b[1m90/90\u001b[0m \u001b[32m━━━━━━━━━━━━━━━━━━━━\u001b[0m\u001b[37m\u001b[0m \u001b[1m185s\u001b[0m 2s/step - loss: 168.4195 - mae: 3.5765 - val_loss: 0.5523 - val_mae: 0.5406 - learning_rate: 0.0010\n",
      "Epoch 2/20\n",
      "\u001b[1m90/90\u001b[0m \u001b[32m━━━━━━━━━━━━━━━━━━━━\u001b[0m\u001b[37m\u001b[0m \u001b[1m183s\u001b[0m 2s/step - loss: 0.5689 - mae: 0.5697 - val_loss: 0.5515 - val_mae: 0.5407 - learning_rate: 0.0010\n",
      "Epoch 3/20\n",
      "\u001b[1m90/90\u001b[0m \u001b[32m━━━━━━━━━━━━━━━━━━━━\u001b[0m\u001b[37m\u001b[0m \u001b[1m183s\u001b[0m 2s/step - loss: 0.5615 - mae: 0.5638 - val_loss: 0.5506 - val_mae: 0.5409 - learning_rate: 0.0010\n",
      "Epoch 4/20\n",
      "\u001b[1m90/90\u001b[0m \u001b[32m━━━━━━━━━━━━━━━━━━━━\u001b[0m\u001b[37m\u001b[0m \u001b[1m183s\u001b[0m 2s/step - loss: 0.5451 - mae: 0.5563 - val_loss: 0.5495 - val_mae: 0.5411 - learning_rate: 0.0010\n",
      "Epoch 5/20\n",
      "\u001b[1m90/90\u001b[0m \u001b[32m━━━━━━━━━━━━━━━━━━━━\u001b[0m\u001b[37m\u001b[0m \u001b[1m183s\u001b[0m 2s/step - loss: 0.5371 - mae: 0.5548 - val_loss: 0.5483 - val_mae: 0.5414 - learning_rate: 0.0010\n",
      "Epoch 5: early stopping\n",
      "Restoring model weights from the end of the best epoch: 1.\n"
     ]
    }
   ],
   "source": [
    "regressor_model = tf.keras.Sequential([\n",
    "    tf.keras.layers.Conv2D(32, kernel_size=(3, 3), activation = 'relu', padding = 'same'),\n",
    "    tf.keras.layers.MaxPool2D(2,2),\n",
    "    tf.keras.layers.Dropout(0.50),\n",
    "    tf.keras.layers.Conv2D(64, kernel_size=(5, 5), activation = 'relu', padding = 'same'),\n",
    "    tf.keras.layers.MaxPool2D(2,2),\n",
    "    tf.keras.layers.Dropout(0.50),\n",
    "    tf.keras.layers.Flatten(),\n",
    "    tf.keras.layers.Dense(16,activation='relu'),\n",
    "    tf.keras.layers.Dense(len(regressor_target_names))\n",
    "])\n",
    "\n",
    "opt = tf.keras.optimizers.Adam(learning_rate=1e-3)\n",
    "regressor_model.compile(optimizer=opt, loss='mse', metrics=['mae'])\n",
    "regressor_history = regressor_model.fit(train_dataset_r, epochs=20, callbacks=callbacks, validation_data=val_dataset_r)"
   ]
  },
  {
   "cell_type": "code",
   "execution_count": 392,
   "id": "04809f3e-fd31-4ac1-bd4a-b831623e15fe",
   "metadata": {},
   "outputs": [],
   "source": [
    "def evaluate_regression_model(trained_model, test_dataset, target_variable_name, scaler=None):\n",
    "    test_labels = []\n",
    "    for images, labels in test_dataset:\n",
    "        test_labels.append(np.array(labels))\n",
    "    test_labels = np.concatenate(test_labels)\n",
    "    \n",
    "    print('Evaluating model on test dataset')\n",
    "    test_results = trained_model.evaluate(test_dataset, verbose=1)\n",
    "    print(f'Test data MSE: {test_results[0]}')\n",
    "    print(f'Test data MAE: {test_results[1]}')\n",
    "    \n",
    "    print('Getting predictions')\n",
    "    predicted = trained_model.predict(test_dataset)\n",
    "    \n",
    "    if scaler:\n",
    "        test_labels = scaler.inverse_transform(test_labels)\n",
    "        predicted = scaler.inverse_transform(predicted)\n",
    "        print(predicted)\n",
    "    \n",
    "    fig, ax = plt.subplots(1, 1, figsize=(6,6))\n",
    "    plot_max = max(test_labels.max(), predicted.max())\n",
    "    plot_min = min(-0.5, test_labels.min(), predicted.min())\n",
    "    ax.scatter(test_labels, predicted, color='xkcd:dusty blue', alpha=0.25)\n",
    "    ax.plot([plot_min*0.9,plot_max*1.1], [plot_min*0.9,plot_max*1.1], color='black', linestyle='--')\n",
    "    ax.set_ylabel('Predicted Value',fontsize=14)\n",
    "    ax.set_xlabel('Observed Value',fontsize=14)\n",
    "    ax.set_title(f'{target_variable_name}')\n",
    "    ax.set_xlim([plot_min*0.9, plot_max*1.1])\n",
    "    ax.set_ylim([plot_min*0.9, plot_max*1.1])\n",
    "    ax.grid(True, alpha=0.2, zorder=5)\n",
    "    plt.tight_layout()\n",
    "    plt.show()"
   ]
  },
  {
   "cell_type": "code",
   "execution_count": 393,
   "id": "eeec6a2c-cb94-458c-933a-6374275841bb",
   "metadata": {},
   "outputs": [],
   "source": [
    "def build_regression_cnn(learning_rate=1e-5, loss='mse', metrics=['mae']):\n",
    "    model = tf.keras.Sequential([\n",
    "        tf.keras.layers.Conv2D(32, kernel_size=(3, 3), activation = 'relu', padding = 'same'),\n",
    "        tf.keras.layers.MaxPool2D(2,2),\n",
    "        tf.keras.layers.Dropout(0.25),\n",
    "        tf.keras.layers.Conv2D(64, kernel_size=(3, 3), activation = 'relu', padding = 'same'),\n",
    "        tf.keras.layers.MaxPool2D(2,2),\n",
    "        tf.keras.layers.Dropout(0.35),\n",
    "        tf.keras.layers.Flatten(),\n",
    "        tf.keras.layers.Dense(32, activation='relu'),\n",
    "        tf.keras.layers.Dense(1)\n",
    "    ])\n",
    "    \n",
    "    opt = tf.keras.optimizers.Adam(learning_rate=learning_rate)\n",
    "    model.compile(optimizer=opt, loss=loss, metrics=metrics)\n",
    "    return model"
   ]
  },
  {
   "cell_type": "code",
   "execution_count": null,
   "id": "dabdea24-3e73-4b45-a856-af0008e23b14",
   "metadata": {},
   "outputs": [
    {
     "name": "stdout",
     "output_type": "stream",
     "text": [
      "Epoch 1/20\n",
      "\u001b[1m90/90\u001b[0m \u001b[32m━━━━━━━━━━━━━━━━━━━━\u001b[0m\u001b[37m\u001b[0m \u001b[1m147s\u001b[0m 2s/step - loss: 0.7579 - mae: 0.6333 - val_loss: 1.2126 - val_mae: 0.8505 - learning_rate: 1.0000e-05\n",
      "Epoch 2/20\n",
      "\u001b[1m40/90\u001b[0m \u001b[32m━━━━━━━━\u001b[0m\u001b[37m━━━━━━━━━━━━\u001b[0m \u001b[1m1:12\u001b[0m 1s/step - loss: 0.4437 - mae: 0.4687"
     ]
    }
   ],
   "source": [
    "labels = np.array(metadata_earthquakes_only['source_magnitude'])\n",
    "train_dataset_mag, val_dataset_mag, test_dataset_mag = prepare_datasets(imgs=spectrogram_imgs_earthquakes_only, labels=labels, preproc_func=image_preprocessing, preproc_func_kwargs=waveform_kwargs, use_scaler=False, batch_size=32)\n",
    "model_magnitude = build_regression_cnn(learning_rate=1e-5, loss='mse', metrics=['mae'])\n",
    "model_magnitude_history = model_magnitude.fit(train_dataset_mag, epochs=20, callbacks=callbacks, validation_data=val_dataset_mag)\n",
    "evaluate_regression_model(model_magnitude, test_dataset_mag, 'Source Magnitude', scaler=None)\n",
    "plot_training_history(model_magnitude_history)"
   ]
  },
  {
   "cell_type": "code",
   "execution_count": null,
   "id": "cf83e77e-a387-4934-97ae-d771b0a5cf40",
   "metadata": {},
   "outputs": [],
   "source": [
    "labels = np.array(metadata_earthquakes_only['p_wave_arrival'])\n",
    "train_dataset_pwave, val_dataset_pwave, test_dataset_pwave = prepare_datasets(imgs=waveform_imgs_earthquakes_only, labels=labels, preproc_func=image_preprocessing, preproc_func_kwargs=waveform_kwargs, use_scaler=False, batch_size=32)\n",
    "model_pwave = build_regression_cnn(learning_rate=1e-5, loss='mse', metrics=['mae'])\n",
    "model_pwave_history = model_pwave.fit(train_dataset_pwave, epochs=20, callbacks=callbacks, validation_data=val_dataset_pwave)\n",
    "evaluate_regression_model(model_pwave, test_dataset_pwave, 'P-Wave Arrival', scaler=None)\n",
    "plot_training_history(model_pwave_history)"
   ]
  },
  {
   "cell_type": "code",
   "execution_count": null,
   "id": "e2bcfbf8-71e9-4dd6-a8d0-7b435d6e8d22",
   "metadata": {},
   "outputs": [],
   "source": [
    "labels = np.array(metadata_earthquakes_only['s_wave_arrival'])\n",
    "train_dataset_swave, val_dataset_swave, test_dataset_swave = prepare_datasets(imgs=waveform_imgs_earthquakes_only, labels=labels, preproc_func=image_preprocessing, preproc_func_kwargs=waveform_kwargs, use_scaler=False, batch_size=32)\n",
    "model_swave = build_regression_cnn(learning_rate=1e-5, loss='mse', metrics=['mae'])\n",
    "model_swave_history = model_swave.fit(train_dataset_swave, epochs=20, callbacks=callbacks, validation_data=val_dataset_swave)\n",
    "evaluate_regression_model(model_swave, test_dataset_swave, 'S-Wave Arrival', scaler=None)\n",
    "plot_training_history(model_swave_history)"
   ]
  },
  {
   "cell_type": "code",
   "execution_count": null,
   "id": "6e17d68f-a355-4a2a-9fc2-aa355e25234b",
   "metadata": {},
   "outputs": [],
   "source": [
    "labels = np.array(metadata_earthquakes_only['source_distance_km'])\n",
    "train_dataset_dist, val_dataset_dist, test_dataset_dist = prepare_datasets(imgs=spectrogram_imgs_earthquakes_only, labels=labels, preproc_func=image_preprocessing, preproc_func_kwargs=waveform_kwargs, use_scaler=False, batch_size=32)\n",
    "model_distance = build_regression_cnn(learning_rate=1e-5, loss='mse', metrics=['mae'])\n",
    "model_distance_history = model_distance.fit(train_dataset_dist, epochs=20, callbacks=callbacks, validation_data=val_dataset_dist)\n",
    "evaluate_regression_model(model_distance, test_dataset_dist, 'Source-Receiver Distance (km)', scaler=None)\n",
    "plot_training_history(model_distance_history)"
   ]
  },
  {
   "cell_type": "code",
   "execution_count": null,
   "id": "8a211e75-156a-4c64-adb4-51edddb26086",
   "metadata": {},
   "outputs": [],
   "source": [
    "labels = np.array(metadata_earthquakes_only['source_depth_km'])\n",
    "train_dataset_depth, val_dataset_depth, test_dataset_depth = prepare_datasets(imgs=spectrogram_imgs_earthquakes_only, labels=labels, preproc_func=image_preprocessing, preproc_func_kwargs=waveform_kwargs, use_scaler=False, batch_size=32)\n",
    "model_depth = build_regression_cnn(learning_rate=1e-5, loss='mse', metrics=['mae'])\n",
    "model_depth_history = model_swave.fit(train_dataset_depth, epochs=20, callbacks=callbacks, validation_data=val_dataset_depth)\n",
    "evaluate_regression_model(model_depth, test_dataset_depth, 'Source Depth (km)', scaler=None)\n",
    "plot_training_history(model_depth_history)"
   ]
  },
  {
   "cell_type": "markdown",
   "id": "4a9f34dc-356f-4e60-9e9b-6c698946bb8f",
   "metadata": {},
   "source": [
    "TODO\n",
    "1. XX RobustScaler for regression target variables\n",
    "2. XX Train simple regression CNN to predict the 3 outputs using the scaled targets\n",
    "3. XX If that doesn't work, train a separate model for the Magnitude prediction and then use one model for the p-wave and s-wave variables\n",
    "4. XX If it does work, try adding source depth and source distance as target variables as well\n",
    "6. XXX If nothing works well, go back to orignal plan of training 4 separate models\n",
    "7. Refactor LSTM code\n",
    "8. Train LSTM models\n",
    "9. (extra) Try a pretrained ResNet backbone and a pretrained VisionTransformer backbone for just the classification task\n",
    "\n"
   ]
  }
 ],
 "metadata": {
  "kernelspec": {
   "display_name": "earthquake-detection",
   "language": "python",
   "name": "earthquake-detection"
  },
  "language_info": {
   "codemirror_mode": {
    "name": "ipython",
    "version": 3
   },
   "file_extension": ".py",
   "mimetype": "text/x-python",
   "name": "python",
   "nbconvert_exporter": "python",
   "pygments_lexer": "ipython3",
   "version": "3.12.8"
  }
 },
 "nbformat": 4,
 "nbformat_minor": 5
}
