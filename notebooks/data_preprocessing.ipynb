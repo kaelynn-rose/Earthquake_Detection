{
 "cells": [
  {
   "cell_type": "code",
   "execution_count": 1,
   "id": "42de5a0e-632a-49aa-ae8a-5ae87be3c3ea",
   "metadata": {},
   "outputs": [],
   "source": [
    "import os\n",
    "import sys\n",
    "sys.path.append('../')\n",
    "\n",
    "from earthquake_detection.data_preprocessing import DataPreprocessing"
   ]
  },
  {
   "cell_type": "code",
   "execution_count": 2,
   "id": "8039c147-90d1-4648-a31f-3cb36bd580ca",
   "metadata": {},
   "outputs": [],
   "source": [
    "# Get data directory path to the locally saved STEAD dataset files from saved environment variable\n",
    "data_dir_path = os.environ.get('STEAD_DATA_DIR_PATH', 'key does not exist')"
   ]
  },
  {
   "cell_type": "code",
   "execution_count": 3,
   "id": "747625bd-2e19-4d5f-9adf-0ad8b25de897",
   "metadata": {},
   "outputs": [],
   "source": [
    "# Initialize DataPreprocessing object\n",
    "preproc = DataPreprocessing(data_dir_path)"
   ]
  },
  {
   "cell_type": "code",
   "execution_count": null,
   "id": "b499c9f0-be2e-4903-9b23-2c993cb0c510",
   "metadata": {},
   "outputs": [
    {
     "name": "stdout",
     "output_type": "stream",
     "text": [
      "Data preprocessing for subsample of signal data of size 5000\n",
      "Fetching data paths from directory\n",
      "Parsing metadata from csv files\n"
     ]
    },
    {
     "name": "stderr",
     "output_type": "stream",
     "text": [
      "100%|███████████████████████████████████████████████████████████████████████████████████████████████████████████████████████| 6/6 [00:08<00:00,  1.45s/it]\n"
     ]
    },
    {
     "name": "stdout",
     "output_type": "stream",
     "text": [
      "Number of total traces: 1265657\n",
      "Number of earthquake traces: 1030231\n",
      "Number of noise traces: 235426\n",
      "Fetching subsample of traces from hdf5 files\n",
      "Parsing traces from file at path # 0/6\n"
     ]
    },
    {
     "name": "stderr",
     "output_type": "stream",
     "text": [
      "100%|███████████████████████████████████████████████████████████████████████████████████████████████████████████████| 5000/5000 [00:01<00:00, 4834.58it/s]\n"
     ]
    },
    {
     "name": "stdout",
     "output_type": "stream",
     "text": [
      "Parsing traces from file at path # 1/6\n"
     ]
    },
    {
     "name": "stderr",
     "output_type": "stream",
     "text": [
      "100%|███████████████████████████████████████████████████████████████████████████████████████████████████████████████| 5000/5000 [00:01<00:00, 4278.91it/s]\n"
     ]
    },
    {
     "name": "stdout",
     "output_type": "stream",
     "text": [
      "Parsing traces from file at path # 2/6\n"
     ]
    },
    {
     "name": "stderr",
     "output_type": "stream",
     "text": [
      "100%|███████████████████████████████████████████████████████████████████████████████████████████████████████████████| 5000/5000 [00:00<00:00, 5129.92it/s]\n"
     ]
    },
    {
     "name": "stdout",
     "output_type": "stream",
     "text": [
      "Parsing traces from file at path # 3/6\n"
     ]
    },
    {
     "name": "stderr",
     "output_type": "stream",
     "text": [
      "100%|███████████████████████████████████████████████████████████████████████████████████████████████████████████████| 5000/5000 [00:01<00:00, 4665.10it/s]\n"
     ]
    },
    {
     "name": "stdout",
     "output_type": "stream",
     "text": [
      "Parsing traces from file at path # 4/6\n"
     ]
    },
    {
     "name": "stderr",
     "output_type": "stream",
     "text": [
      "100%|███████████████████████████████████████████████████████████████████████████████████████████████████████████████| 5000/5000 [00:01<00:00, 4099.50it/s]\n"
     ]
    },
    {
     "name": "stdout",
     "output_type": "stream",
     "text": [
      "Parsing traces from file at path # 5/6\n"
     ]
    },
    {
     "name": "stderr",
     "output_type": "stream",
     "text": [
      "100%|███████████████████████████████████████████████████████████████████████████████████████████████████████████████| 5000/5000 [00:01<00:00, 3773.73it/s]\n",
      " 14%|████████████████                                                                                                  | 702/5000 [00:17<01:34, 45.51it/s]"
     ]
    }
   ],
   "source": [
    "# Data preprocessing\n",
    "raw_signals, imgs, metadata = preproc.preprocess(subsample_n=5000)"
   ]
  },
  {
   "cell_type": "code",
   "execution_count": null,
   "id": "8955d138-2ac7-40f7-82eb-13dda93f04ee",
   "metadata": {},
   "outputs": [],
   "source": []
  }
 ],
 "metadata": {
  "kernelspec": {
   "display_name": "earthquake_detection",
   "language": "python",
   "name": "earthquake_detection"
  },
  "language_info": {
   "codemirror_mode": {
    "name": "ipython",
    "version": 3
   },
   "file_extension": ".py",
   "mimetype": "text/x-python",
   "name": "python",
   "nbconvert_exporter": "python",
   "pygments_lexer": "ipython3",
   "version": "3.12.3"
  }
 },
 "nbformat": 4,
 "nbformat_minor": 5
}
