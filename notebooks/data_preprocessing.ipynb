{
 "cells": [
  {
   "cell_type": "markdown",
   "id": "b92a9a0e-7799-49ed-9864-755d0cfbc8b1",
   "metadata": {
    "editable": true,
    "slideshow": {
     "slide_type": ""
    },
    "tags": []
   },
   "source": [
    "## Data Preprocessing\n",
    "The purpose of this notebook is to demo the data preprocessing flow to preprocess signal traces from the STEAD seismic signal dataset for use in CNN model training. See `data_preprocessing` module for more."
   ]
  },
  {
   "cell_type": "markdown",
   "id": "d778b0a6-c751-4ef5-a886-e0c4b1706b3b",
   "metadata": {},
   "source": [
    "### Environment setup"
   ]
  },
  {
   "cell_type": "code",
   "execution_count": 1,
   "id": "42de5a0e-632a-49aa-ae8a-5ae87be3c3ea",
   "metadata": {},
   "outputs": [],
   "source": [
    "import os\n",
    "import sys\n",
    "sys.path.append('../')\n",
    "\n",
    "import matplotlib.pyplot as plt\n",
    "import numpy as np\n",
    "import pandas as pd\n",
    "\n",
    "from PIL import Image\n",
    "\n",
    "from earthquake_detection.data_preprocessing import DataPreprocessing"
   ]
  },
  {
   "cell_type": "code",
   "execution_count": 2,
   "id": "fb0ad645-5565-4d64-9871-4a785cf7c350",
   "metadata": {},
   "outputs": [
    {
     "data": {
      "text/plain": [
       "<contextlib.ExitStack at 0x115cf9730>"
      ]
     },
     "execution_count": 2,
     "metadata": {},
     "output_type": "execute_result"
    }
   ],
   "source": [
    "plt.ioff() # Turn off matplotlib interactive mode to ensure plots are fully clearing from memory after saving to array. Prevents  memory leakage."
   ]
  },
  {
   "cell_type": "markdown",
   "id": "f5f3e142-5f01-4dc2-8147-5ea07be3a355",
   "metadata": {},
   "source": [
    "### Parameters"
   ]
  },
  {
   "cell_type": "code",
   "execution_count": 3,
   "id": "b7e5f57d-258b-4e00-8622-beb3a134b67b",
   "metadata": {},
   "outputs": [],
   "source": [
    "SUBSAMPLE_N = 100000\n",
    "WEIGHTED = True"
   ]
  },
  {
   "cell_type": "markdown",
   "id": "571a93a4-54bd-4af6-8937-b4044af09d10",
   "metadata": {},
   "source": [
    "### Get paths to saved dataset files"
   ]
  },
  {
   "cell_type": "code",
   "execution_count": 4,
   "id": "8039c147-90d1-4648-a31f-3cb36bd580ca",
   "metadata": {},
   "outputs": [],
   "source": [
    "# Get data directory path to the locally saved STEAD dataset files from saved environment variable\n",
    "data_dir_path = os.environ.get('STEAD_DATA_DIR_PATH', 'key does not exist')"
   ]
  },
  {
   "cell_type": "code",
   "execution_count": 5,
   "id": "71f81c4c-6d86-4770-b497-f023e5da6800",
   "metadata": {},
   "outputs": [
    {
     "data": {
      "text/plain": [
       "'/Users/kaelynnrose/Documents/DATA_SCIENCE/data/STEAD'"
      ]
     },
     "execution_count": 5,
     "metadata": {},
     "output_type": "execute_result"
    }
   ],
   "source": [
    "data_dir_path"
   ]
  },
  {
   "cell_type": "markdown",
   "id": "94c41eac-7de8-4653-b598-8bfb6ca16797",
   "metadata": {},
   "source": [
    "### Data preprocessing"
   ]
  },
  {
   "cell_type": "code",
   "execution_count": 6,
   "id": "747625bd-2e19-4d5f-9adf-0ad8b25de897",
   "metadata": {
    "editable": true,
    "slideshow": {
     "slide_type": ""
    },
    "tags": []
   },
   "outputs": [
    {
     "name": "stdout",
     "output_type": "stream",
     "text": [
      "Fetching data paths from directory\n",
      "Parsing metadata from csv files\n"
     ]
    },
    {
     "name": "stderr",
     "output_type": "stream",
     "text": [
      "100%|███████████████████████████████████████████████████████████████████████████████████████████████████████████████████████| 6/6 [00:09<00:00,  1.52s/it]\n"
     ]
    },
    {
     "name": "stdout",
     "output_type": "stream",
     "text": [
      "Number of total traces: 1265657\n",
      "Number of earthquake traces: 1030231\n",
      "Number of noise traces: 235426\n",
      "Fetching subsample of traces from hdf5 files\n",
      "Weighting random sample based on category label\n",
      "Parsing traces from h5py filepaths\n"
     ]
    },
    {
     "name": "stderr",
     "output_type": "stream",
     "text": [
      "100%|███████████████████████████████████████████████████████████████████████████████████████████████████████████████████████| 6/6 [02:38<00:00, 26.40s/it]\n"
     ]
    }
   ],
   "source": [
    "# Initialize DataPreprocessing object\n",
    "preproc = DataPreprocessing(data_dir_path=data_dir_path, subsample_n=SUBSAMPLE_N, weighted=WEIGHTED)"
   ]
  },
  {
   "cell_type": "code",
   "execution_count": 7,
   "id": "9313474d-aecd-460d-89ef-374bb715f8c5",
   "metadata": {},
   "outputs": [],
   "source": [
    "raw_signals = preproc.subsample_traces\n",
    "metadata = preproc.subsample_metadata"
   ]
  },
  {
   "cell_type": "code",
   "execution_count": 8,
   "id": "e76858bf-9f41-4cbb-883e-58fb02e2fbc2",
   "metadata": {},
   "outputs": [],
   "source": [
    "# Save raw signals\n",
    "signals = np.array(list(raw_signals.values()))\n",
    "np.save(f'../../../data/STEAD/extracted_raw_signals_subsample_{SUBSAMPLE_N}.npy', signals)\n",
    "\n",
    "# Save metadata\n",
    "metadata.to_feather(f'../../../data/STEAD/extracted_metadata_subsample_{SUBSAMPLE_N}.feather')"
   ]
  },
  {
   "cell_type": "code",
   "execution_count": 9,
   "id": "b499c9f0-be2e-4903-9b23-2c993cb0c510",
   "metadata": {},
   "outputs": [
    {
     "name": "stdout",
     "output_type": "stream",
     "text": [
      "Creating waveform images from signal traces\n"
     ]
    },
    {
     "name": "stderr",
     "output_type": "stream",
     "text": [
      "100%|█████████████████████████████████████████████████████████████████████████████████████████████████████████████| 100000/100000 [27:34<00:00, 60.45it/s]\n"
     ]
    }
   ],
   "source": [
    "# Create waveform images\n",
    "waveform_imgs = preproc.create_waveform_images(img_width=3, img_height=1, img_dpi=100)\n",
    "\n",
    "# Save waveform images\n",
    "np.save(f'../../../data/STEAD/created_waveform_images_subsample_{SUBSAMPLE_N}.npy', waveform_imgs)"
   ]
  },
  {
   "cell_type": "code",
   "execution_count": 11,
   "id": "35eb1f1d-c7e4-4a74-afd5-a3be395b00c3",
   "metadata": {},
   "outputs": [
    {
     "name": "stdout",
     "output_type": "stream",
     "text": [
      "Creating spectrogram images from signal traces\n"
     ]
    },
    {
     "name": "stderr",
     "output_type": "stream",
     "text": [
      " 19%|████████████████████▋                                                                                         | 18856/100000 [08:15<35:16, 38.34it/s]/opt/miniconda3/envs/earthquake-detection/lib/python3.12/site-packages/matplotlib/axes/_axes.py:8089: RuntimeWarning: divide by zero encountered in log10\n",
      "  Z = 10. * np.log10(spec)\n",
      "100%|█████████████████████████████████████████████████████████████████████████████████████████████████████████████| 100000/100000 [46:49<00:00, 35.60it/s]\n"
     ]
    }
   ],
   "source": [
    "# Create spectrogram images\n",
    "spectrogram_imgs = preproc.create_spectrogram_images(img_width=3, img_height=2, img_dpi=100)\n",
    "\n",
    "# Save spectrogram images\n",
    "np.save(f'../../../data/STEAD/created_spectrogram_images_subsample_{SUBSAMPLE_N}.npy', spectrogram_imgs)"
   ]
  },
  {
   "cell_type": "markdown",
   "id": "59ba9add-28bf-4aff-9493-8a6afe15740c",
   "metadata": {},
   "source": [
    "### Results"
   ]
  },
  {
   "cell_type": "code",
   "execution_count": null,
   "id": "0313e711-b8e2-4e82-9811-99607193da73",
   "metadata": {},
   "outputs": [],
   "source": [
    "metadata"
   ]
  },
  {
   "cell_type": "code",
   "execution_count": null,
   "id": "00ee86dc-d421-4e44-8dc7-35275affd2d4",
   "metadata": {},
   "outputs": [],
   "source": [
    "# confirm earthquakes and noise were sampled approximately equally\n",
    "metadata['trace_category'].value_counts()"
   ]
  },
  {
   "cell_type": "code",
   "execution_count": null,
   "id": "fbb68230-3f6d-4d78-a56a-b6ede6e34973",
   "metadata": {},
   "outputs": [],
   "source": [
    "len(raw_signals)"
   ]
  },
  {
   "cell_type": "code",
   "execution_count": null,
   "id": "8d15d6ae-40ea-4406-b158-2e1ba4d3cc06",
   "metadata": {},
   "outputs": [],
   "source": [
    "# example raw signal trace\n",
    "raw_signals[list(raw_signals.keys())[0]]"
   ]
  },
  {
   "cell_type": "code",
   "execution_count": null,
   "id": "503fdfe0-86b6-41de-9a4e-27c1de9109c6",
   "metadata": {},
   "outputs": [],
   "source": [
    "waveform_imgs.shape"
   ]
  },
  {
   "cell_type": "code",
   "execution_count": null,
   "id": "8062eb58-ffdd-4ebf-88c3-190e2e8bcd34",
   "metadata": {},
   "outputs": [],
   "source": [
    "# example waveform img array\n",
    "waveform_imgs[0]"
   ]
  },
  {
   "cell_type": "code",
   "execution_count": null,
   "id": "d930b399-f46c-44c7-ab2f-043b7ef87120",
   "metadata": {},
   "outputs": [],
   "source": [
    "spectrogram_imgs.shape"
   ]
  },
  {
   "cell_type": "code",
   "execution_count": null,
   "id": "37d38a25-52ac-4143-93c3-f08c5a3ac5dd",
   "metadata": {},
   "outputs": [],
   "source": [
    "# example spectrogram img array\n",
    "spectrogram_imgs[0]"
   ]
  },
  {
   "cell_type": "markdown",
   "id": "f45cd6fc-77f4-4fec-a490-faa7fc5fa849",
   "metadata": {},
   "source": [
    "### Example images created through preprocessing"
   ]
  },
  {
   "cell_type": "code",
   "execution_count": null,
   "id": "e9eb89ca-7baa-4744-b22d-cfb19deb024a",
   "metadata": {},
   "outputs": [],
   "source": [
    "metadata = metadata.reset_index()"
   ]
  },
  {
   "cell_type": "code",
   "execution_count": null,
   "id": "8a6e84ac-1d00-4349-969c-32697d736ad6",
   "metadata": {
    "editable": true,
    "slideshow": {
     "slide_type": ""
    },
    "tags": []
   },
   "outputs": [],
   "source": [
    "# Get random example earthquakes\n",
    "example_earthquakes = metadata[metadata['trace_category']=='earthquake_local'].sample(4)\n",
    "example_earthquake_waveforms = waveform_imgs[list(example_earthquakes.index)]\n",
    "example_earthquake_spectrograms = spectrogram_imgs[list(example_earthquakes.index)]\n",
    "\n",
    "# Get random example noise\n",
    "example_noise = metadata[metadata['trace_category']=='noise'].sample(4)\n",
    "example_noise_waveforms = waveform_imgs[list(example_noise.index)]\n",
    "example_noise_spectrograms = spectrogram_imgs[list(example_noise.index)]"
   ]
  },
  {
   "cell_type": "code",
   "execution_count": null,
   "id": "39b1ab26-fac6-485a-9280-03dec9a51e4e",
   "metadata": {},
   "outputs": [],
   "source": [
    "example_earthquakes"
   ]
  },
  {
   "cell_type": "code",
   "execution_count": null,
   "id": "fec44658-c9e9-4cd1-a293-7b3da186ce42",
   "metadata": {},
   "outputs": [],
   "source": [
    "# Plot example earthquakes - waveforms and spectrograms\n",
    "fig, axs = plt.subplots(2,4,figsize=(12,5))\n",
    "count = 0\n",
    "for i, ax in enumerate(axs.flatten()):\n",
    "    if count < 4:\n",
    "        ax.imshow(example_earthquake_waveforms[i])\n",
    "        ax.set_ylabel('Amplitude (Pa)',fontsize=12)\n",
    "        ax.set_xlabel('Time (s)',fontsize=12)\n",
    "        trace_name = example_earthquakes.iloc[i]['trace_name']\n",
    "        mag = example_earthquakes.iloc[i]['source_magnitude']\n",
    "        dist = example_earthquakes.iloc[i]['source_distance_km']\n",
    "        ax.set_title(f'Trace {trace_name}\\nMagnitude: {mag}\\nDistance: {dist} km', fontsize=10)\n",
    "        ax.set_xticks([])\n",
    "        ax.set_yticks([])\n",
    "    else:\n",
    "        ax.imshow(example_earthquake_spectrograms[i-4])\n",
    "        ax.set_ylabel('Frequency (Hz)',fontsize=12)\n",
    "        ax.set_xlabel('Time (s)',fontsize=12)   \n",
    "        ax.set_xticks([])\n",
    "        ax.set_yticks([])\n",
    "    count += 1\n",
    "plt.suptitle(f'Example earthquake images',fontsize=14)\n",
    "plt.tight_layout()\n",
    "plt.show()"
   ]
  },
  {
   "cell_type": "code",
   "execution_count": null,
   "id": "31ec2062-988b-48fc-a1a6-a5033da8dac4",
   "metadata": {},
   "outputs": [],
   "source": [
    "# Plot example noise - waveforms and spectrograms\n",
    "fig, axs = plt.subplots(2,4,figsize=(12,5))\n",
    "count = 0\n",
    "for i, ax in enumerate(axs.flatten()):\n",
    "    if count < 4:\n",
    "        ax.imshow(example_noise_waveforms[i])\n",
    "        ax.set_ylabel('Amplitude (Pa)',fontsize=12)\n",
    "        ax.set_xlabel('Time (s)',fontsize=12)\n",
    "        trace_name = example_noise.iloc[i]['trace_name']\n",
    "        ax.set_title(f'Trace {trace_name}', fontsize=10)\n",
    "        ax.set_xticks([])\n",
    "        ax.set_yticks([])\n",
    "    else:\n",
    "        ax.imshow(example_noise_spectrograms[i-4])\n",
    "        ax.set_ylabel('Frequency (Hz)',fontsize=12)\n",
    "        ax.set_xlabel('Time (s)',fontsize=12)   \n",
    "        ax.set_xticks([])\n",
    "        ax.set_yticks([])\n",
    "    count += 1\n",
    "plt.suptitle(f'Example noise images',fontsize=14)\n",
    "plt.tight_layout()\n",
    "plt.show()"
   ]
  },
  {
   "cell_type": "code",
   "execution_count": null,
   "id": "42aca19b-a560-4396-a51c-0d8ae26be71f",
   "metadata": {},
   "outputs": [],
   "source": []
  },
  {
   "cell_type": "code",
   "execution_count": null,
   "id": "94d6da9d-beb4-4d87-b9ba-77da7d8ccbad",
   "metadata": {},
   "outputs": [],
   "source": []
  }
 ],
 "metadata": {
  "kernelspec": {
   "display_name": "earthquake-detection",
   "language": "python",
   "name": "earthquake-detection"
  },
  "language_info": {
   "codemirror_mode": {
    "name": "ipython",
    "version": 3
   },
   "file_extension": ".py",
   "mimetype": "text/x-python",
   "name": "python",
   "nbconvert_exporter": "python",
   "pygments_lexer": "ipython3",
   "version": "3.12.8"
  }
 },
 "nbformat": 4,
 "nbformat_minor": 5
}
