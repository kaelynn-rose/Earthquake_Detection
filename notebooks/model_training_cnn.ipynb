{
 "cells": [
  {
   "cell_type": "markdown",
   "id": "21dda460-846f-4d25-bbcc-b80132c86ca3",
   "metadata": {},
   "source": [
    "## Model Training: Convolutional Neural Network (CNN)\n",
    "\n",
    "The purpose of this notebook is to train several Convolutional Neural Network (CNN) models for earthquake detection and property prediction. Rather than using the raw seismic signals as training data, we use images of the earthquake waveforms and spectrograms (visual representations of the spectrum of frequencies in the signal) that were created using the `Data_Preprocessing` module and the `data_preprocessing.ipynb` notebook in this repository. Using these images, we train and evaluate the following models:\n",
    "\n",
    "1. Classification CNN model to predict whether a signal is 'earthquake' or 'noise'\n",
    "2. Regression CNN model to predict earthquake magnitude\n",
    "3. Regression CNN model to predict earthquake p-wave arrival time\n",
    "4. Regression CNN model to predict earthquake s-wave arrival time\n",
    "\n",
    "Model architectures used in this notebook are located in the `architectures` module of this repo. Training utilities including train/val/test split data preparation, evaluation functions, and plotting functions are located in the `training_utils` module of this repo."
   ]
  },
  {
   "cell_type": "markdown",
   "id": "00b7aa95-bcdb-45c4-8a01-727d1df22d57",
   "metadata": {},
   "source": [
    "### Environment setup"
   ]
  },
  {
   "cell_type": "code",
   "execution_count": 1,
   "id": "4eff2a1e-76fb-440d-8b90-319216479c7f",
   "metadata": {
    "editable": true,
    "slideshow": {
     "slide_type": ""
    },
    "tags": []
   },
   "outputs": [
    {
     "name": "stderr",
     "output_type": "stream",
     "text": [
      "2025-01-28 12:58:04.117328: I tensorflow/core/platform/cpu_feature_guard.cc:210] This TensorFlow binary is optimized to use available CPU instructions in performance-critical operations.\n",
      "To enable the following instructions: SSE4.1 SSE4.2 AVX AVX2 FMA, in other operations, rebuild TensorFlow with the appropriate compiler flags.\n"
     ]
    },
    {
     "data": {
      "text/plain": [
       "<contextlib.ExitStack at 0x1713529c0>"
      ]
     },
     "execution_count": 1,
     "metadata": {},
     "output_type": "execute_result"
    }
   ],
   "source": [
    "import gc\n",
    "import sys\n",
    "import time\n",
    "\n",
    "sys.path.append('../')\n",
    "sys.path.append('../../../')\n",
    "\n",
    "import keras\n",
    "import matplotlib.pyplot as plt\n",
    "import numpy as np\n",
    "import pandas as pd\n",
    "import tensorflow as tf\n",
    "\n",
    "from PIL import Image\n",
    "from sklearn.metrics import accuracy_score, precision_score, recall_score, f1_score, mean_squared_error, roc_curve, auc\n",
    "from sklearn.metrics import confusion_matrix, ConfusionMatrixDisplay\n",
    "from sklearn.model_selection import train_test_split\n",
    "from sklearn.preprocessing import RobustScaler\n",
    "\n",
    "import earthquake_detection.architectures as architectures\n",
    "import earthquake_detection.training_utils as training_utils\n",
    "\n",
    "plt.ioff() # Turn off matplotlib interactive mode. Prevents  memory leakage."
   ]
  },
  {
   "cell_type": "markdown",
   "id": "08c5d5b3-d227-46c7-8140-01fddf7c11aa",
   "metadata": {},
   "source": [
    "### Load datasets\n",
    "\n",
    "These datasets were pre-processed from their raw STEAD format using the `DataPreprocessing` module and `data_preprocessing` notebook contained within this repo."
   ]
  },
  {
   "cell_type": "code",
   "execution_count": 2,
   "id": "ce97b4d0-db77-460c-8dba-8fead45496e7",
   "metadata": {
    "editable": true,
    "slideshow": {
     "slide_type": ""
    },
    "tags": []
   },
   "outputs": [],
   "source": [
    "# Load extracted raw signals\n",
    "raw_signals = np.load('../../../data/STEAD/extracted_raw_signals_subsample_100000.npy')\n",
    "\n",
    "# Load created waveform images\n",
    "waveform_imgs = np.load('../../../data/STEAD/created_waveform_images_subsample_100000.npy')\n",
    "\n",
    "# Load created spectrogram images\n",
    "spectrogram_imgs = np.load('../../../data/STEAD/created_spectrogram_images_subsample_100000.npy')\n",
    "\n",
    "# Load metadata\n",
    "metadata = pd.read_feather('../../../data/STEAD/extracted_metadata_subsample_100000.feather')\n",
    "metadata = metadata.reset_index()"
   ]
  },
  {
   "cell_type": "markdown",
   "id": "cf92c32f-6659-4d73-a9a4-d76bff5a884c",
   "metadata": {},
   "source": [
    "#### Inspect image datasets and metadata to confirm they look as expected"
   ]
  },
  {
   "cell_type": "code",
   "execution_count": 3,
   "id": "8655172c-7738-44d9-84b9-558432808935",
   "metadata": {},
   "outputs": [
    {
     "data": {
      "text/plain": [
       "(100000, 200, 300, 3)"
      ]
     },
     "execution_count": 3,
     "metadata": {},
     "output_type": "execute_result"
    }
   ],
   "source": [
    "spectrogram_imgs.shape"
   ]
  },
  {
   "cell_type": "code",
   "execution_count": 4,
   "id": "c0915b75-cfed-4e4a-9008-62251d4d64d9",
   "metadata": {},
   "outputs": [
    {
     "data": {
      "text/plain": [
       "(100000, 100, 300, 3)"
      ]
     },
     "execution_count": 4,
     "metadata": {},
     "output_type": "execute_result"
    }
   ],
   "source": [
    "waveform_imgs.shape"
   ]
  },
  {
   "cell_type": "code",
   "execution_count": 5,
   "id": "9e1c5c93-98c9-45f5-b516-001c6efe73d6",
   "metadata": {
    "editable": true,
    "slideshow": {
     "slide_type": ""
    },
    "tags": []
   },
   "outputs": [
    {
     "data": {
      "text/html": [
       "<div>\n",
       "<style scoped>\n",
       "    .dataframe tbody tr th:only-of-type {\n",
       "        vertical-align: middle;\n",
       "    }\n",
       "\n",
       "    .dataframe tbody tr th {\n",
       "        vertical-align: top;\n",
       "    }\n",
       "\n",
       "    .dataframe thead th {\n",
       "        text-align: right;\n",
       "    }\n",
       "</style>\n",
       "<table border=\"1\" class=\"dataframe\">\n",
       "  <thead>\n",
       "    <tr style=\"text-align: right;\">\n",
       "      <th></th>\n",
       "      <th>trace_name</th>\n",
       "      <th>network_code</th>\n",
       "      <th>receiver_code</th>\n",
       "      <th>receiver_type</th>\n",
       "      <th>receiver_latitude</th>\n",
       "      <th>receiver_longitude</th>\n",
       "      <th>receiver_elevation_m</th>\n",
       "      <th>p_arrival_sample</th>\n",
       "      <th>p_status</th>\n",
       "      <th>p_weight</th>\n",
       "      <th>...</th>\n",
       "      <th>source_mechanism_strike_dip_rake</th>\n",
       "      <th>source_distance_deg</th>\n",
       "      <th>source_distance_km</th>\n",
       "      <th>back_azimuth_deg</th>\n",
       "      <th>snr_db</th>\n",
       "      <th>coda_end_sample</th>\n",
       "      <th>trace_start_time</th>\n",
       "      <th>trace_category</th>\n",
       "      <th>chunk</th>\n",
       "      <th>weight_for_subsample</th>\n",
       "    </tr>\n",
       "  </thead>\n",
       "  <tbody>\n",
       "    <tr>\n",
       "      <th>0</th>\n",
       "      <td>B084.PB_20111212104350_EV</td>\n",
       "      <td>PB</td>\n",
       "      <td>B084</td>\n",
       "      <td>EH</td>\n",
       "      <td>33.611570</td>\n",
       "      <td>-116.456370</td>\n",
       "      <td>1271.0</td>\n",
       "      <td>800.0</td>\n",
       "      <td>manual</td>\n",
       "      <td>0.55</td>\n",
       "      <td>...</td>\n",
       "      <td>None</td>\n",
       "      <td>0.5746</td>\n",
       "      <td>63.90</td>\n",
       "      <td>178.5</td>\n",
       "      <td>[15.39999962 15.5        17.10000038]</td>\n",
       "      <td>[[3199.]]</td>\n",
       "      <td>43:51.3</td>\n",
       "      <td>earthquake_local</td>\n",
       "      <td>1</td>\n",
       "      <td>9.706561e-07</td>\n",
       "    </tr>\n",
       "    <tr>\n",
       "      <th>1</th>\n",
       "      <td>B086.PB_20080618145426_EV</td>\n",
       "      <td>PB</td>\n",
       "      <td>B086</td>\n",
       "      <td>EH</td>\n",
       "      <td>33.557500</td>\n",
       "      <td>-116.531000</td>\n",
       "      <td>1392.0</td>\n",
       "      <td>800.0</td>\n",
       "      <td>manual</td>\n",
       "      <td>0.59</td>\n",
       "      <td>...</td>\n",
       "      <td>None</td>\n",
       "      <td>0.5071</td>\n",
       "      <td>56.40</td>\n",
       "      <td>330.6</td>\n",
       "      <td>[45.         46.20000076 46.29999924]</td>\n",
       "      <td>[[2230.]]</td>\n",
       "      <td>54:27.0</td>\n",
       "      <td>earthquake_local</td>\n",
       "      <td>1</td>\n",
       "      <td>9.706561e-07</td>\n",
       "    </tr>\n",
       "    <tr>\n",
       "      <th>2</th>\n",
       "      <td>B023.PB_20130513182210_EV</td>\n",
       "      <td>PB</td>\n",
       "      <td>B023</td>\n",
       "      <td>EH</td>\n",
       "      <td>46.111200</td>\n",
       "      <td>-123.078700</td>\n",
       "      <td>177.4</td>\n",
       "      <td>500.0</td>\n",
       "      <td>manual</td>\n",
       "      <td>0.63</td>\n",
       "      <td>...</td>\n",
       "      <td>None</td>\n",
       "      <td>0.9683</td>\n",
       "      <td>107.61</td>\n",
       "      <td>163.1</td>\n",
       "      <td>[12.60000038 12.10000038 11.19999981]</td>\n",
       "      <td>[[3199.]]</td>\n",
       "      <td>22:11.5</td>\n",
       "      <td>earthquake_local</td>\n",
       "      <td>1</td>\n",
       "      <td>9.706561e-07</td>\n",
       "    </tr>\n",
       "    <tr>\n",
       "      <th>3</th>\n",
       "      <td>B011.PB_20120724202107_EV</td>\n",
       "      <td>PB</td>\n",
       "      <td>B011</td>\n",
       "      <td>EH</td>\n",
       "      <td>48.649543</td>\n",
       "      <td>-123.448192</td>\n",
       "      <td>22.0</td>\n",
       "      <td>800.0</td>\n",
       "      <td>manual</td>\n",
       "      <td>0.76</td>\n",
       "      <td>...</td>\n",
       "      <td>None</td>\n",
       "      <td>0.8950</td>\n",
       "      <td>99.44</td>\n",
       "      <td>82.7</td>\n",
       "      <td>[20.39999962 26.39999962 25.        ]</td>\n",
       "      <td>[[3199.]]</td>\n",
       "      <td>21:08.5</td>\n",
       "      <td>earthquake_local</td>\n",
       "      <td>1</td>\n",
       "      <td>9.706561e-07</td>\n",
       "    </tr>\n",
       "    <tr>\n",
       "      <th>4</th>\n",
       "      <td>B082.PB_20150914105733_EV</td>\n",
       "      <td>PB</td>\n",
       "      <td>B082</td>\n",
       "      <td>HH</td>\n",
       "      <td>33.598182</td>\n",
       "      <td>-116.596005</td>\n",
       "      <td>1374.8</td>\n",
       "      <td>799.0</td>\n",
       "      <td>autopicker</td>\n",
       "      <td>0.92</td>\n",
       "      <td>...</td>\n",
       "      <td>None</td>\n",
       "      <td>0.1618</td>\n",
       "      <td>17.99</td>\n",
       "      <td>123.9</td>\n",
       "      <td>[28.79999924 30.29999924 28.70000076]</td>\n",
       "      <td>[[1516.]]</td>\n",
       "      <td>57:35.0</td>\n",
       "      <td>earthquake_local</td>\n",
       "      <td>1</td>\n",
       "      <td>9.706561e-07</td>\n",
       "    </tr>\n",
       "    <tr>\n",
       "      <th>...</th>\n",
       "      <td>...</td>\n",
       "      <td>...</td>\n",
       "      <td>...</td>\n",
       "      <td>...</td>\n",
       "      <td>...</td>\n",
       "      <td>...</td>\n",
       "      <td>...</td>\n",
       "      <td>...</td>\n",
       "      <td>...</td>\n",
       "      <td>...</td>\n",
       "      <td>...</td>\n",
       "      <td>...</td>\n",
       "      <td>...</td>\n",
       "      <td>...</td>\n",
       "      <td>...</td>\n",
       "      <td>...</td>\n",
       "      <td>...</td>\n",
       "      <td>...</td>\n",
       "      <td>...</td>\n",
       "      <td>...</td>\n",
       "      <td>...</td>\n",
       "    </tr>\n",
       "    <tr>\n",
       "      <th>99995</th>\n",
       "      <td>NGVB.NC_200410262236_NO</td>\n",
       "      <td>NC</td>\n",
       "      <td>NGVB</td>\n",
       "      <td>HN</td>\n",
       "      <td>38.280430</td>\n",
       "      <td>-122.215820</td>\n",
       "      <td>234.0</td>\n",
       "      <td>NaN</td>\n",
       "      <td>None</td>\n",
       "      <td>NaN</td>\n",
       "      <td>...</td>\n",
       "      <td>None</td>\n",
       "      <td>NaN</td>\n",
       "      <td>NaN</td>\n",
       "      <td>NaN</td>\n",
       "      <td>None</td>\n",
       "      <td>None</td>\n",
       "      <td>2004-10-26 22:36:00</td>\n",
       "      <td>noise</td>\n",
       "      <td>6</td>\n",
       "      <td>4.247619e-06</td>\n",
       "    </tr>\n",
       "    <tr>\n",
       "      <th>99996</th>\n",
       "      <td>DSP.NN_201704270525_NO</td>\n",
       "      <td>NN</td>\n",
       "      <td>DSP</td>\n",
       "      <td>HH</td>\n",
       "      <td>37.369400</td>\n",
       "      <td>-117.974100</td>\n",
       "      <td>2400.0</td>\n",
       "      <td>NaN</td>\n",
       "      <td>None</td>\n",
       "      <td>NaN</td>\n",
       "      <td>...</td>\n",
       "      <td>None</td>\n",
       "      <td>NaN</td>\n",
       "      <td>NaN</td>\n",
       "      <td>NaN</td>\n",
       "      <td>None</td>\n",
       "      <td>None</td>\n",
       "      <td>2017-04-27 05:25:00</td>\n",
       "      <td>noise</td>\n",
       "      <td>6</td>\n",
       "      <td>4.247619e-06</td>\n",
       "    </tr>\n",
       "    <tr>\n",
       "      <th>99997</th>\n",
       "      <td>CHR.NC_201005240430_NO</td>\n",
       "      <td>NC</td>\n",
       "      <td>CHR</td>\n",
       "      <td>HN</td>\n",
       "      <td>37.372880</td>\n",
       "      <td>-121.768870</td>\n",
       "      <td>489.0</td>\n",
       "      <td>NaN</td>\n",
       "      <td>None</td>\n",
       "      <td>NaN</td>\n",
       "      <td>...</td>\n",
       "      <td>None</td>\n",
       "      <td>NaN</td>\n",
       "      <td>NaN</td>\n",
       "      <td>NaN</td>\n",
       "      <td>None</td>\n",
       "      <td>None</td>\n",
       "      <td>2010-05-24 04:30:00</td>\n",
       "      <td>noise</td>\n",
       "      <td>6</td>\n",
       "      <td>4.247619e-06</td>\n",
       "    </tr>\n",
       "    <tr>\n",
       "      <th>99998</th>\n",
       "      <td>ASTN.ET_20180116092824_NO</td>\n",
       "      <td>ET</td>\n",
       "      <td>ASTN</td>\n",
       "      <td>EH</td>\n",
       "      <td>36.327000</td>\n",
       "      <td>-83.476000</td>\n",
       "      <td>753.0</td>\n",
       "      <td>NaN</td>\n",
       "      <td>None</td>\n",
       "      <td>NaN</td>\n",
       "      <td>...</td>\n",
       "      <td>None</td>\n",
       "      <td>NaN</td>\n",
       "      <td>NaN</td>\n",
       "      <td>NaN</td>\n",
       "      <td>None</td>\n",
       "      <td>None</td>\n",
       "      <td>2018-01-16 09:28:24</td>\n",
       "      <td>noise</td>\n",
       "      <td>6</td>\n",
       "      <td>4.247619e-06</td>\n",
       "    </tr>\n",
       "    <tr>\n",
       "      <th>99999</th>\n",
       "      <td>DANT.BK_201704091920_NO</td>\n",
       "      <td>BK</td>\n",
       "      <td>DANT</td>\n",
       "      <td>HN</td>\n",
       "      <td>40.294600</td>\n",
       "      <td>-121.802100</td>\n",
       "      <td>967.0</td>\n",
       "      <td>NaN</td>\n",
       "      <td>None</td>\n",
       "      <td>NaN</td>\n",
       "      <td>...</td>\n",
       "      <td>None</td>\n",
       "      <td>NaN</td>\n",
       "      <td>NaN</td>\n",
       "      <td>NaN</td>\n",
       "      <td>None</td>\n",
       "      <td>None</td>\n",
       "      <td>2017-04-09 19:20:00</td>\n",
       "      <td>noise</td>\n",
       "      <td>6</td>\n",
       "      <td>4.247619e-06</td>\n",
       "    </tr>\n",
       "  </tbody>\n",
       "</table>\n",
       "<p>100000 rows × 37 columns</p>\n",
       "</div>"
      ],
      "text/plain": [
       "                      trace_name network_code receiver_code receiver_type  \\\n",
       "0      B084.PB_20111212104350_EV           PB          B084            EH   \n",
       "1      B086.PB_20080618145426_EV           PB          B086            EH   \n",
       "2      B023.PB_20130513182210_EV           PB          B023            EH   \n",
       "3      B011.PB_20120724202107_EV           PB          B011            EH   \n",
       "4      B082.PB_20150914105733_EV           PB          B082            HH   \n",
       "...                          ...          ...           ...           ...   \n",
       "99995    NGVB.NC_200410262236_NO           NC          NGVB            HN   \n",
       "99996     DSP.NN_201704270525_NO           NN           DSP            HH   \n",
       "99997     CHR.NC_201005240430_NO           NC           CHR            HN   \n",
       "99998  ASTN.ET_20180116092824_NO           ET          ASTN            EH   \n",
       "99999    DANT.BK_201704091920_NO           BK          DANT            HN   \n",
       "\n",
       "       receiver_latitude  receiver_longitude  receiver_elevation_m  \\\n",
       "0              33.611570         -116.456370                1271.0   \n",
       "1              33.557500         -116.531000                1392.0   \n",
       "2              46.111200         -123.078700                 177.4   \n",
       "3              48.649543         -123.448192                  22.0   \n",
       "4              33.598182         -116.596005                1374.8   \n",
       "...                  ...                 ...                   ...   \n",
       "99995          38.280430         -122.215820                 234.0   \n",
       "99996          37.369400         -117.974100                2400.0   \n",
       "99997          37.372880         -121.768870                 489.0   \n",
       "99998          36.327000          -83.476000                 753.0   \n",
       "99999          40.294600         -121.802100                 967.0   \n",
       "\n",
       "       p_arrival_sample    p_status  p_weight  ...  \\\n",
       "0                 800.0      manual      0.55  ...   \n",
       "1                 800.0      manual      0.59  ...   \n",
       "2                 500.0      manual      0.63  ...   \n",
       "3                 800.0      manual      0.76  ...   \n",
       "4                 799.0  autopicker      0.92  ...   \n",
       "...                 ...         ...       ...  ...   \n",
       "99995               NaN        None       NaN  ...   \n",
       "99996               NaN        None       NaN  ...   \n",
       "99997               NaN        None       NaN  ...   \n",
       "99998               NaN        None       NaN  ...   \n",
       "99999               NaN        None       NaN  ...   \n",
       "\n",
       "       source_mechanism_strike_dip_rake  source_distance_deg  \\\n",
       "0                                  None               0.5746   \n",
       "1                                  None               0.5071   \n",
       "2                                  None               0.9683   \n",
       "3                                  None               0.8950   \n",
       "4                                  None               0.1618   \n",
       "...                                 ...                  ...   \n",
       "99995                              None                  NaN   \n",
       "99996                              None                  NaN   \n",
       "99997                              None                  NaN   \n",
       "99998                              None                  NaN   \n",
       "99999                              None                  NaN   \n",
       "\n",
       "      source_distance_km  back_azimuth_deg  \\\n",
       "0                  63.90             178.5   \n",
       "1                  56.40             330.6   \n",
       "2                 107.61             163.1   \n",
       "3                  99.44              82.7   \n",
       "4                  17.99             123.9   \n",
       "...                  ...               ...   \n",
       "99995                NaN               NaN   \n",
       "99996                NaN               NaN   \n",
       "99997                NaN               NaN   \n",
       "99998                NaN               NaN   \n",
       "99999                NaN               NaN   \n",
       "\n",
       "                                      snr_db coda_end_sample  \\\n",
       "0      [15.39999962 15.5        17.10000038]       [[3199.]]   \n",
       "1      [45.         46.20000076 46.29999924]       [[2230.]]   \n",
       "2      [12.60000038 12.10000038 11.19999981]       [[3199.]]   \n",
       "3      [20.39999962 26.39999962 25.        ]       [[3199.]]   \n",
       "4      [28.79999924 30.29999924 28.70000076]       [[1516.]]   \n",
       "...                                      ...             ...   \n",
       "99995                                   None            None   \n",
       "99996                                   None            None   \n",
       "99997                                   None            None   \n",
       "99998                                   None            None   \n",
       "99999                                   None            None   \n",
       "\n",
       "          trace_start_time    trace_category  chunk  weight_for_subsample  \n",
       "0                  43:51.3  earthquake_local      1          9.706561e-07  \n",
       "1                  54:27.0  earthquake_local      1          9.706561e-07  \n",
       "2                  22:11.5  earthquake_local      1          9.706561e-07  \n",
       "3                  21:08.5  earthquake_local      1          9.706561e-07  \n",
       "4                  57:35.0  earthquake_local      1          9.706561e-07  \n",
       "...                    ...               ...    ...                   ...  \n",
       "99995  2004-10-26 22:36:00             noise      6          4.247619e-06  \n",
       "99996  2017-04-27 05:25:00             noise      6          4.247619e-06  \n",
       "99997  2010-05-24 04:30:00             noise      6          4.247619e-06  \n",
       "99998  2018-01-16 09:28:24             noise      6          4.247619e-06  \n",
       "99999  2017-04-09 19:20:00             noise      6          4.247619e-06  \n",
       "\n",
       "[100000 rows x 37 columns]"
      ]
     },
     "execution_count": 5,
     "metadata": {},
     "output_type": "execute_result"
    }
   ],
   "source": [
    "metadata"
   ]
  },
  {
   "cell_type": "code",
   "execution_count": 6,
   "id": "b121093a-6f5d-4d27-90f6-3d73b220d74f",
   "metadata": {},
   "outputs": [
    {
     "data": {
      "text/plain": [
       "Index(['trace_name', 'network_code', 'receiver_code', 'receiver_type',\n",
       "       'receiver_latitude', 'receiver_longitude', 'receiver_elevation_m',\n",
       "       'p_arrival_sample', 'p_status', 'p_weight', 'p_travel_sec',\n",
       "       's_arrival_sample', 's_status', 's_weight', 'source_id',\n",
       "       'source_origin_time', 'source_origin_uncertainty_sec',\n",
       "       'source_latitude', 'source_longitude', 'source_error_sec',\n",
       "       'source_gap_deg', 'source_horizontal_uncertainty_km', 'source_depth_km',\n",
       "       'source_depth_uncertainty_km', 'source_magnitude',\n",
       "       'source_magnitude_type', 'source_magnitude_author',\n",
       "       'source_mechanism_strike_dip_rake', 'source_distance_deg',\n",
       "       'source_distance_km', 'back_azimuth_deg', 'snr_db', 'coda_end_sample',\n",
       "       'trace_start_time', 'trace_category', 'chunk', 'weight_for_subsample'],\n",
       "      dtype='object')"
      ]
     },
     "execution_count": 6,
     "metadata": {},
     "output_type": "execute_result"
    }
   ],
   "source": [
    "metadata.columns"
   ]
  },
  {
   "cell_type": "markdown",
   "id": "a73da7d6-3b7c-4bdc-b701-1870e17cf88c",
   "metadata": {},
   "source": [
    "### Create subsets of earthquake-only data (no noise samples)\n",
    "This is done in preparation for later training of regression models to predict earthquake parameters."
   ]
  },
  {
   "cell_type": "code",
   "execution_count": 7,
   "id": "9548d2e1-e228-4bd9-930b-0c6f9fddf6d3",
   "metadata": {},
   "outputs": [],
   "source": [
    "earthquakes_indices = np.array(list(metadata[metadata['trace_category']=='earthquake_local'].index))\n",
    "raw_signals_earthquakes_only = raw_signals[earthquakes_indices]\n",
    "waveform_imgs_earthquakes_only = waveform_imgs[earthquakes_indices]\n",
    "spectrogram_imgs_earthquakes_only = spectrogram_imgs[earthquakes_indices]\n",
    "metadata_earthquakes_only = metadata[metadata['trace_category']=='earthquake_local']"
   ]
  },
  {
   "cell_type": "markdown",
   "id": "2626554c-56e0-4d0c-a5e8-f585f115ea5f",
   "metadata": {},
   "source": [
    "### Create labels for the classification model"
   ]
  },
  {
   "cell_type": "code",
   "execution_count": 8,
   "id": "5dfdcb99-8e9c-4c46-a352-96ec67a5790c",
   "metadata": {},
   "outputs": [],
   "source": [
    "metadata['label'] = [1 if label=='earthquake_local' else 0 for label in metadata['trace_category']]\n",
    "classifier_labels = metadata['label'].values"
   ]
  },
  {
   "cell_type": "code",
   "execution_count": 9,
   "id": "b9464d4c-9530-4a03-a497-7681b6d8040b",
   "metadata": {},
   "outputs": [
    {
     "data": {
      "text/plain": [
       "array([1, 1, 1, ..., 0, 0, 0])"
      ]
     },
     "execution_count": 9,
     "metadata": {},
     "output_type": "execute_result"
    }
   ],
   "source": [
    "classifier_labels"
   ]
  },
  {
   "cell_type": "markdown",
   "id": "eef82b48-1e52-4b1e-b730-4656eea55543",
   "metadata": {},
   "source": [
    "### Parameter setup"
   ]
  },
  {
   "cell_type": "code",
   "execution_count": 10,
   "id": "49a7c6e7-d699-4b76-a816-4ccf176dd6cc",
   "metadata": {},
   "outputs": [],
   "source": [
    "spectrogram_kwargs = {'image_size' : (150,100)}\n",
    "waveform_kwargs = {'image_size' : (300,100)}"
   ]
  },
  {
   "cell_type": "markdown",
   "id": "fd86600c-21f4-4ce1-9dd3-6742960408e3",
   "metadata": {},
   "source": [
    "## Model training & evaluation"
   ]
  },
  {
   "cell_type": "markdown",
   "id": "309e3e0d-70e0-49a5-9eef-16e216778df1",
   "metadata": {},
   "source": [
    "### 1. Classification CNN model training & evaluation to predict whether signals are 'earthquake' or 'noise'"
   ]
  },
  {
   "cell_type": "code",
   "execution_count": 14,
   "id": "d05c9942-a712-454a-a56d-61e8ec084e77",
   "metadata": {},
   "outputs": [
    {
     "name": "stdout",
     "output_type": "stream",
     "text": [
      "Epoch 1/100\n",
      "\u001b[1m2000/2000\u001b[0m \u001b[32m━━━━━━━━━━━━━━━━━━━━\u001b[0m\u001b[37m\u001b[0m \u001b[1m411s\u001b[0m 202ms/step - accuracy: 0.9330 - loss: 0.1894 - val_accuracy: 0.9716 - val_loss: 0.0723 - learning_rate: 1.0000e-05\n",
      "Epoch 2/100\n",
      "\u001b[1m 403/2000\u001b[0m \u001b[32m━━━━\u001b[0m\u001b[37m━━━━━━━━━━━━━━━━\u001b[0m \u001b[1m5:13\u001b[0m 196ms/step - accuracy: 0.9773 - loss: 0.0679"
     ]
    },
    {
     "ename": "KeyboardInterrupt",
     "evalue": "",
     "output_type": "error",
     "traceback": [
      "\u001b[0;31m---------------------------------------------------------------------------\u001b[0m",
      "\u001b[0;31mKeyboardInterrupt\u001b[0m                         Traceback (most recent call last)",
      "Cell \u001b[0;32mIn[14], line 8\u001b[0m\n\u001b[1;32m      6\u001b[0m train_dataset_c, val_dataset_c, test_dataset_c \u001b[38;5;241m=\u001b[39m training_utils\u001b[38;5;241m.\u001b[39mprepare_datasets(imgs\u001b[38;5;241m=\u001b[39mspectrogram_imgs, labels\u001b[38;5;241m=\u001b[39mclassifier_labels, preproc_func\u001b[38;5;241m=\u001b[39marchitectures\u001b[38;5;241m.\u001b[39mimage_preprocessing, preproc_func_kwargs\u001b[38;5;241m=\u001b[39mspectrogram_kwargs, batch_size\u001b[38;5;241m=\u001b[39m\u001b[38;5;241m32\u001b[39m)\n\u001b[1;32m      7\u001b[0m classifier_model \u001b[38;5;241m=\u001b[39m architectures\u001b[38;5;241m.\u001b[39mbuild_compile_classification_cnn(learning_rate\u001b[38;5;241m=\u001b[39m\u001b[38;5;241m1e-5\u001b[39m, loss\u001b[38;5;241m=\u001b[39m\u001b[38;5;124m'\u001b[39m\u001b[38;5;124mbinary_crossentropy\u001b[39m\u001b[38;5;124m'\u001b[39m, metrics\u001b[38;5;241m=\u001b[39m[\u001b[38;5;124m'\u001b[39m\u001b[38;5;124maccuracy\u001b[39m\u001b[38;5;124m'\u001b[39m])\n\u001b[0;32m----> 8\u001b[0m classifier_history \u001b[38;5;241m=\u001b[39m \u001b[43mclassifier_model\u001b[49m\u001b[38;5;241;43m.\u001b[39;49m\u001b[43mfit\u001b[49m\u001b[43m(\u001b[49m\u001b[43mtrain_dataset_c\u001b[49m\u001b[43m,\u001b[49m\u001b[43m \u001b[49m\u001b[43mepochs\u001b[49m\u001b[38;5;241;43m=\u001b[39;49m\u001b[43mepochs\u001b[49m\u001b[43m,\u001b[49m\u001b[43m \u001b[49m\u001b[43mcallbacks\u001b[49m\u001b[38;5;241;43m=\u001b[39;49m\u001b[43mcallbacks_c\u001b[49m\u001b[43m,\u001b[49m\u001b[43m \u001b[49m\u001b[43mvalidation_data\u001b[49m\u001b[38;5;241;43m=\u001b[39;49m\u001b[43mval_dataset_c\u001b[49m\u001b[43m)\u001b[49m\n\u001b[1;32m     10\u001b[0m \u001b[38;5;66;03m# Evaluate model and plot results\u001b[39;00m\n\u001b[1;32m     11\u001b[0m training_utils\u001b[38;5;241m.\u001b[39mevaluate_classification_model(classifier_model, train_dataset_c, test_dataset_c)\n",
      "File \u001b[0;32m/opt/miniconda3/envs/earthquake-detection/lib/python3.12/site-packages/keras/src/utils/traceback_utils.py:117\u001b[0m, in \u001b[0;36mfilter_traceback.<locals>.error_handler\u001b[0;34m(*args, **kwargs)\u001b[0m\n\u001b[1;32m    115\u001b[0m filtered_tb \u001b[38;5;241m=\u001b[39m \u001b[38;5;28;01mNone\u001b[39;00m\n\u001b[1;32m    116\u001b[0m \u001b[38;5;28;01mtry\u001b[39;00m:\n\u001b[0;32m--> 117\u001b[0m     \u001b[38;5;28;01mreturn\u001b[39;00m \u001b[43mfn\u001b[49m\u001b[43m(\u001b[49m\u001b[38;5;241;43m*\u001b[39;49m\u001b[43margs\u001b[49m\u001b[43m,\u001b[49m\u001b[43m \u001b[49m\u001b[38;5;241;43m*\u001b[39;49m\u001b[38;5;241;43m*\u001b[39;49m\u001b[43mkwargs\u001b[49m\u001b[43m)\u001b[49m\n\u001b[1;32m    118\u001b[0m \u001b[38;5;28;01mexcept\u001b[39;00m \u001b[38;5;167;01mException\u001b[39;00m \u001b[38;5;28;01mas\u001b[39;00m e:\n\u001b[1;32m    119\u001b[0m     filtered_tb \u001b[38;5;241m=\u001b[39m _process_traceback_frames(e\u001b[38;5;241m.\u001b[39m__traceback__)\n",
      "File \u001b[0;32m/opt/miniconda3/envs/earthquake-detection/lib/python3.12/site-packages/keras/src/backend/tensorflow/trainer.py:320\u001b[0m, in \u001b[0;36mTensorFlowTrainer.fit\u001b[0;34m(self, x, y, batch_size, epochs, verbose, callbacks, validation_split, validation_data, shuffle, class_weight, sample_weight, initial_epoch, steps_per_epoch, validation_steps, validation_batch_size, validation_freq)\u001b[0m\n\u001b[1;32m    318\u001b[0m \u001b[38;5;28;01mfor\u001b[39;00m step, iterator \u001b[38;5;129;01min\u001b[39;00m epoch_iterator\u001b[38;5;241m.\u001b[39menumerate_epoch():\n\u001b[1;32m    319\u001b[0m     callbacks\u001b[38;5;241m.\u001b[39mon_train_batch_begin(step)\n\u001b[0;32m--> 320\u001b[0m     logs \u001b[38;5;241m=\u001b[39m \u001b[38;5;28;43mself\u001b[39;49m\u001b[38;5;241;43m.\u001b[39;49m\u001b[43mtrain_function\u001b[49m\u001b[43m(\u001b[49m\u001b[43miterator\u001b[49m\u001b[43m)\u001b[49m\n\u001b[1;32m    321\u001b[0m     callbacks\u001b[38;5;241m.\u001b[39mon_train_batch_end(step, logs)\n\u001b[1;32m    322\u001b[0m     \u001b[38;5;28;01mif\u001b[39;00m \u001b[38;5;28mself\u001b[39m\u001b[38;5;241m.\u001b[39mstop_training:\n",
      "File \u001b[0;32m/opt/miniconda3/envs/earthquake-detection/lib/python3.12/site-packages/tensorflow/python/util/traceback_utils.py:150\u001b[0m, in \u001b[0;36mfilter_traceback.<locals>.error_handler\u001b[0;34m(*args, **kwargs)\u001b[0m\n\u001b[1;32m    148\u001b[0m filtered_tb \u001b[38;5;241m=\u001b[39m \u001b[38;5;28;01mNone\u001b[39;00m\n\u001b[1;32m    149\u001b[0m \u001b[38;5;28;01mtry\u001b[39;00m:\n\u001b[0;32m--> 150\u001b[0m   \u001b[38;5;28;01mreturn\u001b[39;00m \u001b[43mfn\u001b[49m\u001b[43m(\u001b[49m\u001b[38;5;241;43m*\u001b[39;49m\u001b[43margs\u001b[49m\u001b[43m,\u001b[49m\u001b[43m \u001b[49m\u001b[38;5;241;43m*\u001b[39;49m\u001b[38;5;241;43m*\u001b[39;49m\u001b[43mkwargs\u001b[49m\u001b[43m)\u001b[49m\n\u001b[1;32m    151\u001b[0m \u001b[38;5;28;01mexcept\u001b[39;00m \u001b[38;5;167;01mException\u001b[39;00m \u001b[38;5;28;01mas\u001b[39;00m e:\n\u001b[1;32m    152\u001b[0m   filtered_tb \u001b[38;5;241m=\u001b[39m _process_traceback_frames(e\u001b[38;5;241m.\u001b[39m__traceback__)\n",
      "File \u001b[0;32m/opt/miniconda3/envs/earthquake-detection/lib/python3.12/site-packages/tensorflow/python/eager/polymorphic_function/polymorphic_function.py:833\u001b[0m, in \u001b[0;36mFunction.__call__\u001b[0;34m(self, *args, **kwds)\u001b[0m\n\u001b[1;32m    830\u001b[0m compiler \u001b[38;5;241m=\u001b[39m \u001b[38;5;124m\"\u001b[39m\u001b[38;5;124mxla\u001b[39m\u001b[38;5;124m\"\u001b[39m \u001b[38;5;28;01mif\u001b[39;00m \u001b[38;5;28mself\u001b[39m\u001b[38;5;241m.\u001b[39m_jit_compile \u001b[38;5;28;01melse\u001b[39;00m \u001b[38;5;124m\"\u001b[39m\u001b[38;5;124mnonXla\u001b[39m\u001b[38;5;124m\"\u001b[39m\n\u001b[1;32m    832\u001b[0m \u001b[38;5;28;01mwith\u001b[39;00m OptionalXlaContext(\u001b[38;5;28mself\u001b[39m\u001b[38;5;241m.\u001b[39m_jit_compile):\n\u001b[0;32m--> 833\u001b[0m   result \u001b[38;5;241m=\u001b[39m \u001b[38;5;28;43mself\u001b[39;49m\u001b[38;5;241;43m.\u001b[39;49m\u001b[43m_call\u001b[49m\u001b[43m(\u001b[49m\u001b[38;5;241;43m*\u001b[39;49m\u001b[43margs\u001b[49m\u001b[43m,\u001b[49m\u001b[43m \u001b[49m\u001b[38;5;241;43m*\u001b[39;49m\u001b[38;5;241;43m*\u001b[39;49m\u001b[43mkwds\u001b[49m\u001b[43m)\u001b[49m\n\u001b[1;32m    835\u001b[0m new_tracing_count \u001b[38;5;241m=\u001b[39m \u001b[38;5;28mself\u001b[39m\u001b[38;5;241m.\u001b[39mexperimental_get_tracing_count()\n\u001b[1;32m    836\u001b[0m without_tracing \u001b[38;5;241m=\u001b[39m (tracing_count \u001b[38;5;241m==\u001b[39m new_tracing_count)\n",
      "File \u001b[0;32m/opt/miniconda3/envs/earthquake-detection/lib/python3.12/site-packages/tensorflow/python/eager/polymorphic_function/polymorphic_function.py:878\u001b[0m, in \u001b[0;36mFunction._call\u001b[0;34m(self, *args, **kwds)\u001b[0m\n\u001b[1;32m    875\u001b[0m \u001b[38;5;28mself\u001b[39m\u001b[38;5;241m.\u001b[39m_lock\u001b[38;5;241m.\u001b[39mrelease()\n\u001b[1;32m    876\u001b[0m \u001b[38;5;66;03m# In this case we have not created variables on the first call. So we can\u001b[39;00m\n\u001b[1;32m    877\u001b[0m \u001b[38;5;66;03m# run the first trace but we should fail if variables are created.\u001b[39;00m\n\u001b[0;32m--> 878\u001b[0m results \u001b[38;5;241m=\u001b[39m \u001b[43mtracing_compilation\u001b[49m\u001b[38;5;241;43m.\u001b[39;49m\u001b[43mcall_function\u001b[49m\u001b[43m(\u001b[49m\n\u001b[1;32m    879\u001b[0m \u001b[43m    \u001b[49m\u001b[43margs\u001b[49m\u001b[43m,\u001b[49m\u001b[43m \u001b[49m\u001b[43mkwds\u001b[49m\u001b[43m,\u001b[49m\u001b[43m \u001b[49m\u001b[38;5;28;43mself\u001b[39;49m\u001b[38;5;241;43m.\u001b[39;49m\u001b[43m_variable_creation_config\u001b[49m\n\u001b[1;32m    880\u001b[0m \u001b[43m\u001b[49m\u001b[43m)\u001b[49m\n\u001b[1;32m    881\u001b[0m \u001b[38;5;28;01mif\u001b[39;00m \u001b[38;5;28mself\u001b[39m\u001b[38;5;241m.\u001b[39m_created_variables:\n\u001b[1;32m    882\u001b[0m   \u001b[38;5;28;01mraise\u001b[39;00m \u001b[38;5;167;01mValueError\u001b[39;00m(\u001b[38;5;124m\"\u001b[39m\u001b[38;5;124mCreating variables on a non-first call to a function\u001b[39m\u001b[38;5;124m\"\u001b[39m\n\u001b[1;32m    883\u001b[0m                    \u001b[38;5;124m\"\u001b[39m\u001b[38;5;124m decorated with tf.function.\u001b[39m\u001b[38;5;124m\"\u001b[39m)\n",
      "File \u001b[0;32m/opt/miniconda3/envs/earthquake-detection/lib/python3.12/site-packages/tensorflow/python/eager/polymorphic_function/tracing_compilation.py:139\u001b[0m, in \u001b[0;36mcall_function\u001b[0;34m(args, kwargs, tracing_options)\u001b[0m\n\u001b[1;32m    137\u001b[0m bound_args \u001b[38;5;241m=\u001b[39m function\u001b[38;5;241m.\u001b[39mfunction_type\u001b[38;5;241m.\u001b[39mbind(\u001b[38;5;241m*\u001b[39margs, \u001b[38;5;241m*\u001b[39m\u001b[38;5;241m*\u001b[39mkwargs)\n\u001b[1;32m    138\u001b[0m flat_inputs \u001b[38;5;241m=\u001b[39m function\u001b[38;5;241m.\u001b[39mfunction_type\u001b[38;5;241m.\u001b[39munpack_inputs(bound_args)\n\u001b[0;32m--> 139\u001b[0m \u001b[38;5;28;01mreturn\u001b[39;00m \u001b[43mfunction\u001b[49m\u001b[38;5;241;43m.\u001b[39;49m\u001b[43m_call_flat\u001b[49m\u001b[43m(\u001b[49m\u001b[43m  \u001b[49m\u001b[38;5;66;43;03m# pylint: disable=protected-access\u001b[39;49;00m\n\u001b[1;32m    140\u001b[0m \u001b[43m    \u001b[49m\u001b[43mflat_inputs\u001b[49m\u001b[43m,\u001b[49m\u001b[43m \u001b[49m\u001b[43mcaptured_inputs\u001b[49m\u001b[38;5;241;43m=\u001b[39;49m\u001b[43mfunction\u001b[49m\u001b[38;5;241;43m.\u001b[39;49m\u001b[43mcaptured_inputs\u001b[49m\n\u001b[1;32m    141\u001b[0m \u001b[43m\u001b[49m\u001b[43m)\u001b[49m\n",
      "File \u001b[0;32m/opt/miniconda3/envs/earthquake-detection/lib/python3.12/site-packages/tensorflow/python/eager/polymorphic_function/concrete_function.py:1322\u001b[0m, in \u001b[0;36mConcreteFunction._call_flat\u001b[0;34m(self, tensor_inputs, captured_inputs)\u001b[0m\n\u001b[1;32m   1318\u001b[0m possible_gradient_type \u001b[38;5;241m=\u001b[39m gradients_util\u001b[38;5;241m.\u001b[39mPossibleTapeGradientTypes(args)\n\u001b[1;32m   1319\u001b[0m \u001b[38;5;28;01mif\u001b[39;00m (possible_gradient_type \u001b[38;5;241m==\u001b[39m gradients_util\u001b[38;5;241m.\u001b[39mPOSSIBLE_GRADIENT_TYPES_NONE\n\u001b[1;32m   1320\u001b[0m     \u001b[38;5;129;01mand\u001b[39;00m executing_eagerly):\n\u001b[1;32m   1321\u001b[0m   \u001b[38;5;66;03m# No tape is watching; skip to running the function.\u001b[39;00m\n\u001b[0;32m-> 1322\u001b[0m   \u001b[38;5;28;01mreturn\u001b[39;00m \u001b[38;5;28;43mself\u001b[39;49m\u001b[38;5;241;43m.\u001b[39;49m\u001b[43m_inference_function\u001b[49m\u001b[38;5;241;43m.\u001b[39;49m\u001b[43mcall_preflattened\u001b[49m\u001b[43m(\u001b[49m\u001b[43margs\u001b[49m\u001b[43m)\u001b[49m\n\u001b[1;32m   1323\u001b[0m forward_backward \u001b[38;5;241m=\u001b[39m \u001b[38;5;28mself\u001b[39m\u001b[38;5;241m.\u001b[39m_select_forward_and_backward_functions(\n\u001b[1;32m   1324\u001b[0m     args,\n\u001b[1;32m   1325\u001b[0m     possible_gradient_type,\n\u001b[1;32m   1326\u001b[0m     executing_eagerly)\n\u001b[1;32m   1327\u001b[0m forward_function, args_with_tangents \u001b[38;5;241m=\u001b[39m forward_backward\u001b[38;5;241m.\u001b[39mforward()\n",
      "File \u001b[0;32m/opt/miniconda3/envs/earthquake-detection/lib/python3.12/site-packages/tensorflow/python/eager/polymorphic_function/atomic_function.py:216\u001b[0m, in \u001b[0;36mAtomicFunction.call_preflattened\u001b[0;34m(self, args)\u001b[0m\n\u001b[1;32m    214\u001b[0m \u001b[38;5;28;01mdef\u001b[39;00m\u001b[38;5;250m \u001b[39m\u001b[38;5;21mcall_preflattened\u001b[39m(\u001b[38;5;28mself\u001b[39m, args: Sequence[core\u001b[38;5;241m.\u001b[39mTensor]) \u001b[38;5;241m-\u001b[39m\u001b[38;5;241m>\u001b[39m Any:\n\u001b[1;32m    215\u001b[0m \u001b[38;5;250m  \u001b[39m\u001b[38;5;124;03m\"\"\"Calls with flattened tensor inputs and returns the structured output.\"\"\"\u001b[39;00m\n\u001b[0;32m--> 216\u001b[0m   flat_outputs \u001b[38;5;241m=\u001b[39m \u001b[38;5;28;43mself\u001b[39;49m\u001b[38;5;241;43m.\u001b[39;49m\u001b[43mcall_flat\u001b[49m\u001b[43m(\u001b[49m\u001b[38;5;241;43m*\u001b[39;49m\u001b[43margs\u001b[49m\u001b[43m)\u001b[49m\n\u001b[1;32m    217\u001b[0m   \u001b[38;5;28;01mreturn\u001b[39;00m \u001b[38;5;28mself\u001b[39m\u001b[38;5;241m.\u001b[39mfunction_type\u001b[38;5;241m.\u001b[39mpack_output(flat_outputs)\n",
      "File \u001b[0;32m/opt/miniconda3/envs/earthquake-detection/lib/python3.12/site-packages/tensorflow/python/eager/polymorphic_function/atomic_function.py:251\u001b[0m, in \u001b[0;36mAtomicFunction.call_flat\u001b[0;34m(self, *args)\u001b[0m\n\u001b[1;32m    249\u001b[0m \u001b[38;5;28;01mwith\u001b[39;00m record\u001b[38;5;241m.\u001b[39mstop_recording():\n\u001b[1;32m    250\u001b[0m   \u001b[38;5;28;01mif\u001b[39;00m \u001b[38;5;28mself\u001b[39m\u001b[38;5;241m.\u001b[39m_bound_context\u001b[38;5;241m.\u001b[39mexecuting_eagerly():\n\u001b[0;32m--> 251\u001b[0m     outputs \u001b[38;5;241m=\u001b[39m \u001b[38;5;28;43mself\u001b[39;49m\u001b[38;5;241;43m.\u001b[39;49m\u001b[43m_bound_context\u001b[49m\u001b[38;5;241;43m.\u001b[39;49m\u001b[43mcall_function\u001b[49m\u001b[43m(\u001b[49m\n\u001b[1;32m    252\u001b[0m \u001b[43m        \u001b[49m\u001b[38;5;28;43mself\u001b[39;49m\u001b[38;5;241;43m.\u001b[39;49m\u001b[43mname\u001b[49m\u001b[43m,\u001b[49m\n\u001b[1;32m    253\u001b[0m \u001b[43m        \u001b[49m\u001b[38;5;28;43mlist\u001b[39;49m\u001b[43m(\u001b[49m\u001b[43margs\u001b[49m\u001b[43m)\u001b[49m\u001b[43m,\u001b[49m\n\u001b[1;32m    254\u001b[0m \u001b[43m        \u001b[49m\u001b[38;5;28;43mlen\u001b[39;49m\u001b[43m(\u001b[49m\u001b[38;5;28;43mself\u001b[39;49m\u001b[38;5;241;43m.\u001b[39;49m\u001b[43mfunction_type\u001b[49m\u001b[38;5;241;43m.\u001b[39;49m\u001b[43mflat_outputs\u001b[49m\u001b[43m)\u001b[49m\u001b[43m,\u001b[49m\n\u001b[1;32m    255\u001b[0m \u001b[43m    \u001b[49m\u001b[43m)\u001b[49m\n\u001b[1;32m    256\u001b[0m   \u001b[38;5;28;01melse\u001b[39;00m:\n\u001b[1;32m    257\u001b[0m     outputs \u001b[38;5;241m=\u001b[39m make_call_op_in_graph(\n\u001b[1;32m    258\u001b[0m         \u001b[38;5;28mself\u001b[39m,\n\u001b[1;32m    259\u001b[0m         \u001b[38;5;28mlist\u001b[39m(args),\n\u001b[1;32m    260\u001b[0m         \u001b[38;5;28mself\u001b[39m\u001b[38;5;241m.\u001b[39m_bound_context\u001b[38;5;241m.\u001b[39mfunction_call_options\u001b[38;5;241m.\u001b[39mas_attrs(),\n\u001b[1;32m    261\u001b[0m     )\n",
      "File \u001b[0;32m/opt/miniconda3/envs/earthquake-detection/lib/python3.12/site-packages/tensorflow/python/eager/context.py:1552\u001b[0m, in \u001b[0;36mContext.call_function\u001b[0;34m(self, name, tensor_inputs, num_outputs)\u001b[0m\n\u001b[1;32m   1550\u001b[0m cancellation_context \u001b[38;5;241m=\u001b[39m cancellation\u001b[38;5;241m.\u001b[39mcontext()\n\u001b[1;32m   1551\u001b[0m \u001b[38;5;28;01mif\u001b[39;00m cancellation_context \u001b[38;5;129;01mis\u001b[39;00m \u001b[38;5;28;01mNone\u001b[39;00m:\n\u001b[0;32m-> 1552\u001b[0m   outputs \u001b[38;5;241m=\u001b[39m \u001b[43mexecute\u001b[49m\u001b[38;5;241;43m.\u001b[39;49m\u001b[43mexecute\u001b[49m\u001b[43m(\u001b[49m\n\u001b[1;32m   1553\u001b[0m \u001b[43m      \u001b[49m\u001b[43mname\u001b[49m\u001b[38;5;241;43m.\u001b[39;49m\u001b[43mdecode\u001b[49m\u001b[43m(\u001b[49m\u001b[38;5;124;43m\"\u001b[39;49m\u001b[38;5;124;43mutf-8\u001b[39;49m\u001b[38;5;124;43m\"\u001b[39;49m\u001b[43m)\u001b[49m\u001b[43m,\u001b[49m\n\u001b[1;32m   1554\u001b[0m \u001b[43m      \u001b[49m\u001b[43mnum_outputs\u001b[49m\u001b[38;5;241;43m=\u001b[39;49m\u001b[43mnum_outputs\u001b[49m\u001b[43m,\u001b[49m\n\u001b[1;32m   1555\u001b[0m \u001b[43m      \u001b[49m\u001b[43minputs\u001b[49m\u001b[38;5;241;43m=\u001b[39;49m\u001b[43mtensor_inputs\u001b[49m\u001b[43m,\u001b[49m\n\u001b[1;32m   1556\u001b[0m \u001b[43m      \u001b[49m\u001b[43mattrs\u001b[49m\u001b[38;5;241;43m=\u001b[39;49m\u001b[43mattrs\u001b[49m\u001b[43m,\u001b[49m\n\u001b[1;32m   1557\u001b[0m \u001b[43m      \u001b[49m\u001b[43mctx\u001b[49m\u001b[38;5;241;43m=\u001b[39;49m\u001b[38;5;28;43mself\u001b[39;49m\u001b[43m,\u001b[49m\n\u001b[1;32m   1558\u001b[0m \u001b[43m  \u001b[49m\u001b[43m)\u001b[49m\n\u001b[1;32m   1559\u001b[0m \u001b[38;5;28;01melse\u001b[39;00m:\n\u001b[1;32m   1560\u001b[0m   outputs \u001b[38;5;241m=\u001b[39m execute\u001b[38;5;241m.\u001b[39mexecute_with_cancellation(\n\u001b[1;32m   1561\u001b[0m       name\u001b[38;5;241m.\u001b[39mdecode(\u001b[38;5;124m\"\u001b[39m\u001b[38;5;124mutf-8\u001b[39m\u001b[38;5;124m\"\u001b[39m),\n\u001b[1;32m   1562\u001b[0m       num_outputs\u001b[38;5;241m=\u001b[39mnum_outputs,\n\u001b[0;32m   (...)\u001b[0m\n\u001b[1;32m   1566\u001b[0m       cancellation_manager\u001b[38;5;241m=\u001b[39mcancellation_context,\n\u001b[1;32m   1567\u001b[0m   )\n",
      "File \u001b[0;32m/opt/miniconda3/envs/earthquake-detection/lib/python3.12/site-packages/tensorflow/python/eager/execute.py:53\u001b[0m, in \u001b[0;36mquick_execute\u001b[0;34m(op_name, num_outputs, inputs, attrs, ctx, name)\u001b[0m\n\u001b[1;32m     51\u001b[0m \u001b[38;5;28;01mtry\u001b[39;00m:\n\u001b[1;32m     52\u001b[0m   ctx\u001b[38;5;241m.\u001b[39mensure_initialized()\n\u001b[0;32m---> 53\u001b[0m   tensors \u001b[38;5;241m=\u001b[39m \u001b[43mpywrap_tfe\u001b[49m\u001b[38;5;241;43m.\u001b[39;49m\u001b[43mTFE_Py_Execute\u001b[49m\u001b[43m(\u001b[49m\u001b[43mctx\u001b[49m\u001b[38;5;241;43m.\u001b[39;49m\u001b[43m_handle\u001b[49m\u001b[43m,\u001b[49m\u001b[43m \u001b[49m\u001b[43mdevice_name\u001b[49m\u001b[43m,\u001b[49m\u001b[43m \u001b[49m\u001b[43mop_name\u001b[49m\u001b[43m,\u001b[49m\n\u001b[1;32m     54\u001b[0m \u001b[43m                                      \u001b[49m\u001b[43minputs\u001b[49m\u001b[43m,\u001b[49m\u001b[43m \u001b[49m\u001b[43mattrs\u001b[49m\u001b[43m,\u001b[49m\u001b[43m \u001b[49m\u001b[43mnum_outputs\u001b[49m\u001b[43m)\u001b[49m\n\u001b[1;32m     55\u001b[0m \u001b[38;5;28;01mexcept\u001b[39;00m core\u001b[38;5;241m.\u001b[39m_NotOkStatusException \u001b[38;5;28;01mas\u001b[39;00m e:\n\u001b[1;32m     56\u001b[0m   \u001b[38;5;28;01mif\u001b[39;00m name \u001b[38;5;129;01mis\u001b[39;00m \u001b[38;5;129;01mnot\u001b[39;00m \u001b[38;5;28;01mNone\u001b[39;00m:\n",
      "\u001b[0;31mKeyboardInterrupt\u001b[0m: "
     ]
    }
   ],
   "source": [
    "# Set up model callbacks\n",
    "epochs = 50\n",
    "callbacks_c = architectures.callbacks_setup(model_tag='cnn_classification', epochs=epochs)\n",
    "\n",
    "# Fit model\n",
    "train_dataset_c, val_dataset_c, test_dataset_c = training_utils.prepare_datasets(imgs=spectrogram_imgs, labels=classifier_labels, preproc_func=architectures.image_preprocessing, preproc_func_kwargs=spectrogram_kwargs, batch_size=32)\n",
    "classifier_model = architectures.build_compile_classification_cnn(learning_rate=1e-5, loss='binary_crossentropy', metrics=['accuracy'])\n",
    "classifier_history = classifier_model.fit(train_dataset_c, epochs=epochs, callbacks=callbacks_c, validation_data=val_dataset_c)\n",
    "\n",
    "# Evaluate model and plot results\n",
    "training_utils.evaluate_classification_model(classifier_model, train_dataset_c, test_dataset_c)\n",
    "training_utils.plot_training_history(classifier_history)\n",
    "classifier_model.summary()"
   ]
  },
  {
   "cell_type": "markdown",
   "id": "29060d09-c566-4ecf-b827-e221ae657ea6",
   "metadata": {},
   "source": [
    "### 2. Regression CNN model training & evaluation to predict earthquake magnitude"
   ]
  },
  {
   "cell_type": "code",
   "execution_count": null,
   "id": "dabdea24-3e73-4b45-a856-af0008e23b14",
   "metadata": {},
   "outputs": [
    {
     "name": "stdout",
     "output_type": "stream",
     "text": [
      "Epoch 1/10\n",
      "\u001b[1m49/51\u001b[0m \u001b[32m━━━━━━━━━━━━━━━━━━━\u001b[0m\u001b[37m━\u001b[0m \u001b[1m0s\u001b[0m 408ms/step - loss: 1.5011 - mae: 0.9406"
     ]
    }
   ],
   "source": [
    "epochs = 20\n",
    "callbacks_mag = architectures.callbacks_setup(model_tag='cnn_regression_magnitude', epochs=epochs)\n",
    "\n",
    "labels = np.array(metadata_earthquakes_only['source_magnitude'])\n",
    "train_dataset_mag, val_dataset_mag, test_dataset_mag = training_utils.prepare_datasets(imgs=spectrogram_imgs_earthquakes_only, labels=labels, preproc_func=architectures.image_preprocessing, preproc_func_kwargs=spectrogram_kwargs, use_scaler=False, batch_size=64)\n",
    "model_magnitude = architectures.build_compile_regression_cnn(learning_rate=1e-5, loss='mse', metrics=['mae'])\n",
    "model_magnitude_history = model_magnitude.fit(train_dataset_mag, epochs=epochs, callbacks=callbacks_mag, validation_data=val_dataset_mag)\n",
    "\n",
    "training_utils.evaluate_regression_model(model_magnitude, train_dataset_mag, test_dataset_mag, 'Source Magnitude', scaler=None)\n",
    "training_utils.plot_training_history(model_magnitude_history)\n",
    "model_magnitude.summary()"
   ]
  },
  {
   "cell_type": "markdown",
   "id": "af6730ce-ab28-41a5-b7f3-886e2b290ff4",
   "metadata": {},
   "source": [
    "### 3. Regression CNN model training & evaluation to predict earthquake P-wave arrival time"
   ]
  },
  {
   "cell_type": "code",
   "execution_count": null,
   "id": "cf83e77e-a387-4934-97ae-d771b0a5cf40",
   "metadata": {},
   "outputs": [
    {
     "name": "stdout",
     "output_type": "stream",
     "text": [
      "Epoch 1/20\n",
      "\u001b[1m1043/1043\u001b[0m \u001b[32m━━━━━━━━━━━━━━━━━━━━\u001b[0m\u001b[37m\u001b[0m \u001b[1m505s\u001b[0m 481ms/step - loss: 179498.4688 - mae: 342.7174 - val_loss: 28870.9668 - val_mae: 145.6681 - learning_rate: 1.0000e-05\n",
      "Epoch 2/20\n",
      "\u001b[1m1043/1043\u001b[0m \u001b[32m━━━━━━━━━━━━━━━━━━━━\u001b[0m\u001b[37m\u001b[0m \u001b[1m504s\u001b[0m 483ms/step - loss: 27804.9785 - mae: 142.7503 - val_loss: 23746.0332 - val_mae: 131.7194 - learning_rate: 1.0000e-05\n",
      "Epoch 3/20\n",
      "\u001b[1m1043/1043\u001b[0m \u001b[32m━━━━━━━━━━━━━━━━━━━━\u001b[0m\u001b[37m\u001b[0m \u001b[1m506s\u001b[0m 485ms/step - loss: 22464.6699 - mae: 127.1566 - val_loss: 18575.5566 - val_mae: 114.3412 - learning_rate: 1.0000e-05\n",
      "Epoch 4/20\n",
      "\u001b[1m1043/1043\u001b[0m \u001b[32m━━━━━━━━━━━━━━━━━━━━\u001b[0m\u001b[37m\u001b[0m \u001b[1m504s\u001b[0m 483ms/step - loss: 17221.2832 - mae: 108.8149 - val_loss: 13950.3750 - val_mae: 95.8813 - learning_rate: 1.0000e-05\n",
      "Epoch 5/20\n",
      "\u001b[1m1043/1043\u001b[0m \u001b[32m━━━━━━━━━━━━━━━━━━━━\u001b[0m\u001b[37m\u001b[0m \u001b[1m503s\u001b[0m 483ms/step - loss: 12956.1826 - mae: 91.2230 - val_loss: 10720.6152 - val_mae: 81.4970 - learning_rate: 1.0000e-05\n",
      "Epoch 6/20\n",
      "\u001b[1m1043/1043\u001b[0m \u001b[32m━━━━━━━━━━━━━━━━━━━━\u001b[0m\u001b[37m\u001b[0m \u001b[1m503s\u001b[0m 483ms/step - loss: 10316.8887 - mae: 78.7707 - val_loss: 9081.8418 - val_mae: 73.0902 - learning_rate: 1.0000e-05\n",
      "Epoch 7/20\n",
      "\u001b[1m 977/1043\u001b[0m \u001b[32m━━━━━━━━━━━━━━━━━━\u001b[0m\u001b[37m━━\u001b[0m \u001b[1m30s\u001b[0m 460ms/step - loss: 8975.5244 - mae: 71.8131"
     ]
    }
   ],
   "source": [
    "# Set up model callbacks\n",
    "epochs = 20\n",
    "callbacks_pwave = architectures.callbacks_setup(model_tag='cnn_regression_pwave', epochs=epochs)\n",
    "\n",
    "# Fit model\n",
    "labels = np.array(metadata_earthquakes_only['p_arrival_sample'])\n",
    "train_dataset_pwave, val_dataset_pwave, test_dataset_pwave = training_utils.prepare_datasets(imgs=waveform_imgs_earthquakes_only, labels=labels, preproc_func=architectures.image_preprocessing, preproc_func_kwargs=waveform_kwargs, use_scaler=False, batch_size=32)\n",
    "model_pwave = architectures.build_compile_regression_cnn(learning_rate=1e-5, loss='mse', metrics=['mae'])\n",
    "model_pwave_history = model_pwave.fit(train_dataset_pwave, epochs=epochs, callbacks=callbacks_pwave, validation_data=val_dataset_pwave)\n",
    "\n",
    "# Evaluate model\n",
    "training_utils.evaluate_regression_model(model_pwave, train_dataset_pwave, test_dataset_pwave, 'P-Wave Arrival', scaler=None)\n",
    "training_utils.plot_training_history(model_pwave_history)\n",
    "model_pwave.summary()"
   ]
  },
  {
   "cell_type": "markdown",
   "id": "3753e628-2f5e-4ea3-b1e3-0255a95aa6a2",
   "metadata": {},
   "source": [
    "### 4. Regression CNN model training & evaluation to predict earthquake S-wave arrival time"
   ]
  },
  {
   "cell_type": "code",
   "execution_count": null,
   "id": "e2bcfbf8-71e9-4dd6-a8d0-7b435d6e8d22",
   "metadata": {},
   "outputs": [],
   "source": [
    "# Set up model callbacks\n",
    "epochs = 20\n",
    "callbacks_swave = architectures.callbacks_setup(model_tag='cnn_regression_swave', epochs=epochs)\n",
    "\n",
    "# Fit model\n",
    "labels = np.array(metadata_earthquakes_only['s_arrival_sample'])\n",
    "train_dataset_swave, val_dataset_swave, test_dataset_swave = training_utils.prepare_datasets(imgs=waveform_imgs_earthquakes_only, labels=labels, preproc_func=architectures.image_preprocessing, preproc_func_kwargs=waveform_kwargs, use_scaler=False, batch_size=32)\n",
    "model_swave = architectures.build_compile_regression_cnn(learning_rate=1e-5, loss='mse', metrics=['mae'])\n",
    "model_swave_history = model_swave.fit(train_dataset_swave, epochs=epochs, callbacks=callbacks_swave, validation_data=val_dataset_swave)\n",
    "\n",
    "# Evaluate model\n",
    "training_utils.evaluate_regression_model(model_swave, train_dataset_swave, test_dataset_swave, 'S-Wave Arrival', scaler=None)\n",
    "training_utils.plot_training_history(model_swave_history)\n",
    "model_swave.summary()"
   ]
  }
 ],
 "metadata": {
  "kernelspec": {
   "display_name": "earthquake-detection",
   "language": "python",
   "name": "earthquake-detection"
  },
  "language_info": {
   "codemirror_mode": {
    "name": "ipython",
    "version": 3
   },
   "file_extension": ".py",
   "mimetype": "text/x-python",
   "name": "python",
   "nbconvert_exporter": "python",
   "pygments_lexer": "ipython3",
   "version": "3.12.8"
  }
 },
 "nbformat": 4,
 "nbformat_minor": 5
}
